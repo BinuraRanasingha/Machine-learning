{
 "cells": [
  {
   "cell_type": "markdown",
   "id": "726b9cef-bc98-46d5-87ea-32f9c7010a49",
   "metadata": {},
   "source": [
    "# Variables in Tensorflow"
   ]
  },
  {
   "cell_type": "code",
   "execution_count": 1,
   "id": "edacd79c-640a-431e-aee3-04e45eef5265",
   "metadata": {},
   "outputs": [],
   "source": [
    "import tensorflow as tf"
   ]
  },
  {
   "cell_type": "code",
   "execution_count": 2,
   "id": "93984561-3bf9-4f10-9974-5c5fae7e72d0",
   "metadata": {},
   "outputs": [],
   "source": [
    "# Disable eager execution\n",
    "tf.compat.v1.disable_eager_execution()"
   ]
  },
  {
   "cell_type": "code",
   "execution_count": 3,
   "id": "70072fc9-a934-401e-a408-26fc14e1f7ab",
   "metadata": {},
   "outputs": [],
   "source": [
    "zero = tf.Variable(0) #This is a variable"
   ]
  },
  {
   "cell_type": "code",
   "execution_count": 4,
   "id": "ba723a22-5b2b-4a68-8136-19314c0a0613",
   "metadata": {},
   "outputs": [],
   "source": [
    "one = tf.constant(1) #This is a constant"
   ]
  },
  {
   "cell_type": "code",
   "execution_count": 5,
   "id": "943811be-1a3e-44fc-8e0a-86a1bb1a8c35",
   "metadata": {},
   "outputs": [],
   "source": [
    "new_value = tf.add(zero, one)"
   ]
  },
  {
   "cell_type": "code",
   "execution_count": 6,
   "id": "28a11ba7-62c9-4b2a-888e-74f05cf0aba4",
   "metadata": {},
   "outputs": [],
   "source": [
    "update = tf.compat.v1.assign(zero, new_value) #Variable value can be changed."
   ]
  },
  {
   "cell_type": "markdown",
   "id": "02f0d02a-40c3-4c6f-89cf-2d50da9c2d4e",
   "metadata": {},
   "source": [
    "* We cannot update the value of the constant and when we try to do that; tensorflow throws an error."
   ]
  },
  {
   "cell_type": "code",
   "execution_count": 7,
   "id": "524c8938-aef8-442b-af21-db7e9ceec5cd",
   "metadata": {},
   "outputs": [],
   "source": [
    "init_op = tf.compat.v1.global_variables_initializer()"
   ]
  },
  {
   "cell_type": "code",
   "execution_count": 8,
   "id": "36df446e-bca0-4005-8afb-5d17f793e87c",
   "metadata": {},
   "outputs": [],
   "source": [
    "sess = tf.compat.v1.Session()"
   ]
  },
  {
   "cell_type": "code",
   "execution_count": 9,
   "id": "2445af40-8d86-453d-ae7b-e7b3b7e1a781",
   "metadata": {},
   "outputs": [],
   "source": [
    "sess.run(init_op) #Initializing the variables"
   ]
  },
  {
   "cell_type": "code",
   "execution_count": 10,
   "id": "2f340ccb-9377-497a-a51c-2feb1e20b5d6",
   "metadata": {},
   "outputs": [
    {
     "name": "stdout",
     "output_type": "stream",
     "text": [
      "0\n"
     ]
    }
   ],
   "source": [
    "print(sess.run(zero))"
   ]
  },
  {
   "cell_type": "code",
   "execution_count": 11,
   "id": "09ca6e51-3aaf-4a7b-82da-74d53d0485cd",
   "metadata": {},
   "outputs": [
    {
     "name": "stdout",
     "output_type": "stream",
     "text": [
      "1\n",
      "2\n",
      "3\n",
      "4\n",
      "5\n"
     ]
    }
   ],
   "source": [
    "for _ in range(5):\n",
    "    sess.run(update)\n",
    "    print(sess.run(zero))"
   ]
  },
  {
   "cell_type": "markdown",
   "id": "52ea0b3c-b51f-4548-8187-46a2ff7cfe33",
   "metadata": {},
   "source": [
    "* The underscore **_** is commonly used as a variable name in Python when the variable is only needed temporarily and its value is not going to be used. In other words, it's a convention to indicate that the value assigned to _ will be ignored. This is especially useful in loops and unpacking where the variable's value is not important for the logic of the code."
   ]
  },
  {
   "cell_type": "markdown",
   "id": "10124993-e6c9-4fa7-86b0-0aa0b1f1eef6",
   "metadata": {},
   "source": [
    "# String Opeerations"
   ]
  },
  {
   "cell_type": "code",
   "execution_count": 12,
   "id": "860a2dd7-324f-4e96-96b4-ef8c56b7a4bc",
   "metadata": {},
   "outputs": [],
   "source": [
    "hello = tf.constant(\"hello\")"
   ]
  },
  {
   "cell_type": "code",
   "execution_count": 13,
   "id": "c09573f4-309f-4159-acec-e0f480b97806",
   "metadata": {},
   "outputs": [],
   "source": [
    "world = tf.constant(\"world\")"
   ]
  },
  {
   "cell_type": "code",
   "execution_count": 14,
   "id": "040a8ecd-d2c2-4666-829b-eade2fa9e492",
   "metadata": {},
   "outputs": [],
   "source": [
    "helloworld = tf.add(hello,world)"
   ]
  },
  {
   "cell_type": "code",
   "execution_count": 15,
   "id": "ba6f61b0-5653-4a87-a786-f769dfe3d1d6",
   "metadata": {},
   "outputs": [
    {
     "name": "stdout",
     "output_type": "stream",
     "text": [
      "b'helloworld'\n"
     ]
    }
   ],
   "source": [
    "print(sess.run(helloworld))"
   ]
  },
  {
   "cell_type": "markdown",
   "id": "8276f133-f8c7-4ddd-97fb-a3a38d16eb5e",
   "metadata": {},
   "source": [
    "# Placeholder"
   ]
  },
  {
   "cell_type": "code",
   "execution_count": 16,
   "id": "2deba449-a22c-40a7-9007-3fe553f01412",
   "metadata": {},
   "outputs": [],
   "source": [
    "a = tf.compat.v1.placeholder(tf.float32)"
   ]
  },
  {
   "cell_type": "code",
   "execution_count": 17,
   "id": "b3c166af-0695-4233-b97e-557028bd9ace",
   "metadata": {},
   "outputs": [],
   "source": [
    "b = a * 2"
   ]
  },
  {
   "cell_type": "code",
   "execution_count": 18,
   "id": "061376c5-528f-44c9-8bb7-2aaad58d9982",
   "metadata": {},
   "outputs": [],
   "source": [
    "#feeding a placeholder with scalar\n",
    "result = sess.run(b, feed_dict={a:3})"
   ]
  },
  {
   "cell_type": "code",
   "execution_count": 19,
   "id": "6c6419d2-0f0c-4f16-9c9d-62262d27420b",
   "metadata": {},
   "outputs": [
    {
     "name": "stdout",
     "output_type": "stream",
     "text": [
      "6.0\n"
     ]
    }
   ],
   "source": [
    "print(result)"
   ]
  },
  {
   "cell_type": "code",
   "execution_count": 20,
   "id": "1cfd5d9a-5bb7-4088-b7b6-d6a39a94870f",
   "metadata": {},
   "outputs": [
    {
     "name": "stdout",
     "output_type": "stream",
     "text": [
      "[ 6.  8. 10.]\n"
     ]
    }
   ],
   "source": [
    "#feeding a placeholder with vector of rank 1\n",
    "result = sess.run(b, feed_dict={a:[3,4,5]})\n",
    "print(result)"
   ]
  },
  {
   "cell_type": "code",
   "execution_count": 22,
   "id": "02f2fbb4-8a51-4642-b071-be77b714f7d1",
   "metadata": {},
   "outputs": [
    {
     "name": "stdout",
     "output_type": "stream",
     "text": [
      "[[[ 2.  4.  6.]\n",
      "  [ 8. 10. 12.]\n",
      "  [14. 16. 18.]\n",
      "  [20. 22. 24.]]\n",
      "\n",
      " [[26. 28. 30.]\n",
      "  [32. 34. 36.]\n",
      "  [38. 40. 42.]\n",
      "  [44. 46. 48.]]]\n"
     ]
    }
   ],
   "source": [
    "#feeding a placeholder with multidimensional vector\n",
    "dictionary = {a:[[[1,2,3],[4,5,6],[7,8,9],[10,11,12]],[[13,14,15],[16,17,18],[19,20,21],[22,23,24]]]}\n",
    "result = sess.run(b, feed_dict=dictionary)\n",
    "print(result)"
   ]
  },
  {
   "cell_type": "code",
   "execution_count": 23,
   "id": "5af7caa3-5ac7-4554-8013-8cb580ef4b97",
   "metadata": {},
   "outputs": [],
   "source": [
    "sess.close()"
   ]
  },
  {
   "cell_type": "code",
   "execution_count": 26,
   "id": "51e07971-7aa8-40b3-943d-81525739cf72",
   "metadata": {},
   "outputs": [
    {
     "name": "stdout",
     "output_type": "stream",
     "text": [
      "b'helloworld'\n"
     ]
    }
   ],
   "source": [
    "with tf.compat.v1.Session() as sess:\n",
    "    result = sess.run(hello+world)\n",
    "    print(result)"
   ]
  },
  {
   "cell_type": "code",
   "execution_count": 28,
   "id": "e4325898-6e8c-428c-8fb6-6dd1f18ea15a",
   "metadata": {},
   "outputs": [],
   "source": [
    "graph = tf.compat.v1.get_default_graph()"
   ]
  },
  {
   "cell_type": "code",
   "execution_count": 29,
   "id": "e3421e4d-8642-41fb-8eb9-9b364d2c6afc",
   "metadata": {},
   "outputs": [
    {
     "data": {
      "text/plain": [
       "[<tf.Operation 'Variable/Initializer/initial_value' type=Const>,\n",
       " <tf.Operation 'Variable' type=VarHandleOp>,\n",
       " <tf.Operation 'Variable/IsInitialized/VarIsInitializedOp' type=VarIsInitializedOp>,\n",
       " <tf.Operation 'Variable/Assign' type=AssignVariableOp>,\n",
       " <tf.Operation 'Variable/Read/ReadVariableOp' type=ReadVariableOp>,\n",
       " <tf.Operation 'Const' type=Const>,\n",
       " <tf.Operation 'Add/ReadVariableOp' type=ReadVariableOp>,\n",
       " <tf.Operation 'Add' type=AddV2>,\n",
       " <tf.Operation 'AssignVariableOp' type=AssignVariableOp>,\n",
       " <tf.Operation 'ReadVariableOp' type=ReadVariableOp>,\n",
       " <tf.Operation 'init' type=NoOp>,\n",
       " <tf.Operation 'Const_1' type=Const>,\n",
       " <tf.Operation 'Const_2' type=Const>,\n",
       " <tf.Operation 'Add_1' type=Add>,\n",
       " <tf.Operation 'Placeholder' type=Placeholder>,\n",
       " <tf.Operation 'mul/y' type=Const>,\n",
       " <tf.Operation 'mul' type=Mul>,\n",
       " <tf.Operation 'add_2' type=Add>]"
      ]
     },
     "execution_count": 29,
     "metadata": {},
     "output_type": "execute_result"
    }
   ],
   "source": [
    "graph.get_operations()"
   ]
  },
  {
   "cell_type": "code",
   "execution_count": null,
   "id": "24205d92-670c-4679-b8f5-aff58185680b",
   "metadata": {},
   "outputs": [],
   "source": []
  }
 ],
 "metadata": {
  "kernelspec": {
   "display_name": "Python 3 (ipykernel)",
   "language": "python",
   "name": "python3"
  },
  "language_info": {
   "codemirror_mode": {
    "name": "ipython",
    "version": 3
   },
   "file_extension": ".py",
   "mimetype": "text/x-python",
   "name": "python",
   "nbconvert_exporter": "python",
   "pygments_lexer": "ipython3",
   "version": "3.9.18"
  }
 },
 "nbformat": 4,
 "nbformat_minor": 5
}
