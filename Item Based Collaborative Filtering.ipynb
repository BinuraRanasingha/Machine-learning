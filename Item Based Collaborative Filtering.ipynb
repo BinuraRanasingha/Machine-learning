{
 "cells": [
  {
   "cell_type": "code",
   "execution_count": 1,
   "id": "607f6feb-98e4-4016-a604-3c8b6240f6a6",
   "metadata": {},
   "outputs": [],
   "source": [
    "import pandas as pd\n",
    "from sklearn.metrics.pairwise import cosine_similarity"
   ]
  },
  {
   "cell_type": "code",
   "execution_count": 2,
   "id": "86aeedb6-1c67-4742-87d8-7b9b7be57ff7",
   "metadata": {},
   "outputs": [],
   "source": [
    "dataset = {\n",
    "    'user1': {\n",
    "        'Speical Ops' : 5,\n",
    "        'Criminal Justice' : 3,\n",
    "        'Panchayat' : 3,\n",
    "        'Sacred Games' : 3,\n",
    "        'Apharan' : 2,\n",
    "        'Mirzapur' : 3\n",
    "    },\n",
    "\n",
    "    'user2':{\n",
    "        'Speical Ops' : 5,\n",
    "        'Criminal Justice' : 3,\n",
    "        'Panchayat' : 5,\n",
    "        'Sacred Games' : 5,\n",
    "        'Apharan' : 3,\n",
    "        'Mirzapur' : 3\n",
    "    },\n",
    "\n",
    "    'user3' : {\n",
    "        'Speical Ops' : 2,\n",
    "        'Panchayat' : 5,\n",
    "        'Sacred Games' : 3,\n",
    "        'Mirzapur' : 4\n",
    "    },\n",
    "\n",
    "    'user4': {\n",
    "        'Panchayat' : 5,\n",
    "        'Sacred Games' : 4,\n",
    "        'Mirzapur' : 4\n",
    "    },\n",
    "\n",
    "    'user5': {\n",
    "        'Speical Ops' : 4,\n",
    "        'Criminal Justice' : 4,\n",
    "        'Panchayat' : 4,\n",
    "        'Apharan' : 2,\n",
    "        'Mirzapur' : 3\n",
    "    },\n",
    "\n",
    "    'user6' : {\n",
    "        'Speical Ops' : 3,\n",
    "        'Panchayat' : 4,\n",
    "        'Sacred Games' : 5,\n",
    "        'Apharan' : 3,\n",
    "        'Mirzapur' : 3\n",
    "    },\n",
    "\n",
    "    'user7' : {\n",
    "        'Panchayat' : 4,\n",
    "        'Sacred Games' : 4,\n",
    "        'Apharan' : 1,\n",
    "    }\n",
    "}"
   ]
  },
  {
   "cell_type": "code",
   "execution_count": 3,
   "id": "ff43578b-a26b-4fb3-bbd5-5ddab96b9eb9",
   "metadata": {},
   "outputs": [
    {
     "name": "stderr",
     "output_type": "stream",
     "text": [
      "C:\\Users\\User\\AppData\\Local\\Temp\\ipykernel_8364\\3935674274.py:2: FutureWarning: Setting an item of incompatible dtype is deprecated and will raise an error in a future version of pandas. Value 'Not seen yet' has dtype incompatible with float64, please explicitly cast to a compatible dtype first.\n",
      "  dataset_df.fillna(\"Not seen yet\", inplace=True)\n"
     ]
    },
    {
     "data": {
      "text/html": [
       "<div>\n",
       "<style scoped>\n",
       "    .dataframe tbody tr th:only-of-type {\n",
       "        vertical-align: middle;\n",
       "    }\n",
       "\n",
       "    .dataframe tbody tr th {\n",
       "        vertical-align: top;\n",
       "    }\n",
       "\n",
       "    .dataframe thead th {\n",
       "        text-align: right;\n",
       "    }\n",
       "</style>\n",
       "<table border=\"1\" class=\"dataframe\">\n",
       "  <thead>\n",
       "    <tr style=\"text-align: right;\">\n",
       "      <th></th>\n",
       "      <th>user1</th>\n",
       "      <th>user2</th>\n",
       "      <th>user3</th>\n",
       "      <th>user4</th>\n",
       "      <th>user5</th>\n",
       "      <th>user6</th>\n",
       "      <th>user7</th>\n",
       "    </tr>\n",
       "  </thead>\n",
       "  <tbody>\n",
       "    <tr>\n",
       "      <th>Speical Ops</th>\n",
       "      <td>5</td>\n",
       "      <td>5</td>\n",
       "      <td>2.0</td>\n",
       "      <td>Not seen yet</td>\n",
       "      <td>4.0</td>\n",
       "      <td>3.0</td>\n",
       "      <td>Not seen yet</td>\n",
       "    </tr>\n",
       "    <tr>\n",
       "      <th>Criminal Justice</th>\n",
       "      <td>3</td>\n",
       "      <td>3</td>\n",
       "      <td>Not seen yet</td>\n",
       "      <td>Not seen yet</td>\n",
       "      <td>4.0</td>\n",
       "      <td>Not seen yet</td>\n",
       "      <td>Not seen yet</td>\n",
       "    </tr>\n",
       "    <tr>\n",
       "      <th>Panchayat</th>\n",
       "      <td>3</td>\n",
       "      <td>5</td>\n",
       "      <td>5.0</td>\n",
       "      <td>5.0</td>\n",
       "      <td>4.0</td>\n",
       "      <td>4.0</td>\n",
       "      <td>4.0</td>\n",
       "    </tr>\n",
       "    <tr>\n",
       "      <th>Sacred Games</th>\n",
       "      <td>3</td>\n",
       "      <td>5</td>\n",
       "      <td>3.0</td>\n",
       "      <td>4.0</td>\n",
       "      <td>Not seen yet</td>\n",
       "      <td>5.0</td>\n",
       "      <td>4.0</td>\n",
       "    </tr>\n",
       "    <tr>\n",
       "      <th>Apharan</th>\n",
       "      <td>2</td>\n",
       "      <td>3</td>\n",
       "      <td>Not seen yet</td>\n",
       "      <td>Not seen yet</td>\n",
       "      <td>2.0</td>\n",
       "      <td>3.0</td>\n",
       "      <td>1.0</td>\n",
       "    </tr>\n",
       "  </tbody>\n",
       "</table>\n",
       "</div>"
      ],
      "text/plain": [
       "                  user1  user2         user3         user4         user5  \\\n",
       "Speical Ops           5      5           2.0  Not seen yet           4.0   \n",
       "Criminal Justice      3      3  Not seen yet  Not seen yet           4.0   \n",
       "Panchayat             3      5           5.0           5.0           4.0   \n",
       "Sacred Games          3      5           3.0           4.0  Not seen yet   \n",
       "Apharan               2      3  Not seen yet  Not seen yet           2.0   \n",
       "\n",
       "                         user6         user7  \n",
       "Speical Ops                3.0  Not seen yet  \n",
       "Criminal Justice  Not seen yet  Not seen yet  \n",
       "Panchayat                  4.0           4.0  \n",
       "Sacred Games               5.0           4.0  \n",
       "Apharan                    3.0           1.0  "
      ]
     },
     "execution_count": 3,
     "metadata": {},
     "output_type": "execute_result"
    }
   ],
   "source": [
    "dataset_df = pd.DataFrame(dataset)\n",
    "dataset_df.fillna(\"Not seen yet\", inplace=True)\n",
    "dataset_df.head()"
   ]
  },
  {
   "cell_type": "code",
   "execution_count": 4,
   "id": "bf99f992-5d71-4aee-83a1-164188357da1",
   "metadata": {},
   "outputs": [],
   "source": [
    "def unique_items():\n",
    "    unique_items_list = []\n",
    "    for person in dataset.keys():\n",
    "        for items in dataset[person]:\n",
    "            unique_items_list.append(items)\n",
    "        s = set(unique_items_list)\n",
    "        unique_items_list = list(s)\n",
    "        return unique_items_list"
   ]
  },
  {
   "cell_type": "code",
   "execution_count": 5,
   "id": "87d115a1-31da-49e6-b7db-12d4f41ba885",
   "metadata": {},
   "outputs": [
    {
     "data": {
      "text/plain": [
       "['Sacred Games',\n",
       " 'Speical Ops',\n",
       " 'Criminal Justice',\n",
       " 'Panchayat',\n",
       " 'Mirzapur',\n",
       " 'Apharan']"
      ]
     },
     "execution_count": 5,
     "metadata": {},
     "output_type": "execute_result"
    }
   ],
   "source": [
    "unique_items()"
   ]
  },
  {
   "cell_type": "code",
   "execution_count": 6,
   "id": "0c55fbaf-71e9-4996-9274-7ff1d757441a",
   "metadata": {},
   "outputs": [],
   "source": [
    "def item_similarity(item1, item2):\n",
    "    both_rated = {}\n",
    "    for person in dataset.keys():\n",
    "        if item1 in dataset[person] and item2 in dataset[person]:\n",
    "            both_rated[person] = [dataset[person][item1], dataset[person][item2]]\n",
    "\n",
    "    number_of_ratings = len(both_rated)\n",
    "    if number_of_ratings == 0:\n",
    "        return 0\n",
    "\n",
    "    item1_ratings = [[dataset[k][item1] for k,v in both_rated.items() if item1 in dataset[k] and item2 in dataset[k]]]\n",
    "    item2_ratings = [[dataset[k][item2] for k,v in both_rated.items() if item1 in dataset[k] and item2 in dataset[k]]]\n",
    "    cs = cosine_similarity(item1_ratings, item2_ratings)\n",
    "    return cs[0][0]"
   ]
  },
  {
   "cell_type": "code",
   "execution_count": 7,
   "id": "9a355f4f-f7f4-47c0-9cb6-6326e2476ac1",
   "metadata": {},
   "outputs": [
    {
     "name": "stdout",
     "output_type": "stream",
     "text": [
      "cosine similarity::  0.9199418174856334\n"
     ]
    }
   ],
   "source": [
    "print(\"cosine similarity:: \",item_similarity('Panchayat','Speical Ops'))"
   ]
  },
  {
   "cell_type": "code",
   "execution_count": 8,
   "id": "db2c67e4-9a66-42b3-ba48-cf3707cff0e7",
   "metadata": {},
   "outputs": [],
   "source": [
    "def most_similar_items(target_item):\n",
    "    un_list = unique_items()\n",
    "    scores = [(item_similarity(target_item, other_item), target_item+\"-->\"+other_item) for other_item in un_list if other_item != target_item]\n",
    "    scores.sort(reverse=True)\n",
    "    return scores"
   ]
  },
  {
   "cell_type": "code",
   "execution_count": 9,
   "id": "4b81e3cf-5a33-4373-ab7d-4f9548b695df",
   "metadata": {},
   "outputs": [
    {
     "name": "stdout",
     "output_type": "stream",
     "text": [
      "[(0.990830168044299, 'Panchayat-->Mirzapur'), (0.9749005254295224, 'Panchayat-->Sacred Games'), (0.9701425001453318, 'Panchayat-->Criminal Justice'), (0.9563650695950073, 'Panchayat-->Apharan'), (0.9199418174856334, 'Panchayat-->Speical Ops')]\n"
     ]
    }
   ],
   "source": [
    "print(most_similar_items('Panchayat'))"
   ]
  },
  {
   "cell_type": "code",
   "execution_count": 10,
   "id": "bf0d5ee4-094a-4bb7-a25c-b97a2cd2c0cf",
   "metadata": {},
   "outputs": [],
   "source": [
    "def target_movies_to_users(target_person):\n",
    "    target_person_movie_lst = []\n",
    "    unique_list = unique_items()\n",
    "\n",
    "    for movies in dataset[target_person]:\n",
    "        target_person_movie_lst.append(movies)\n",
    "\n",
    "    s = set(unique_list)\n",
    "    recommend_movies = list(s.difference(target_person_movie_lst))\n",
    "    a = len(recommend_movies)\n",
    "    if a == 0:\n",
    "        return 0\n",
    "    return recommend_movies, target_person_movie_lst"
   ]
  },
  {
   "cell_type": "code",
   "execution_count": 12,
   "id": "9fecae67-e4e4-4cd8-9b4b-46389c0a0b22",
   "metadata": {},
   "outputs": [
    {
     "data": {
      "text/html": [
       "<div>\n",
       "<style scoped>\n",
       "    .dataframe tbody tr th:only-of-type {\n",
       "        vertical-align: middle;\n",
       "    }\n",
       "\n",
       "    .dataframe tbody tr th {\n",
       "        vertical-align: top;\n",
       "    }\n",
       "\n",
       "    .dataframe thead th {\n",
       "        text-align: right;\n",
       "    }\n",
       "</style>\n",
       "<table border=\"1\" class=\"dataframe\">\n",
       "  <thead>\n",
       "    <tr style=\"text-align: right;\">\n",
       "      <th></th>\n",
       "      <th>unseen_movies</th>\n",
       "      <th>seen_movies</th>\n",
       "    </tr>\n",
       "  </thead>\n",
       "  <tbody>\n",
       "    <tr>\n",
       "      <th>0</th>\n",
       "      <td>Mirzapur</td>\n",
       "      <td>Panchayat</td>\n",
       "    </tr>\n",
       "    <tr>\n",
       "      <th>1</th>\n",
       "      <td>Speical Ops</td>\n",
       "      <td>Sacred Games</td>\n",
       "    </tr>\n",
       "    <tr>\n",
       "      <th>2</th>\n",
       "      <td>Criminal Justice</td>\n",
       "      <td>Apharan</td>\n",
       "    </tr>\n",
       "  </tbody>\n",
       "</table>\n",
       "</div>"
      ],
      "text/plain": [
       "      unseen_movies   seen_movies\n",
       "0          Mirzapur     Panchayat\n",
       "1       Speical Ops  Sacred Games\n",
       "2  Criminal Justice       Apharan"
      ]
     },
     "execution_count": 12,
     "metadata": {},
     "output_type": "execute_result"
    }
   ],
   "source": [
    "unseen_movies, seen_movies = target_movies_to_users('user7')\n",
    "dct = {'unseen_movies':unseen_movies, 'seen_movies':seen_movies}\n",
    "pd.DataFrame(dct)"
   ]
  },
  {
   "cell_type": "code",
   "execution_count": null,
   "id": "94d84f4c-3123-401f-abc2-280cabcf9be3",
   "metadata": {},
   "outputs": [],
   "source": []
  }
 ],
 "metadata": {
  "kernelspec": {
   "display_name": "Python 3 (ipykernel)",
   "language": "python",
   "name": "python3"
  },
  "language_info": {
   "codemirror_mode": {
    "name": "ipython",
    "version": 3
   },
   "file_extension": ".py",
   "mimetype": "text/x-python",
   "name": "python",
   "nbconvert_exporter": "python",
   "pygments_lexer": "ipython3",
   "version": "3.9.18"
  }
 },
 "nbformat": 4,
 "nbformat_minor": 5
}
