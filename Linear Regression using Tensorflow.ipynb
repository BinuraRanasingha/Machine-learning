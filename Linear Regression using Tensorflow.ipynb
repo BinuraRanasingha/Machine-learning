{
 "cells": [
  {
   "cell_type": "code",
   "execution_count": 1,
   "id": "560f4979-2946-4783-8a64-26fb7543cf5e",
   "metadata": {},
   "outputs": [],
   "source": [
    "import numpy as np\n",
    "import matplotlib.pyplot as plt\n",
    "import tensorflow as tf"
   ]
  },
  {
   "cell_type": "markdown",
   "id": "d4dee27f-0a04-486a-b61a-028671ea8164",
   "metadata": {},
   "source": [
    "# Setting up the data"
   ]
  },
  {
   "cell_type": "code",
   "execution_count": 2,
   "id": "ceb2c637-d16e-49ed-9e50-38b8bd5165d4",
   "metadata": {},
   "outputs": [],
   "source": [
    "tf.compat.v1.disable_eager_execution()"
   ]
  },
  {
   "cell_type": "code",
   "execution_count": 3,
   "id": "d3ceefb7-69ce-47fc-b397-a4aa5e74349b",
   "metadata": {},
   "outputs": [
    {
     "data": {
      "text/plain": [
       "array([ 0.98901338, -0.21299916,  1.10184311,  4.09137369,  4.21523109,\n",
       "        4.5107906 ,  6.83287066,  6.69802371,  9.50421739, 11.08937776])"
      ]
     },
     "execution_count": 3,
     "metadata": {},
     "output_type": "execute_result"
    }
   ],
   "source": [
    "x_data = np.linspace(0,10,10) + np.random.uniform(-1.5,1.5,10)\n",
    "x_data"
   ]
  },
  {
   "cell_type": "code",
   "execution_count": 4,
   "id": "a31fc98f-2da1-4d1d-9743-ee4827369469",
   "metadata": {},
   "outputs": [
    {
     "data": {
      "text/plain": [
       "array([0.69760388, 1.97546043, 2.392341  , 4.17153878, 5.66000269,\n",
       "       5.79652956, 5.51964212, 7.9727254 , 8.767118  , 9.80253336])"
      ]
     },
     "execution_count": 4,
     "metadata": {},
     "output_type": "execute_result"
    }
   ],
   "source": [
    "y_label = np.linspace(0,10,10) + np.random.uniform(-1.5,1.5,10)\n",
    "y_label"
   ]
  },
  {
   "cell_type": "markdown",
   "id": "b68359bf-56f9-4d27-a77d-b4136cebaf70",
   "metadata": {},
   "source": [
    "# Plotting the data"
   ]
  },
  {
   "cell_type": "code",
   "execution_count": 5,
   "id": "90477511-c397-4c86-ab10-f695bdb05703",
   "metadata": {},
   "outputs": [
    {
     "data": {
      "text/plain": [
       "[<matplotlib.lines.Line2D at 0x1f659013be0>]"
      ]
     },
     "execution_count": 5,
     "metadata": {},
     "output_type": "execute_result"
    },
    {
     "data": {
      "image/png": "[encoded data removed]",
      "text/plain": [
       "<Figure size 640x480 with 1 Axes>"
      ]
     },
     "metadata": {},
     "output_type": "display_data"
    }
   ],
   "source": [
    "plt.plot(x_data, y_label, '*')"
   ]
  },
  {
   "cell_type": "markdown",
   "id": "a2aa8314-a992-43c7-8547-9df5a0d77aeb",
   "metadata": {},
   "source": [
    "# Assigning the variables"
   ]
  },
  {
   "cell_type": "code",
   "execution_count": 6,
   "id": "f06118c2-0044-4f7c-84f8-61348ce9fec4",
   "metadata": {},
   "outputs": [],
   "source": [
    "val = np.random.rand(2)"
   ]
  },
  {
   "cell_type": "code",
   "execution_count": 7,
   "id": "4821b603-d6fd-41bd-b18d-35179b0102c8",
   "metadata": {},
   "outputs": [
    {
     "name": "stdout",
     "output_type": "stream",
     "text": [
      "0.8793613032056116\n",
      "0.8589328662810813\n"
     ]
    }
   ],
   "source": [
    "print(val[0])\n",
    "print(val[1])"
   ]
  },
  {
   "cell_type": "code",
   "execution_count": 8,
   "id": "66e99338-9ab0-4f3a-860d-2a5f1196fa5c",
   "metadata": {},
   "outputs": [],
   "source": [
    "m = tf.Variable(val[0])\n",
    "b = tf.Variable(val[1])"
   ]
  },
  {
   "cell_type": "markdown",
   "id": "2b166356-996c-4b30-80f6-5af94ce3fcce",
   "metadata": {},
   "source": [
    "# Applying the cost function"
   ]
  },
  {
   "cell_type": "markdown",
   "id": "fbdefce7-07db-4147-a325-b7577b9adbbf",
   "metadata": {},
   "source": [
    "* Cost is the difference between the actual value and the predicted value."
   ]
  },
  {
   "cell_type": "code",
   "execution_count": 9,
   "id": "9736d28d-af68-4e81-bcc4-a1c00dbc54de",
   "metadata": {},
   "outputs": [],
   "source": [
    "error = 0\n",
    "for x,y in zip(x_data, y_label):\n",
    "    y_hat = m * x + b #Our predicted value\n",
    "    error += (y - y_hat) ** 2 #The cost we want to minimize (we'll need to use an optimization function for the minimization)"
   ]
  },
  {
   "cell_type": "markdown",
   "id": "98a2b3c7-ccc7-486c-9a53-f8ca7b6959f5",
   "metadata": {},
   "source": [
    "# Applying the optimization function"
   ]
  },
  {
   "cell_type": "code",
   "execution_count": 10,
   "id": "3a4a516d-3074-4163-90aa-83af27ea644d",
   "metadata": {},
   "outputs": [],
   "source": [
    "optimizer = tf.compat.v1.train.GradientDescentOptimizer(learning_rate=0.001)\n",
    "train = optimizer.minimize(error)"
   ]
  },
  {
   "cell_type": "markdown",
   "id": "bc337eb6-65d0-48f9-b273-7d9afdef62bc",
   "metadata": {},
   "source": [
    "# Intializing the variables"
   ]
  },
  {
   "cell_type": "code",
   "execution_count": 11,
   "id": "15deb78f-3f73-435e-bda2-a1a7842b0606",
   "metadata": {},
   "outputs": [],
   "source": [
    "init = tf.compat.v1.global_variables_initializer()"
   ]
  },
  {
   "cell_type": "markdown",
   "id": "2a5ab6ef-9c79-41bc-a290-72ea6fe35e78",
   "metadata": {},
   "source": [
    "# Creating the session and running the computation"
   ]
  },
  {
   "cell_type": "code",
   "execution_count": 13,
   "id": "ae0ace07-a60b-465e-acbc-a977f4a322da",
   "metadata": {},
   "outputs": [],
   "source": [
    "with tf.compat.v1.Session() as sess:\n",
    "    sess.run(init)\n",
    "    epochs = 100\n",
    "    for i in range(epochs):\n",
    "        sess.run(train)\n",
    "\n",
    "    #Fetch Batch Results\n",
    "    final_slope, final_intercept = sess.run([m,b])"
   ]
  },
  {
   "cell_type": "markdown",
   "id": "a2f87c00-8686-41b7-832e-96caea3e440b",
   "metadata": {},
   "source": [
    "# Printing the slope and the intercept"
   ]
  },
  {
   "cell_type": "code",
   "execution_count": 14,
   "id": "a51ca83e-ebac-4c8c-9ec0-b702f86af29b",
   "metadata": {},
   "outputs": [
    {
     "data": {
      "text/plain": [
       "0.8179319164752108"
      ]
     },
     "execution_count": 14,
     "metadata": {},
     "output_type": "execute_result"
    }
   ],
   "source": [
    "final_slope"
   ]
  },
  {
   "cell_type": "code",
   "execution_count": 15,
   "id": "69bccee0-07ba-4047-b04b-a6d256f0074e",
   "metadata": {},
   "outputs": [
    {
     "data": {
      "text/plain": [
       "1.1721428082464174"
      ]
     },
     "execution_count": 15,
     "metadata": {},
     "output_type": "execute_result"
    }
   ],
   "source": [
    "final_intercept"
   ]
  },
  {
   "cell_type": "markdown",
   "id": "dca8942b-63b7-447d-8e4b-add6fdee98ae",
   "metadata": {},
   "source": [
    "# Model Evaluation"
   ]
  },
  {
   "cell_type": "code",
   "execution_count": 17,
   "id": "83cbbb4f-4746-4a26-980d-60a351363593",
   "metadata": {},
   "outputs": [
    {
     "data": {
      "text/plain": [
       "[<matplotlib.lines.Line2D at 0x1f650b35e80>]"
      ]
     },
     "execution_count": 17,
     "metadata": {},
     "output_type": "execute_result"
    },
    {
     "data": {
      "image/png": "[encoded data removed]",
      "text/plain": [
       "<Figure size 640x480 with 1 Axes>"
      ]
     },
     "metadata": {},
     "output_type": "display_data"
    }
   ],
   "source": [
    "x_test = np.linspace(-1,11,10)\n",
    "y_pred_plot = final_slope * x_test + final_intercept\n",
    "plt.plot(x_test, y_pred_plot, 'r')\n",
    "plt.plot(x_data, y_label, '*')"
   ]
  },
  {
   "cell_type": "code",
   "execution_count": null,
   "id": "03154bda-b845-40d7-b773-6c610941bb55",
   "metadata": {},
   "outputs": [],
   "source": []
  }
 ],
 "metadata": {
  "kernelspec": {
   "display_name": "Python 3 (ipykernel)",
   "language": "python",
   "name": "python3"
  },
  "language_info": {
   "codemirror_mode": {
    "name": "ipython",
    "version": 3
   },
   "file_extension": ".py",
   "mimetype": "text/x-python",
   "name": "python",
   "nbconvert_exporter": "python",
   "pygments_lexer": "ipython3",
   "version": "3.9.18"
  }
 },
 "nbformat": 4,
 "nbformat_minor": 5
}
