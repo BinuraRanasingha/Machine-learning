{
 "cells": [
  {
   "cell_type": "code",
   "execution_count": 1,
   "id": "0f9fe7fd-5e5a-4236-8b7c-b1bc69070c72",
   "metadata": {},
   "outputs": [],
   "source": [
    "#Importing the necessary libraries\n",
    "from keras.models import Sequential\n",
    "from keras.layers import Conv2D, MaxPooling2D, Dense, Flatten\n",
    "from keras.preprocessing.image import ImageDataGenerator"
   ]
  },
  {
   "cell_type": "code",
   "execution_count": 2,
   "id": "763338f9-68f0-442c-bb06-c89f3984986b",
   "metadata": {},
   "outputs": [],
   "source": [
    "#Intializing\n",
    "classifier = Sequential()"
   ]
  },
  {
   "cell_type": "code",
   "execution_count": 3,
   "id": "1657a026-afd1-451d-9651-832dbfdd62be",
   "metadata": {},
   "outputs": [],
   "source": [
    "#Convolution\n",
    "classifier.add(Conv2D(32, (3,3), input_shape=(64,64,3), activation='relu'))\n",
    "\n",
    "#Pooling\n",
    "classifier.add(MaxPooling2D(pool_size=(2,2)))\n",
    "\n",
    "#Second convolution layer\n",
    "classifier.add(Conv2D(32, (3,3), activation='relu'))\n",
    "classifier.add(MaxPooling2D(pool_size=(2,2)))"
   ]
  },
  {
   "cell_type": "code",
   "execution_count": 4,
   "id": "0592748d-59af-4287-95d3-789dc7c3c1ae",
   "metadata": {},
   "outputs": [],
   "source": [
    "#Flattening \n",
    "classifier.add(Flatten())\n",
    "\n",
    "#Fully connected Layers\n",
    "classifier.add(Dense(units=128, activation='relu'))\n",
    "classifier.add(Dense(units=1, activation='sigmoid'))"
   ]
  },
  {
   "cell_type": "code",
   "execution_count": 5,
   "id": "d5c2c46d-0087-4db4-87ed-80b2d2547e1e",
   "metadata": {},
   "outputs": [],
   "source": [
    "#Compiling the model\n",
    "classifier.compile(optimizer='adam', loss='binary_crossentropy', metrics=['accuracy'])"
   ]
  },
  {
   "cell_type": "code",
   "execution_count": 6,
   "id": "34d55dfd-3588-484e-a3b9-7013b9eb3e35",
   "metadata": {},
   "outputs": [],
   "source": [
    "#Fitting the CNN to the images\n",
    "train_datagen = ImageDataGenerator(rescale = 1./255,\n",
    "                                  shear_range=0.2,\n",
    "                                  zoom_range=0.2,\n",
    "                                  horizontal_flip=True)"
   ]
  },
  {
   "cell_type": "code",
   "execution_count": 7,
   "id": "f26f5879-b04d-4159-8ab3-522cca6fcb89",
   "metadata": {},
   "outputs": [
    {
     "name": "stdout",
     "output_type": "stream",
     "text": [
      "Found 8005 images belonging to 1 classes.\n"
     ]
    }
   ],
   "source": [
    "training_set = train_datagen.flow_from_directory('D://New folder//ML//Completed//Cats and dogs classification//training_set',\n",
    "                                                 target_size=(64,64),\n",
    "                                                 batch_size=32,\n",
    "                                                 class_mode='binary')"
   ]
  },
  {
   "cell_type": "code",
   "execution_count": 8,
   "id": "1a5a8fae-ff02-4ff9-a631-31acd55c016d",
   "metadata": {},
   "outputs": [
    {
     "name": "stdout",
     "output_type": "stream",
     "text": [
      "Found 2023 images belonging to 1 classes.\n"
     ]
    }
   ],
   "source": [
    "test_datagen = ImageDataGenerator(rescale = 1./255)\n",
    "test_set = test_datagen.flow_from_directory('D://New folder//ML//Completed//Cats and dogs classification//test_set',\n",
    "                                                 target_size=(64,64),\n",
    "                                                 batch_size=32,\n",
    "                                                 class_mode='binary')"
   ]
  },
  {
   "cell_type": "code",
   "execution_count": 9,
   "id": "c97a742d-2617-40ce-a110-f4052df0ff60",
   "metadata": {},
   "outputs": [
    {
     "name": "stdout",
     "output_type": "stream",
     "text": [
      "Epoch 1/10\n",
      "251/251 [==============================] - 19s 75ms/step - loss: 0.0027 - accuracy: 1.0000 - val_loss: 0.0000e+00 - val_accuracy: 1.0000\n",
      "Epoch 2/10\n",
      "251/251 [==============================] - 20s 79ms/step - loss: 0.0000e+00 - accuracy: 1.0000 - val_loss: 0.0000e+00 - val_accuracy: 1.0000\n",
      "Epoch 3/10\n",
      "251/251 [==============================] - 19s 77ms/step - loss: 0.0000e+00 - accuracy: 1.0000 - val_loss: 0.0000e+00 - val_accuracy: 1.0000\n",
      "Epoch 4/10\n",
      "251/251 [==============================] - 19s 74ms/step - loss: 0.0000e+00 - accuracy: 1.0000 - val_loss: 0.0000e+00 - val_accuracy: 1.0000\n",
      "Epoch 5/10\n",
      "251/251 [==============================] - 19s 74ms/step - loss: 0.0000e+00 - accuracy: 1.0000 - val_loss: 0.0000e+00 - val_accuracy: 1.0000\n",
      "Epoch 6/10\n",
      "251/251 [==============================] - 19s 74ms/step - loss: 0.0000e+00 - accuracy: 1.0000 - val_loss: 0.0000e+00 - val_accuracy: 1.0000\n",
      "Epoch 7/10\n",
      "251/251 [==============================] - 19s 74ms/step - loss: 0.0000e+00 - accuracy: 1.0000 - val_loss: 0.0000e+00 - val_accuracy: 1.0000\n",
      "Epoch 8/10\n",
      "251/251 [==============================] - 19s 74ms/step - loss: 0.0000e+00 - accuracy: 1.0000 - val_loss: 0.0000e+00 - val_accuracy: 1.0000\n",
      "Epoch 9/10\n",
      "251/251 [==============================] - 19s 74ms/step - loss: 0.0000e+00 - accuracy: 1.0000 - val_loss: 0.0000e+00 - val_accuracy: 1.0000\n",
      "Epoch 10/10\n",
      "251/251 [==============================] - 19s 74ms/step - loss: 0.0000e+00 - accuracy: 1.0000 - val_loss: 0.0000e+00 - val_accuracy: 1.0000\n"
     ]
    },
    {
     "data": {
      "text/plain": [
       "<keras.callbacks.History at 0x194ec074790>"
      ]
     },
     "execution_count": 9,
     "metadata": {},
     "output_type": "execute_result"
    }
   ],
   "source": [
    "#Training the model\n",
    "classifier.fit(training_set,epochs=10,validation_data=test_set, validation_steps=10)"
   ]
  },
  {
   "cell_type": "markdown",
   "id": "b7aebc59-f15b-40bd-bfab-e6e5c1eb0e0e",
   "metadata": {},
   "source": [
    "* Accuracy and val_accuracy reflect bias. Accuracy goes down and val_accuracy goes up which means that the model is memorizing the data."
   ]
  },
  {
   "cell_type": "code",
   "execution_count": 32,
   "id": "fa187177-d553-48e1-875c-20e7b11d4278",
   "metadata": {},
   "outputs": [
    {
     "name": "stdout",
     "output_type": "stream",
     "text": [
      "1/1 [==============================] - 0s 17ms/step\n"
     ]
    }
   ],
   "source": [
    "#Making predictions\n",
    "import numpy as np\n",
    "import keras.utils as ku\n",
    "test_image = ku.load_img(\"1200px-Cat_August_2010-4.jpg\", target_size = (64,64))\n",
    "test_image = ku.img_to_array(test_image)\n",
    "test_image = np.expand_dims(test_image, axis=0)\n",
    "result = classifier.predict(test_image)\n",
    "training_set.class_indices\n",
    "if result[0][0] == 1:\n",
    "    prediction = 'dog'\n",
    "else:\n",
    "    prediction = 'cat'"
   ]
  },
  {
   "cell_type": "code",
   "execution_count": 33,
   "id": "679c21b0-08f3-4f82-bcbf-a93d68896983",
   "metadata": {},
   "outputs": [
    {
     "name": "stdout",
     "output_type": "stream",
     "text": [
      "cat\n"
     ]
    }
   ],
   "source": [
    "print(prediction)"
   ]
  },
  {
   "cell_type": "code",
   "execution_count": null,
   "id": "5adf6e68-8d39-4040-b3b5-32d617fb3014",
   "metadata": {},
   "outputs": [],
   "source": []
  }
 ],
 "metadata": {
  "kernelspec": {
   "display_name": "Python 3 (ipykernel)",
   "language": "python",
   "name": "python3"
  },
  "language_info": {
   "codemirror_mode": {
    "name": "ipython",
    "version": 3
   },
   "file_extension": ".py",
   "mimetype": "text/x-python",
   "name": "python",
   "nbconvert_exporter": "python",
   "pygments_lexer": "ipython3",
   "version": "3.9.18"
  }
 },
 "nbformat": 4,
 "nbformat_minor": 5
}
