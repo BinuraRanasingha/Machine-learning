{
 "cells": [
  {
   "cell_type": "markdown",
   "id": "e0aa78e0-cac9-4351-a753-b8caa3ebb4e5",
   "metadata": {},
   "source": [
    "# Outlier Robust Regression"
   ]
  },
  {
   "cell_type": "markdown",
   "id": "71dc00f0",
   "metadata": {},
   "source": [
    "* **Outlier-robust regression**, also known as **robust regression**, refers to regression techniques that are designed to handle outliers or influential observations in the dataset more effectively compared to traditional regression methods like ordinary least squares (OLS) regression. Outliers are data points that deviate significantly from the rest of the data and can have a disproportionate impact on the estimated regression model.\n",
    "\n",
    "Here are some key characteristics of outlier-robust regression:\n",
    "\n",
    "**1. Resilience to Outliers:** Robust regression methods are less sensitive to outliers in the data compared to OLS regression. They use robust estimation techniques that downweight or ignore the influence of outliers when fitting the regression model.\n",
    "\n",
    "**2. Robust Estimators:** Robust regression estimators are resistant to the effects of outliers and influential observations. They use robust measures of central tendency (e.g., median) and dispersion (e.g., median absolute deviation) instead of means and variances, which are more sensitive to outliers.\n",
    "\n",
    "**3. Huber Loss Function:** One common approach in robust regression is to use a loss function that is less sensitive to outliers than the squared error loss function used in OLS regression. The Huber loss function is a popular choice, as it combines the advantages of the least squares and absolute error loss functions.\n",
    "\n",
    "**4. Iterative Reweighted Least Squares (IRLS):** Many robust regression methods, such as Huber regression and M-estimation, use iterative algorithms like IRLS to iteratively fit the regression model while downweighting the influence of outliers in each iteration.\n",
    "\n",
    "**5. Applications:** Robust regression techniques are commonly used in various fields where outliers are common or influential, such as finance, economics, environmental science, and engineering. They are particularly useful when the underlying assumptions of OLS regression, such as normality and constant variance of residuals, are violated due to the presence of outliers.\n",
    "\n",
    "* Overall, outlier-robust regression methods provide more reliable estimates of regression parameters and better model performance in the presence of outliers, making them a valuable tool for data analysis and modeling."
   ]
  },
  {
   "cell_type": "markdown",
   "id": "4a5663cc-38cf-46d0-8518-7acd077ce0d9",
   "metadata": {},
   "source": [
    "## Huber Regressor"
   ]
  },
  {
   "cell_type": "markdown",
   "id": "6deee433-4f62-4f04-854c-caee4f9d131c",
   "metadata": {},
   "source": [
    "* The **Huber Regressor** is a robust regression technique that combines the best properties of **least squares** and **least absolute deviation (LAD) regression**. It aims to minimize the residual sum of squares (RSS) while being less sensitive to outliers in the data compared to ordinary least squares (OLS) regression.\n",
    "\n",
    "Here are some key points about the Huber Regressor:\n",
    "\n",
    "**1. Robustness:** The Huber loss function used in Huber regression is less sensitive to outliers compared to the squared error loss function used in OLS regression. It achieves this by applying a linear loss for small residuals (typically, below a threshold δ) and a quadratic loss for larger residuals.\n",
    "\n",
    "**2. Piecewise Linear Loss:** The Huber loss function is piecewise linear, transitioning from a linear to a quadratic loss at the threshold δ. This allows it to balance between the robustness of LAD regression and the efficiency of OLS regression.\n",
    "\n",
    "**3. Parameter δ:** The parameter δ determines the point at which the loss function transitions from linear to quadratic. It is a hyperparameter of the model that needs to be specified. Larger values of δ result in a more robust regression but may sacrifice efficiency, while smaller values may lead to better efficiency but less robustness.\n",
    "\n",
    "**4. Gradient Descent:** The Huber Regressor can be optimized using gradient descent-based algorithms to find the regression coefficients that minimize the Huber loss function.\n",
    "\n",
    "**5. Scalability:** Huber regression can handle large datasets and is scalable to high-dimensional feature spaces. It is commonly used in situations where there are potential outliers in the data and traditional regression techniques may be overly influenced by them.\n",
    "\n",
    "**6. Applications:** Huber regression is widely used in various fields, including finance, economics, and engineering, where robustness to outliers is important for accurate modeling and prediction.\n",
    "\n",
    "* Overall, the Huber Regressor is a powerful tool for robust regression that strikes a balance between robustness and efficiency, making it suitable for a wide range of practical applications."
   ]
  },
  {
   "cell_type": "code",
   "execution_count": 1,
   "id": "ed537d24-99d8-4110-867e-4af1653e3e25",
   "metadata": {},
   "outputs": [
    {
     "name": "stderr",
     "output_type": "stream",
     "text": [
      "C:\\Users\\User\\AppData\\Local\\Temp\\ipykernel_6088\\2911238595.py:3: DeprecationWarning: \n",
      "Pyarrow will become a required dependency of pandas in the next major release of pandas (pandas 3.0),\n",
      "(to allow more performant data types, such as the Arrow string type, and better interoperability with other libraries)\n",
      "but was not found to be installed on your system.\n",
      "If this would cause problems for you,\n",
      "please provide us feedback at https://github.com/pandas-dev/pandas/issues/54466\n",
      "        \n",
      "  import pandas as pd\n"
     ]
    }
   ],
   "source": [
    "# Importing the necessary libraries\n",
    "import numpy as np\n",
    "import pandas as pd\n",
    "from sklearn.model_selection import train_test_split, GridSearchCV\n",
    "from sklearn.metrics import r2_score, mean_squared_error\n",
    "from sklearn.linear_model import HuberRegressor, QuantileRegressor, RANSACRegressor, TheilSenRegressor\n",
    "from sklearn.preprocessing import StandardScaler"
   ]
  },
  {
   "cell_type": "code",
   "execution_count": 2,
   "id": "957309b7-777f-486f-bcc5-6e61349b1440",
   "metadata": {},
   "outputs": [
    {
     "data": {
      "text/html": [
       "<div>\n",
       "<style scoped>\n",
       "    .dataframe tbody tr th:only-of-type {\n",
       "        vertical-align: middle;\n",
       "    }\n",
       "\n",
       "    .dataframe tbody tr th {\n",
       "        vertical-align: top;\n",
       "    }\n",
       "\n",
       "    .dataframe thead th {\n",
       "        text-align: right;\n",
       "    }\n",
       "</style>\n",
       "<table border=\"1\" class=\"dataframe\">\n",
       "  <thead>\n",
       "    <tr style=\"text-align: right;\">\n",
       "      <th></th>\n",
       "      <th>Date</th>\n",
       "      <th>Open</th>\n",
       "      <th>High</th>\n",
       "      <th>Low</th>\n",
       "      <th>Close</th>\n",
       "      <th>Adj Close</th>\n",
       "      <th>Volume</th>\n",
       "    </tr>\n",
       "  </thead>\n",
       "  <tbody>\n",
       "    <tr>\n",
       "      <th>0</th>\n",
       "      <td>2020-12-10</td>\n",
       "      <td>146.000000</td>\n",
       "      <td>165.000000</td>\n",
       "      <td>141.250000</td>\n",
       "      <td>144.710007</td>\n",
       "      <td>144.710007</td>\n",
       "      <td>70447500</td>\n",
       "    </tr>\n",
       "    <tr>\n",
       "      <th>1</th>\n",
       "      <td>2020-12-11</td>\n",
       "      <td>146.550003</td>\n",
       "      <td>151.500000</td>\n",
       "      <td>135.100006</td>\n",
       "      <td>139.250000</td>\n",
       "      <td>139.250000</td>\n",
       "      <td>26980800</td>\n",
       "    </tr>\n",
       "    <tr>\n",
       "      <th>2</th>\n",
       "      <td>2020-12-14</td>\n",
       "      <td>135.000000</td>\n",
       "      <td>135.300003</td>\n",
       "      <td>125.160004</td>\n",
       "      <td>130.000000</td>\n",
       "      <td>130.000000</td>\n",
       "      <td>16966100</td>\n",
       "    </tr>\n",
       "    <tr>\n",
       "      <th>3</th>\n",
       "      <td>2020-12-15</td>\n",
       "      <td>126.690002</td>\n",
       "      <td>127.599998</td>\n",
       "      <td>121.500000</td>\n",
       "      <td>124.800003</td>\n",
       "      <td>124.800003</td>\n",
       "      <td>10914400</td>\n",
       "    </tr>\n",
       "    <tr>\n",
       "      <th>4</th>\n",
       "      <td>2020-12-16</td>\n",
       "      <td>125.830002</td>\n",
       "      <td>142.000000</td>\n",
       "      <td>124.910004</td>\n",
       "      <td>137.990005</td>\n",
       "      <td>137.990005</td>\n",
       "      <td>20409600</td>\n",
       "    </tr>\n",
       "  </tbody>\n",
       "</table>\n",
       "</div>"
      ],
      "text/plain": [
       "         Date        Open        High         Low       Close   Adj Close  \\\n",
       "0  2020-12-10  146.000000  165.000000  141.250000  144.710007  144.710007   \n",
       "1  2020-12-11  146.550003  151.500000  135.100006  139.250000  139.250000   \n",
       "2  2020-12-14  135.000000  135.300003  125.160004  130.000000  130.000000   \n",
       "3  2020-12-15  126.690002  127.599998  121.500000  124.800003  124.800003   \n",
       "4  2020-12-16  125.830002  142.000000  124.910004  137.990005  137.990005   \n",
       "\n",
       "     Volume  \n",
       "0  70447500  \n",
       "1  26980800  \n",
       "2  16966100  \n",
       "3  10914400  \n",
       "4  20409600  "
      ]
     },
     "execution_count": 2,
     "metadata": {},
     "output_type": "execute_result"
    }
   ],
   "source": [
    "# Loading the dataset\n",
    "df = pd.read_csv(\"C:\\\\Users\\\\User\\\\Desktop\\\\Drive D\\\\New folder\\\\ML\\\\Completed\\\\AirBnb.csv\")\n",
    "df.head()"
   ]
  },
  {
   "cell_type": "code",
   "execution_count": 3,
   "id": "33a8bd3a-56af-4e89-b922-86b7d15dd13c",
   "metadata": {},
   "outputs": [
    {
     "data": {
      "text/html": [
       "<div>\n",
       "<style scoped>\n",
       "    .dataframe tbody tr th:only-of-type {\n",
       "        vertical-align: middle;\n",
       "    }\n",
       "\n",
       "    .dataframe tbody tr th {\n",
       "        vertical-align: top;\n",
       "    }\n",
       "\n",
       "    .dataframe thead th {\n",
       "        text-align: right;\n",
       "    }\n",
       "</style>\n",
       "<table border=\"1\" class=\"dataframe\">\n",
       "  <thead>\n",
       "    <tr style=\"text-align: right;\">\n",
       "      <th></th>\n",
       "      <th>Open</th>\n",
       "      <th>High</th>\n",
       "      <th>Low</th>\n",
       "      <th>Close</th>\n",
       "      <th>Adj Close</th>\n",
       "      <th>Volume</th>\n",
       "    </tr>\n",
       "    <tr>\n",
       "      <th>Date</th>\n",
       "      <th></th>\n",
       "      <th></th>\n",
       "      <th></th>\n",
       "      <th></th>\n",
       "      <th></th>\n",
       "      <th></th>\n",
       "    </tr>\n",
       "  </thead>\n",
       "  <tbody>\n",
       "    <tr>\n",
       "      <th>2020-12-10</th>\n",
       "      <td>146.000000</td>\n",
       "      <td>165.000000</td>\n",
       "      <td>141.250000</td>\n",
       "      <td>144.710007</td>\n",
       "      <td>144.710007</td>\n",
       "      <td>70447500</td>\n",
       "    </tr>\n",
       "    <tr>\n",
       "      <th>2020-12-11</th>\n",
       "      <td>146.550003</td>\n",
       "      <td>151.500000</td>\n",
       "      <td>135.100006</td>\n",
       "      <td>139.250000</td>\n",
       "      <td>139.250000</td>\n",
       "      <td>26980800</td>\n",
       "    </tr>\n",
       "    <tr>\n",
       "      <th>2020-12-14</th>\n",
       "      <td>135.000000</td>\n",
       "      <td>135.300003</td>\n",
       "      <td>125.160004</td>\n",
       "      <td>130.000000</td>\n",
       "      <td>130.000000</td>\n",
       "      <td>16966100</td>\n",
       "    </tr>\n",
       "    <tr>\n",
       "      <th>2020-12-15</th>\n",
       "      <td>126.690002</td>\n",
       "      <td>127.599998</td>\n",
       "      <td>121.500000</td>\n",
       "      <td>124.800003</td>\n",
       "      <td>124.800003</td>\n",
       "      <td>10914400</td>\n",
       "    </tr>\n",
       "    <tr>\n",
       "      <th>2020-12-16</th>\n",
       "      <td>125.830002</td>\n",
       "      <td>142.000000</td>\n",
       "      <td>124.910004</td>\n",
       "      <td>137.990005</td>\n",
       "      <td>137.990005</td>\n",
       "      <td>20409600</td>\n",
       "    </tr>\n",
       "    <tr>\n",
       "      <th>...</th>\n",
       "      <td>...</td>\n",
       "      <td>...</td>\n",
       "      <td>...</td>\n",
       "      <td>...</td>\n",
       "      <td>...</td>\n",
       "      <td>...</td>\n",
       "    </tr>\n",
       "    <tr>\n",
       "      <th>2024-01-08</th>\n",
       "      <td>137.309998</td>\n",
       "      <td>140.250000</td>\n",
       "      <td>136.610001</td>\n",
       "      <td>140.080002</td>\n",
       "      <td>140.080002</td>\n",
       "      <td>4179700</td>\n",
       "    </tr>\n",
       "    <tr>\n",
       "      <th>2024-01-09</th>\n",
       "      <td>138.520004</td>\n",
       "      <td>139.539993</td>\n",
       "      <td>137.789993</td>\n",
       "      <td>139.529999</td>\n",
       "      <td>139.529999</td>\n",
       "      <td>3560900</td>\n",
       "    </tr>\n",
       "    <tr>\n",
       "      <th>2024-01-10</th>\n",
       "      <td>139.199997</td>\n",
       "      <td>140.824997</td>\n",
       "      <td>138.699997</td>\n",
       "      <td>139.759995</td>\n",
       "      <td>139.759995</td>\n",
       "      <td>2492700</td>\n",
       "    </tr>\n",
       "    <tr>\n",
       "      <th>2024-01-11</th>\n",
       "      <td>140.710007</td>\n",
       "      <td>141.199997</td>\n",
       "      <td>137.550003</td>\n",
       "      <td>139.449997</td>\n",
       "      <td>139.449997</td>\n",
       "      <td>2383500</td>\n",
       "    </tr>\n",
       "    <tr>\n",
       "      <th>2024-01-12</th>\n",
       "      <td>139.350006</td>\n",
       "      <td>140.990005</td>\n",
       "      <td>137.130005</td>\n",
       "      <td>137.139999</td>\n",
       "      <td>137.139999</td>\n",
       "      <td>2480600</td>\n",
       "    </tr>\n",
       "  </tbody>\n",
       "</table>\n",
       "<p>777 rows × 6 columns</p>\n",
       "</div>"
      ],
      "text/plain": [
       "                  Open        High         Low       Close   Adj Close  \\\n",
       "Date                                                                     \n",
       "2020-12-10  146.000000  165.000000  141.250000  144.710007  144.710007   \n",
       "2020-12-11  146.550003  151.500000  135.100006  139.250000  139.250000   \n",
       "2020-12-14  135.000000  135.300003  125.160004  130.000000  130.000000   \n",
       "2020-12-15  126.690002  127.599998  121.500000  124.800003  124.800003   \n",
       "2020-12-16  125.830002  142.000000  124.910004  137.990005  137.990005   \n",
       "...                ...         ...         ...         ...         ...   \n",
       "2024-01-08  137.309998  140.250000  136.610001  140.080002  140.080002   \n",
       "2024-01-09  138.520004  139.539993  137.789993  139.529999  139.529999   \n",
       "2024-01-10  139.199997  140.824997  138.699997  139.759995  139.759995   \n",
       "2024-01-11  140.710007  141.199997  137.550003  139.449997  139.449997   \n",
       "2024-01-12  139.350006  140.990005  137.130005  137.139999  137.139999   \n",
       "\n",
       "              Volume  \n",
       "Date                  \n",
       "2020-12-10  70447500  \n",
       "2020-12-11  26980800  \n",
       "2020-12-14  16966100  \n",
       "2020-12-15  10914400  \n",
       "2020-12-16  20409600  \n",
       "...              ...  \n",
       "2024-01-08   4179700  \n",
       "2024-01-09   3560900  \n",
       "2024-01-10   2492700  \n",
       "2024-01-11   2383500  \n",
       "2024-01-12   2480600  \n",
       "\n",
       "[777 rows x 6 columns]"
      ]
     },
     "execution_count": 3,
     "metadata": {},
     "output_type": "execute_result"
    }
   ],
   "source": [
    "df.set_index(\"Date\",inplace=True)\n",
    "df"
   ]
  },
  {
   "cell_type": "code",
   "execution_count": 4,
   "id": "d1309e23-5183-4bcc-bd0b-7677801c64cc",
   "metadata": {},
   "outputs": [
    {
     "data": {
      "text/html": [
       "<div>\n",
       "<style scoped>\n",
       "    .dataframe tbody tr th:only-of-type {\n",
       "        vertical-align: middle;\n",
       "    }\n",
       "\n",
       "    .dataframe tbody tr th {\n",
       "        vertical-align: top;\n",
       "    }\n",
       "\n",
       "    .dataframe thead th {\n",
       "        text-align: right;\n",
       "    }\n",
       "</style>\n",
       "<table border=\"1\" class=\"dataframe\">\n",
       "  <thead>\n",
       "    <tr style=\"text-align: right;\">\n",
       "      <th></th>\n",
       "      <th>Open</th>\n",
       "      <th>High</th>\n",
       "      <th>Low</th>\n",
       "      <th>Close</th>\n",
       "    </tr>\n",
       "    <tr>\n",
       "      <th>Date</th>\n",
       "      <th></th>\n",
       "      <th></th>\n",
       "      <th></th>\n",
       "      <th></th>\n",
       "    </tr>\n",
       "  </thead>\n",
       "  <tbody>\n",
       "    <tr>\n",
       "      <th>2020-12-10</th>\n",
       "      <td>146.000000</td>\n",
       "      <td>165.000000</td>\n",
       "      <td>141.250000</td>\n",
       "      <td>144.710007</td>\n",
       "    </tr>\n",
       "    <tr>\n",
       "      <th>2020-12-11</th>\n",
       "      <td>146.550003</td>\n",
       "      <td>151.500000</td>\n",
       "      <td>135.100006</td>\n",
       "      <td>139.250000</td>\n",
       "    </tr>\n",
       "    <tr>\n",
       "      <th>2020-12-14</th>\n",
       "      <td>135.000000</td>\n",
       "      <td>135.300003</td>\n",
       "      <td>125.160004</td>\n",
       "      <td>130.000000</td>\n",
       "    </tr>\n",
       "    <tr>\n",
       "      <th>2020-12-15</th>\n",
       "      <td>126.690002</td>\n",
       "      <td>127.599998</td>\n",
       "      <td>121.500000</td>\n",
       "      <td>124.800003</td>\n",
       "    </tr>\n",
       "    <tr>\n",
       "      <th>2020-12-16</th>\n",
       "      <td>125.830002</td>\n",
       "      <td>142.000000</td>\n",
       "      <td>124.910004</td>\n",
       "      <td>137.990005</td>\n",
       "    </tr>\n",
       "    <tr>\n",
       "      <th>...</th>\n",
       "      <td>...</td>\n",
       "      <td>...</td>\n",
       "      <td>...</td>\n",
       "      <td>...</td>\n",
       "    </tr>\n",
       "    <tr>\n",
       "      <th>2024-01-08</th>\n",
       "      <td>137.309998</td>\n",
       "      <td>140.250000</td>\n",
       "      <td>136.610001</td>\n",
       "      <td>140.080002</td>\n",
       "    </tr>\n",
       "    <tr>\n",
       "      <th>2024-01-09</th>\n",
       "      <td>138.520004</td>\n",
       "      <td>139.539993</td>\n",
       "      <td>137.789993</td>\n",
       "      <td>139.529999</td>\n",
       "    </tr>\n",
       "    <tr>\n",
       "      <th>2024-01-10</th>\n",
       "      <td>139.199997</td>\n",
       "      <td>140.824997</td>\n",
       "      <td>138.699997</td>\n",
       "      <td>139.759995</td>\n",
       "    </tr>\n",
       "    <tr>\n",
       "      <th>2024-01-11</th>\n",
       "      <td>140.710007</td>\n",
       "      <td>141.199997</td>\n",
       "      <td>137.550003</td>\n",
       "      <td>139.449997</td>\n",
       "    </tr>\n",
       "    <tr>\n",
       "      <th>2024-01-12</th>\n",
       "      <td>139.350006</td>\n",
       "      <td>140.990005</td>\n",
       "      <td>137.130005</td>\n",
       "      <td>137.139999</td>\n",
       "    </tr>\n",
       "  </tbody>\n",
       "</table>\n",
       "<p>777 rows × 4 columns</p>\n",
       "</div>"
      ],
      "text/plain": [
       "                  Open        High         Low       Close\n",
       "Date                                                      \n",
       "2020-12-10  146.000000  165.000000  141.250000  144.710007\n",
       "2020-12-11  146.550003  151.500000  135.100006  139.250000\n",
       "2020-12-14  135.000000  135.300003  125.160004  130.000000\n",
       "2020-12-15  126.690002  127.599998  121.500000  124.800003\n",
       "2020-12-16  125.830002  142.000000  124.910004  137.990005\n",
       "...                ...         ...         ...         ...\n",
       "2024-01-08  137.309998  140.250000  136.610001  140.080002\n",
       "2024-01-09  138.520004  139.539993  137.789993  139.529999\n",
       "2024-01-10  139.199997  140.824997  138.699997  139.759995\n",
       "2024-01-11  140.710007  141.199997  137.550003  139.449997\n",
       "2024-01-12  139.350006  140.990005  137.130005  137.139999\n",
       "\n",
       "[777 rows x 4 columns]"
      ]
     },
     "execution_count": 4,
     "metadata": {},
     "output_type": "execute_result"
    }
   ],
   "source": [
    "x = df.drop(columns=['Adj Close','Volume'])\n",
    "x"
   ]
  },
  {
   "cell_type": "code",
   "execution_count": 5,
   "id": "4e7b168a-d77c-45b6-b6a1-2ff2e14d84d1",
   "metadata": {},
   "outputs": [
    {
     "data": {
      "text/plain": [
       "Date\n",
       "2020-12-10    144.710007\n",
       "2020-12-11    139.250000\n",
       "2020-12-14    130.000000\n",
       "2020-12-15    124.800003\n",
       "2020-12-16    137.990005\n",
       "                 ...    \n",
       "2024-01-08    140.080002\n",
       "2024-01-09    139.529999\n",
       "2024-01-10    139.759995\n",
       "2024-01-11    139.449997\n",
       "2024-01-12    137.139999\n",
       "Name: Adj Close, Length: 777, dtype: float64"
      ]
     },
     "execution_count": 5,
     "metadata": {},
     "output_type": "execute_result"
    }
   ],
   "source": [
    "y = df['Adj Close']\n",
    "y"
   ]
  },
  {
   "cell_type": "code",
   "execution_count": 6,
   "id": "af8157cc-9ef7-4654-a1a7-55b0fe8ef803",
   "metadata": {},
   "outputs": [],
   "source": [
    "#Splitting the dataset into training and testing\n",
    "x_train,x_test,y_train,y_test = train_test_split(x,y,test_size=0.2,random_state=42)"
   ]
  },
  {
   "cell_type": "code",
   "execution_count": 7,
   "id": "89e332c6-8d50-4fdc-9918-2bc56f17e833",
   "metadata": {},
   "outputs": [],
   "source": [
    "hbr = HuberRegressor()"
   ]
  },
  {
   "cell_type": "code",
   "execution_count": 8,
   "id": "e688014f-ba6f-4454-b168-82424af5ef09",
   "metadata": {},
   "outputs": [
    {
     "name": "stderr",
     "output_type": "stream",
     "text": [
      "C:\\Users\\User\\anaconda3\\envs\\Research\\lib\\site-packages\\sklearn\\linear_model\\_huber.py:342: ConvergenceWarning: lbfgs failed to converge (status=1):\n",
      "STOP: TOTAL NO. of ITERATIONS REACHED LIMIT.\n",
      "\n",
      "Increase the number of iterations (max_iter) or scale the data as shown in:\n",
      "    https://scikit-learn.org/stable/modules/preprocessing.html\n",
      "  self.n_iter_ = _check_optimize_result(\"lbfgs\", opt_res, self.max_iter)\n"
     ]
    },
    {
     "data": {
      "text/html": [
       "<style>#sk-container-id-1 {color: black;}#sk-container-id-1 pre{padding: 0;}#sk-container-id-1 div.sk-toggleable {background-color: white;}#sk-container-id-1 label.sk-toggleable__label {cursor: pointer;display: block;width: 100%;margin-bottom: 0;padding: 0.3em;box-sizing: border-box;text-align: center;}#sk-container-id-1 label.sk-toggleable__label-arrow:before {content: \"▸\";float: left;margin-right: 0.25em;color: #696969;}#sk-container-id-1 label.sk-toggleable__label-arrow:hover:before {color: black;}#sk-container-id-1 div.sk-estimator:hover label.sk-toggleable__label-arrow:before {color: black;}#sk-container-id-1 div.sk-toggleable__content {max-height: 0;max-width: 0;overflow: hidden;text-align: left;background-color: #f0f8ff;}#sk-container-id-1 div.sk-toggleable__content pre {margin: 0.2em;color: black;border-radius: 0.25em;background-color: #f0f8ff;}#sk-container-id-1 input.sk-toggleable__control:checked~div.sk-toggleable__content {max-height: 200px;max-width: 100%;overflow: auto;}#sk-container-id-1 input.sk-toggleable__control:checked~label.sk-toggleable__label-arrow:before {content: \"▾\";}#sk-container-id-1 div.sk-estimator input.sk-toggleable__control:checked~label.sk-toggleable__label {background-color: #d4ebff;}#sk-container-id-1 div.sk-label input.sk-toggleable__control:checked~label.sk-toggleable__label {background-color: #d4ebff;}#sk-container-id-1 input.sk-hidden--visually {border: 0;clip: rect(1px 1px 1px 1px);clip: rect(1px, 1px, 1px, 1px);height: 1px;margin: -1px;overflow: hidden;padding: 0;position: absolute;width: 1px;}#sk-container-id-1 div.sk-estimator {font-family: monospace;background-color: #f0f8ff;border: 1px dotted black;border-radius: 0.25em;box-sizing: border-box;margin-bottom: 0.5em;}#sk-container-id-1 div.sk-estimator:hover {background-color: #d4ebff;}#sk-container-id-1 div.sk-parallel-item::after {content: \"\";width: 100%;border-bottom: 1px solid gray;flex-grow: 1;}#sk-container-id-1 div.sk-label:hover label.sk-toggleable__label {background-color: #d4ebff;}#sk-container-id-1 div.sk-serial::before {content: \"\";position: absolute;border-left: 1px solid gray;box-sizing: border-box;top: 0;bottom: 0;left: 50%;z-index: 0;}#sk-container-id-1 div.sk-serial {display: flex;flex-direction: column;align-items: center;background-color: white;padding-right: 0.2em;padding-left: 0.2em;position: relative;}#sk-container-id-1 div.sk-item {position: relative;z-index: 1;}#sk-container-id-1 div.sk-parallel {display: flex;align-items: stretch;justify-content: center;background-color: white;position: relative;}#sk-container-id-1 div.sk-item::before, #sk-container-id-1 div.sk-parallel-item::before {content: \"\";position: absolute;border-left: 1px solid gray;box-sizing: border-box;top: 0;bottom: 0;left: 50%;z-index: -1;}#sk-container-id-1 div.sk-parallel-item {display: flex;flex-direction: column;z-index: 1;position: relative;background-color: white;}#sk-container-id-1 div.sk-parallel-item:first-child::after {align-self: flex-end;width: 50%;}#sk-container-id-1 div.sk-parallel-item:last-child::after {align-self: flex-start;width: 50%;}#sk-container-id-1 div.sk-parallel-item:only-child::after {width: 0;}#sk-container-id-1 div.sk-dashed-wrapped {border: 1px dashed gray;margin: 0 0.4em 0.5em 0.4em;box-sizing: border-box;padding-bottom: 0.4em;background-color: white;}#sk-container-id-1 div.sk-label label {font-family: monospace;font-weight: bold;display: inline-block;line-height: 1.2em;}#sk-container-id-1 div.sk-label-container {text-align: center;}#sk-container-id-1 div.sk-container {/* jupyter's `normalize.less` sets `[hidden] { display: none; }` but bootstrap.min.css set `[hidden] { display: none !important; }` so we also need the `!important` here to be able to override the default hidden behavior on the sphinx rendered scikit-learn.org. See: https://github.com/scikit-learn/scikit-learn/issues/21755 */display: inline-block !important;position: relative;}#sk-container-id-1 div.sk-text-repr-fallback {display: none;}</style><div id=\"sk-container-id-1\" class=\"sk-top-container\"><div class=\"sk-text-repr-fallback\"><pre>HuberRegressor()</pre><b>In a Jupyter environment, please rerun this cell to show the HTML representation or trust the notebook. <br />On GitHub, the HTML representation is unable to render, please try loading this page with nbviewer.org.</b></div><div class=\"sk-container\" hidden><div class=\"sk-item\"><div class=\"sk-estimator sk-toggleable\"><input class=\"sk-toggleable__control sk-hidden--visually\" id=\"sk-estimator-id-1\" type=\"checkbox\" checked><label for=\"sk-estimator-id-1\" class=\"sk-toggleable__label sk-toggleable__label-arrow\">HuberRegressor</label><div class=\"sk-toggleable__content\"><pre>HuberRegressor()</pre></div></div></div></div></div>"
      ],
      "text/plain": [
       "HuberRegressor()"
      ]
     },
     "execution_count": 8,
     "metadata": {},
     "output_type": "execute_result"
    }
   ],
   "source": [
    "hbr.fit(x_train,y_train)"
   ]
  },
  {
   "cell_type": "code",
   "execution_count": 9,
   "id": "cc0dbda2-66db-4dc0-aef7-9c9314da7773",
   "metadata": {},
   "outputs": [],
   "source": [
    "pred = hbr.predict(x_test)"
   ]
  },
  {
   "cell_type": "code",
   "execution_count": 10,
   "id": "77493ccc-bda3-4aef-97f2-a4e11f6412e2",
   "metadata": {},
   "outputs": [
    {
     "data": {
      "text/plain": [
       "1.0"
      ]
     },
     "execution_count": 10,
     "metadata": {},
     "output_type": "execute_result"
    }
   ],
   "source": [
    "r2_score(y_test,pred)"
   ]
  },
  {
   "cell_type": "code",
   "execution_count": 11,
   "id": "feb57f7b-5a98-4537-a0c8-366a0382ef72",
   "metadata": {},
   "outputs": [
    {
     "data": {
      "text/plain": [
       "3.817007781028472e-15"
      ]
     },
     "execution_count": 11,
     "metadata": {},
     "output_type": "execute_result"
    }
   ],
   "source": [
    "mean_squared_error(y_test,pred)"
   ]
  },
  {
   "cell_type": "markdown",
   "id": "bee46386-cec7-48bb-868a-5e21d4e6bc25",
   "metadata": {},
   "source": [
    "## Quantile Regressor"
   ]
  },
  {
   "cell_type": "markdown",
   "id": "17c9d255",
   "metadata": {},
   "source": [
    "* **Quantile Regression** is a statistical technique used to estimate the conditional quantiles of a response variable given certain predictor variables. Unlike traditional regression methods that focus on estimating the conditional mean of the response variable, quantile regression allows for the estimation of various quantiles, providing a more comprehensive understanding of the relationship between predictors and the response variable.\n",
    "\n",
    "Here are some key points about Quantile Regression:\n",
    "\n",
    "**1. Conditional Quantiles:** In Quantile Regression, instead of estimating the conditional mean of the response variable, we estimate its conditional quantiles. A quantile represents a specific value below which a certain proportion of the data falls. For example, the median represents the 50th percentile, while the 25th percentile represents the first quartile.\n",
    "\n",
    "**2. Robustness:** Quantile Regression is more robust to outliers compared to traditional least squares regression, which focuses on estimating the conditional mean. By estimating quantiles, the model is less influenced by extreme values in the response variable.\n",
    "\n",
    "**3. Flexibility:** Quantile Regression allows for the estimation of multiple quantiles simultaneously, providing insights into the entire distribution of the response variable. This makes it suitable for analyzing asymmetric or non-normal distributions.\n",
    "\n",
    "**4. Interpretability:** The coefficients estimated in Quantile Regression represent the effects of predictor variables on specific quantiles of the response variable. This can provide valuable insights into how the relationship between predictors and the response variable varies across different parts of the distribution.\n",
    "\n",
    "**5. Applications:** Quantile Regression has applications in various fields, including economics, finance, epidemiology, and environmental science. It is particularly useful when analyzing data with heteroscedasticity (varying spread) or when the distribution of the response variable is skewed.\n",
    "\n",
    "**6. Estimation Methods:** Quantile Regression can be estimated using various methods, including linear programming, gradient descent, and iteratively reweighted least squares (IRLS). The choice of method depends on the computational complexity and the specific requirements of the analysis.\n",
    "\n",
    "* Overall, Quantile Regression is a valuable tool for exploring the relationship between predictor variables and the conditional distribution of the response variable, providing insights that may be missed by focusing solely on the conditional mean."
   ]
  },
  {
   "cell_type": "code",
   "execution_count": 12,
   "id": "ef7dfa97",
   "metadata": {},
   "outputs": [],
   "source": [
    "qr = QuantileRegressor(solver='highs')"
   ]
  },
  {
   "cell_type": "code",
   "execution_count": 13,
   "id": "beb6db43-bbf6-4906-a022-7e698e0bf3c1",
   "metadata": {},
   "outputs": [
    {
     "data": {
      "text/html": [
       "<style>#sk-container-id-2 {color: black;}#sk-container-id-2 pre{padding: 0;}#sk-container-id-2 div.sk-toggleable {background-color: white;}#sk-container-id-2 label.sk-toggleable__label {cursor: pointer;display: block;width: 100%;margin-bottom: 0;padding: 0.3em;box-sizing: border-box;text-align: center;}#sk-container-id-2 label.sk-toggleable__label-arrow:before {content: \"▸\";float: left;margin-right: 0.25em;color: #696969;}#sk-container-id-2 label.sk-toggleable__label-arrow:hover:before {color: black;}#sk-container-id-2 div.sk-estimator:hover label.sk-toggleable__label-arrow:before {color: black;}#sk-container-id-2 div.sk-toggleable__content {max-height: 0;max-width: 0;overflow: hidden;text-align: left;background-color: #f0f8ff;}#sk-container-id-2 div.sk-toggleable__content pre {margin: 0.2em;color: black;border-radius: 0.25em;background-color: #f0f8ff;}#sk-container-id-2 input.sk-toggleable__control:checked~div.sk-toggleable__content {max-height: 200px;max-width: 100%;overflow: auto;}#sk-container-id-2 input.sk-toggleable__control:checked~label.sk-toggleable__label-arrow:before {content: \"▾\";}#sk-container-id-2 div.sk-estimator input.sk-toggleable__control:checked~label.sk-toggleable__label {background-color: #d4ebff;}#sk-container-id-2 div.sk-label input.sk-toggleable__control:checked~label.sk-toggleable__label {background-color: #d4ebff;}#sk-container-id-2 input.sk-hidden--visually {border: 0;clip: rect(1px 1px 1px 1px);clip: rect(1px, 1px, 1px, 1px);height: 1px;margin: -1px;overflow: hidden;padding: 0;position: absolute;width: 1px;}#sk-container-id-2 div.sk-estimator {font-family: monospace;background-color: #f0f8ff;border: 1px dotted black;border-radius: 0.25em;box-sizing: border-box;margin-bottom: 0.5em;}#sk-container-id-2 div.sk-estimator:hover {background-color: #d4ebff;}#sk-container-id-2 div.sk-parallel-item::after {content: \"\";width: 100%;border-bottom: 1px solid gray;flex-grow: 1;}#sk-container-id-2 div.sk-label:hover label.sk-toggleable__label {background-color: #d4ebff;}#sk-container-id-2 div.sk-serial::before {content: \"\";position: absolute;border-left: 1px solid gray;box-sizing: border-box;top: 0;bottom: 0;left: 50%;z-index: 0;}#sk-container-id-2 div.sk-serial {display: flex;flex-direction: column;align-items: center;background-color: white;padding-right: 0.2em;padding-left: 0.2em;position: relative;}#sk-container-id-2 div.sk-item {position: relative;z-index: 1;}#sk-container-id-2 div.sk-parallel {display: flex;align-items: stretch;justify-content: center;background-color: white;position: relative;}#sk-container-id-2 div.sk-item::before, #sk-container-id-2 div.sk-parallel-item::before {content: \"\";position: absolute;border-left: 1px solid gray;box-sizing: border-box;top: 0;bottom: 0;left: 50%;z-index: -1;}#sk-container-id-2 div.sk-parallel-item {display: flex;flex-direction: column;z-index: 1;position: relative;background-color: white;}#sk-container-id-2 div.sk-parallel-item:first-child::after {align-self: flex-end;width: 50%;}#sk-container-id-2 div.sk-parallel-item:last-child::after {align-self: flex-start;width: 50%;}#sk-container-id-2 div.sk-parallel-item:only-child::after {width: 0;}#sk-container-id-2 div.sk-dashed-wrapped {border: 1px dashed gray;margin: 0 0.4em 0.5em 0.4em;box-sizing: border-box;padding-bottom: 0.4em;background-color: white;}#sk-container-id-2 div.sk-label label {font-family: monospace;font-weight: bold;display: inline-block;line-height: 1.2em;}#sk-container-id-2 div.sk-label-container {text-align: center;}#sk-container-id-2 div.sk-container {/* jupyter's `normalize.less` sets `[hidden] { display: none; }` but bootstrap.min.css set `[hidden] { display: none !important; }` so we also need the `!important` here to be able to override the default hidden behavior on the sphinx rendered scikit-learn.org. See: https://github.com/scikit-learn/scikit-learn/issues/21755 */display: inline-block !important;position: relative;}#sk-container-id-2 div.sk-text-repr-fallback {display: none;}</style><div id=\"sk-container-id-2\" class=\"sk-top-container\"><div class=\"sk-text-repr-fallback\"><pre>QuantileRegressor(solver=&#x27;highs&#x27;)</pre><b>In a Jupyter environment, please rerun this cell to show the HTML representation or trust the notebook. <br />On GitHub, the HTML representation is unable to render, please try loading this page with nbviewer.org.</b></div><div class=\"sk-container\" hidden><div class=\"sk-item\"><div class=\"sk-estimator sk-toggleable\"><input class=\"sk-toggleable__control sk-hidden--visually\" id=\"sk-estimator-id-2\" type=\"checkbox\" checked><label for=\"sk-estimator-id-2\" class=\"sk-toggleable__label sk-toggleable__label-arrow\">QuantileRegressor</label><div class=\"sk-toggleable__content\"><pre>QuantileRegressor(solver=&#x27;highs&#x27;)</pre></div></div></div></div></div>"
      ],
      "text/plain": [
       "QuantileRegressor(solver='highs')"
      ]
     },
     "execution_count": 13,
     "metadata": {},
     "output_type": "execute_result"
    }
   ],
   "source": [
    "qr.fit(x_train,y_train)"
   ]
  },
  {
   "cell_type": "code",
   "execution_count": 14,
   "id": "015ce51d-d7a4-4904-a492-052018aadd5c",
   "metadata": {},
   "outputs": [],
   "source": [
    "pred = qr.predict(x_test)"
   ]
  },
  {
   "cell_type": "code",
   "execution_count": 15,
   "id": "f1c368c0-6afd-484b-8a13-7a209e53b1dd",
   "metadata": {},
   "outputs": [
    {
     "data": {
      "text/plain": [
       "1.0"
      ]
     },
     "execution_count": 15,
     "metadata": {},
     "output_type": "execute_result"
    }
   ],
   "source": [
    "r2_score(y_test,pred)"
   ]
  },
  {
   "cell_type": "code",
   "execution_count": 16,
   "id": "1a6da02e-545d-43d5-a834-916bf590bb85",
   "metadata": {},
   "outputs": [
    {
     "data": {
      "text/plain": [
       "0.0"
      ]
     },
     "execution_count": 16,
     "metadata": {},
     "output_type": "execute_result"
    }
   ],
   "source": [
    "mean_squared_error(y_test,pred)"
   ]
  },
  {
   "cell_type": "markdown",
   "id": "59df44a5-c754-4d4f-bdff-8c8b8979072e",
   "metadata": {},
   "source": [
    "## RANSAC Regressor"
   ]
  },
  {
   "cell_type": "markdown",
   "id": "f2b35c05",
   "metadata": {},
   "source": [
    "* **RANSAC (RANdom SAmple Consensus)** is an iterative algorithm used for robust regression. It is particularly useful when a dataset contains outliers or noisy data points that can significantly affect the estimation of a regression model. RANSAC works by iteratively fitting models to subsets of the data called \"inliers,\" discarding outliers, and eventually selecting the model with the best overall performance.\n",
    "\n",
    "Here's how the RANSAC algorithm works:\n",
    "\n",
    "**1. Initialization:** Choose a random subset of the data points (called the \"minimal sample\") to form an initial model. The minimal sample size is determined by the number of parameters in the model.\n",
    "\n",
    "**2. Model Fitting:** Fit a model to the minimal sample using standard regression techniques (e.g., linear regression).\n",
    "\n",
    "**3. Inlier Selection:** Determine which data points in the dataset are \"inliers\" according to the fitted model. This is typically done by calculating the residuals (the vertical distances between the data points and the model) and considering data points with residuals below a certain threshold as inliers.\n",
    "\n",
    "**4. Model Evaluation:** Evaluate the quality of the fitted model based on the number of inliers it has. A good model should have a sufficient number of inliers.\n",
    "\n",
    "**5. Model Refinement:** Optionally, refit the model using all of the inliers identified in the previous step to improve its accuracy.\n",
    "\n",
    "**6. Iteration:** Repeat steps 1-5 for a fixed number of iterations or until certain convergence criteria are met.\n",
    "\n",
    "**7. Model Selection:** After a predetermined number of iterations, select the model that has the highest number of inliers or the best overall performance.\n",
    "\n",
    "* RANSAC is commonly used in computer vision, image processing, and other fields where robust estimation of geometric models (e.g., lines, planes, or other shapes) is necessary in the presence of outliers or noise.\n",
    "\n",
    "* In summary, RANSAC is a powerful algorithm for robust regression that can effectively handle datasets with outliers or noisy data points by iteratively fitting models and identifying the most consistent subset of data."
   ]
  },
  {
   "cell_type": "code",
   "execution_count": 17,
   "id": "0252d714",
   "metadata": {},
   "outputs": [],
   "source": [
    "rr = RANSACRegressor()"
   ]
  },
  {
   "cell_type": "code",
   "execution_count": 18,
   "id": "fa03c1fe-6c60-4b4f-9515-908b8c553585",
   "metadata": {},
   "outputs": [
    {
     "data": {
      "text/html": [
       "<style>#sk-container-id-3 {color: black;}#sk-container-id-3 pre{padding: 0;}#sk-container-id-3 div.sk-toggleable {background-color: white;}#sk-container-id-3 label.sk-toggleable__label {cursor: pointer;display: block;width: 100%;margin-bottom: 0;padding: 0.3em;box-sizing: border-box;text-align: center;}#sk-container-id-3 label.sk-toggleable__label-arrow:before {content: \"▸\";float: left;margin-right: 0.25em;color: #696969;}#sk-container-id-3 label.sk-toggleable__label-arrow:hover:before {color: black;}#sk-container-id-3 div.sk-estimator:hover label.sk-toggleable__label-arrow:before {color: black;}#sk-container-id-3 div.sk-toggleable__content {max-height: 0;max-width: 0;overflow: hidden;text-align: left;background-color: #f0f8ff;}#sk-container-id-3 div.sk-toggleable__content pre {margin: 0.2em;color: black;border-radius: 0.25em;background-color: #f0f8ff;}#sk-container-id-3 input.sk-toggleable__control:checked~div.sk-toggleable__content {max-height: 200px;max-width: 100%;overflow: auto;}#sk-container-id-3 input.sk-toggleable__control:checked~label.sk-toggleable__label-arrow:before {content: \"▾\";}#sk-container-id-3 div.sk-estimator input.sk-toggleable__control:checked~label.sk-toggleable__label {background-color: #d4ebff;}#sk-container-id-3 div.sk-label input.sk-toggleable__control:checked~label.sk-toggleable__label {background-color: #d4ebff;}#sk-container-id-3 input.sk-hidden--visually {border: 0;clip: rect(1px 1px 1px 1px);clip: rect(1px, 1px, 1px, 1px);height: 1px;margin: -1px;overflow: hidden;padding: 0;position: absolute;width: 1px;}#sk-container-id-3 div.sk-estimator {font-family: monospace;background-color: #f0f8ff;border: 1px dotted black;border-radius: 0.25em;box-sizing: border-box;margin-bottom: 0.5em;}#sk-container-id-3 div.sk-estimator:hover {background-color: #d4ebff;}#sk-container-id-3 div.sk-parallel-item::after {content: \"\";width: 100%;border-bottom: 1px solid gray;flex-grow: 1;}#sk-container-id-3 div.sk-label:hover label.sk-toggleable__label {background-color: #d4ebff;}#sk-container-id-3 div.sk-serial::before {content: \"\";position: absolute;border-left: 1px solid gray;box-sizing: border-box;top: 0;bottom: 0;left: 50%;z-index: 0;}#sk-container-id-3 div.sk-serial {display: flex;flex-direction: column;align-items: center;background-color: white;padding-right: 0.2em;padding-left: 0.2em;position: relative;}#sk-container-id-3 div.sk-item {position: relative;z-index: 1;}#sk-container-id-3 div.sk-parallel {display: flex;align-items: stretch;justify-content: center;background-color: white;position: relative;}#sk-container-id-3 div.sk-item::before, #sk-container-id-3 div.sk-parallel-item::before {content: \"\";position: absolute;border-left: 1px solid gray;box-sizing: border-box;top: 0;bottom: 0;left: 50%;z-index: -1;}#sk-container-id-3 div.sk-parallel-item {display: flex;flex-direction: column;z-index: 1;position: relative;background-color: white;}#sk-container-id-3 div.sk-parallel-item:first-child::after {align-self: flex-end;width: 50%;}#sk-container-id-3 div.sk-parallel-item:last-child::after {align-self: flex-start;width: 50%;}#sk-container-id-3 div.sk-parallel-item:only-child::after {width: 0;}#sk-container-id-3 div.sk-dashed-wrapped {border: 1px dashed gray;margin: 0 0.4em 0.5em 0.4em;box-sizing: border-box;padding-bottom: 0.4em;background-color: white;}#sk-container-id-3 div.sk-label label {font-family: monospace;font-weight: bold;display: inline-block;line-height: 1.2em;}#sk-container-id-3 div.sk-label-container {text-align: center;}#sk-container-id-3 div.sk-container {/* jupyter's `normalize.less` sets `[hidden] { display: none; }` but bootstrap.min.css set `[hidden] { display: none !important; }` so we also need the `!important` here to be able to override the default hidden behavior on the sphinx rendered scikit-learn.org. See: https://github.com/scikit-learn/scikit-learn/issues/21755 */display: inline-block !important;position: relative;}#sk-container-id-3 div.sk-text-repr-fallback {display: none;}</style><div id=\"sk-container-id-3\" class=\"sk-top-container\"><div class=\"sk-text-repr-fallback\"><pre>RANSACRegressor()</pre><b>In a Jupyter environment, please rerun this cell to show the HTML representation or trust the notebook. <br />On GitHub, the HTML representation is unable to render, please try loading this page with nbviewer.org.</b></div><div class=\"sk-container\" hidden><div class=\"sk-item\"><div class=\"sk-estimator sk-toggleable\"><input class=\"sk-toggleable__control sk-hidden--visually\" id=\"sk-estimator-id-3\" type=\"checkbox\" checked><label for=\"sk-estimator-id-3\" class=\"sk-toggleable__label sk-toggleable__label-arrow\">RANSACRegressor</label><div class=\"sk-toggleable__content\"><pre>RANSACRegressor()</pre></div></div></div></div></div>"
      ],
      "text/plain": [
       "RANSACRegressor()"
      ]
     },
     "execution_count": 18,
     "metadata": {},
     "output_type": "execute_result"
    }
   ],
   "source": [
    "rr.fit(x_train,y_train)"
   ]
  },
  {
   "cell_type": "code",
   "execution_count": 19,
   "id": "1adfb36a-5aaa-4604-ac2a-7a99ac62488d",
   "metadata": {},
   "outputs": [],
   "source": [
    "pred = rr.predict(x_test)"
   ]
  },
  {
   "cell_type": "code",
   "execution_count": 20,
   "id": "39ac88f8-ebb8-43b2-9a77-23431093f965",
   "metadata": {},
   "outputs": [
    {
     "data": {
      "text/plain": [
       "1.0"
      ]
     },
     "execution_count": 20,
     "metadata": {},
     "output_type": "execute_result"
    }
   ],
   "source": [
    "r2_score(y_test,pred)"
   ]
  },
  {
   "cell_type": "code",
   "execution_count": 21,
   "id": "54590e6f-bee8-452e-bb82-6f65963b9d8b",
   "metadata": {},
   "outputs": [
    {
     "data": {
      "text/plain": [
       "2.5036422411445118e-27"
      ]
     },
     "execution_count": 21,
     "metadata": {},
     "output_type": "execute_result"
    }
   ],
   "source": [
    "mean_squared_error(y_test,pred)"
   ]
  },
  {
   "cell_type": "markdown",
   "id": "71cf27aa-970e-48f7-8d24-0462f3234c63",
   "metadata": {},
   "source": [
    "## TheilSenRegressor"
   ]
  },
  {
   "cell_type": "markdown",
   "id": "166b8f81",
   "metadata": {},
   "source": [
    "* The **Theil-Sen** estimator, also known as **Sen's slope estimator** or **Kendall's tau estimator**, is a **non-parametric method** for robust linear regression. It is particularly useful when the assumption of normally distributed errors or homoscedasticity (constant variance) in traditional linear regression techniques is violated due to outliers or non-normality in the data.\n",
    "\n",
    "Here's how the Theil-Sen estimator works:\n",
    "\n",
    "**1. Median Slope:** For each pair of data points (x_i, y_i) and (x_j, y_j), calculate the slope (y_j - y_i) / (x_j - x_i) and take the median of all these slopes. This median slope estimate is robust to outliers because it is less influenced by extreme values.\n",
    "\n",
    "**2. Median Intercept:** Calculate the median of the y-intercepts of the lines passing through all pairs of data points. This provides a robust estimate of the intercept.\n",
    "\n",
    "**3. Final Model:** Use the median slope and median intercept to define the final robust linear regression model.\n",
    "\n",
    "* The Theil-Sen estimator is robust because it relies on the median instead of the mean, making it less sensitive to outliers. It provides a compromise between the highly robust, but less efficient, estimators like the median and the efficient, but less robust, estimators like ordinary least squares (OLS) regression.\n",
    "\n",
    "**Advantages of Theil-Sen estimator:**\n",
    "* **Robustness:** It can handle datasets with outliers and non-normal errors without significantly affecting the estimation.\n",
    "\n",
    "* **Efficiency:** It is more efficient than some other robust estimators like M-estimators.\n",
    "\n",
    "**Disadvantages of Theil-Sen estimator:**\n",
    "* **Computational complexity:** The computation of all pairwise slopes can be computationally intensive for large datasets.\n",
    "\n",
    "* **Less efficient:** While it is more efficient than some other robust estimators, it is less efficient than ordinary least squares when the data are clean and normally distributed.\n",
    "\n",
    "* Overall, the Theil-Sen estimator is a valuable tool for robust linear regression when dealing with real-world datasets that may contain outliers or non-normal errors."
   ]
  },
  {
   "cell_type": "code",
   "execution_count": 22,
   "id": "8e2a079d",
   "metadata": {},
   "outputs": [],
   "source": [
    "tr = TheilSenRegressor()"
   ]
  },
  {
   "cell_type": "code",
   "execution_count": 23,
   "id": "b8385c68-2ff5-4e93-be9c-d02016c569d9",
   "metadata": {},
   "outputs": [
    {
     "data": {
      "text/html": [
       "<style>#sk-container-id-4 {color: black;}#sk-container-id-4 pre{padding: 0;}#sk-container-id-4 div.sk-toggleable {background-color: white;}#sk-container-id-4 label.sk-toggleable__label {cursor: pointer;display: block;width: 100%;margin-bottom: 0;padding: 0.3em;box-sizing: border-box;text-align: center;}#sk-container-id-4 label.sk-toggleable__label-arrow:before {content: \"▸\";float: left;margin-right: 0.25em;color: #696969;}#sk-container-id-4 label.sk-toggleable__label-arrow:hover:before {color: black;}#sk-container-id-4 div.sk-estimator:hover label.sk-toggleable__label-arrow:before {color: black;}#sk-container-id-4 div.sk-toggleable__content {max-height: 0;max-width: 0;overflow: hidden;text-align: left;background-color: #f0f8ff;}#sk-container-id-4 div.sk-toggleable__content pre {margin: 0.2em;color: black;border-radius: 0.25em;background-color: #f0f8ff;}#sk-container-id-4 input.sk-toggleable__control:checked~div.sk-toggleable__content {max-height: 200px;max-width: 100%;overflow: auto;}#sk-container-id-4 input.sk-toggleable__control:checked~label.sk-toggleable__label-arrow:before {content: \"▾\";}#sk-container-id-4 div.sk-estimator input.sk-toggleable__control:checked~label.sk-toggleable__label {background-color: #d4ebff;}#sk-container-id-4 div.sk-label input.sk-toggleable__control:checked~label.sk-toggleable__label {background-color: #d4ebff;}#sk-container-id-4 input.sk-hidden--visually {border: 0;clip: rect(1px 1px 1px 1px);clip: rect(1px, 1px, 1px, 1px);height: 1px;margin: -1px;overflow: hidden;padding: 0;position: absolute;width: 1px;}#sk-container-id-4 div.sk-estimator {font-family: monospace;background-color: #f0f8ff;border: 1px dotted black;border-radius: 0.25em;box-sizing: border-box;margin-bottom: 0.5em;}#sk-container-id-4 div.sk-estimator:hover {background-color: #d4ebff;}#sk-container-id-4 div.sk-parallel-item::after {content: \"\";width: 100%;border-bottom: 1px solid gray;flex-grow: 1;}#sk-container-id-4 div.sk-label:hover label.sk-toggleable__label {background-color: #d4ebff;}#sk-container-id-4 div.sk-serial::before {content: \"\";position: absolute;border-left: 1px solid gray;box-sizing: border-box;top: 0;bottom: 0;left: 50%;z-index: 0;}#sk-container-id-4 div.sk-serial {display: flex;flex-direction: column;align-items: center;background-color: white;padding-right: 0.2em;padding-left: 0.2em;position: relative;}#sk-container-id-4 div.sk-item {position: relative;z-index: 1;}#sk-container-id-4 div.sk-parallel {display: flex;align-items: stretch;justify-content: center;background-color: white;position: relative;}#sk-container-id-4 div.sk-item::before, #sk-container-id-4 div.sk-parallel-item::before {content: \"\";position: absolute;border-left: 1px solid gray;box-sizing: border-box;top: 0;bottom: 0;left: 50%;z-index: -1;}#sk-container-id-4 div.sk-parallel-item {display: flex;flex-direction: column;z-index: 1;position: relative;background-color: white;}#sk-container-id-4 div.sk-parallel-item:first-child::after {align-self: flex-end;width: 50%;}#sk-container-id-4 div.sk-parallel-item:last-child::after {align-self: flex-start;width: 50%;}#sk-container-id-4 div.sk-parallel-item:only-child::after {width: 0;}#sk-container-id-4 div.sk-dashed-wrapped {border: 1px dashed gray;margin: 0 0.4em 0.5em 0.4em;box-sizing: border-box;padding-bottom: 0.4em;background-color: white;}#sk-container-id-4 div.sk-label label {font-family: monospace;font-weight: bold;display: inline-block;line-height: 1.2em;}#sk-container-id-4 div.sk-label-container {text-align: center;}#sk-container-id-4 div.sk-container {/* jupyter's `normalize.less` sets `[hidden] { display: none; }` but bootstrap.min.css set `[hidden] { display: none !important; }` so we also need the `!important` here to be able to override the default hidden behavior on the sphinx rendered scikit-learn.org. See: https://github.com/scikit-learn/scikit-learn/issues/21755 */display: inline-block !important;position: relative;}#sk-container-id-4 div.sk-text-repr-fallback {display: none;}</style><div id=\"sk-container-id-4\" class=\"sk-top-container\"><div class=\"sk-text-repr-fallback\"><pre>TheilSenRegressor()</pre><b>In a Jupyter environment, please rerun this cell to show the HTML representation or trust the notebook. <br />On GitHub, the HTML representation is unable to render, please try loading this page with nbviewer.org.</b></div><div class=\"sk-container\" hidden><div class=\"sk-item\"><div class=\"sk-estimator sk-toggleable\"><input class=\"sk-toggleable__control sk-hidden--visually\" id=\"sk-estimator-id-4\" type=\"checkbox\" checked><label for=\"sk-estimator-id-4\" class=\"sk-toggleable__label sk-toggleable__label-arrow\">TheilSenRegressor</label><div class=\"sk-toggleable__content\"><pre>TheilSenRegressor()</pre></div></div></div></div></div>"
      ],
      "text/plain": [
       "TheilSenRegressor()"
      ]
     },
     "execution_count": 23,
     "metadata": {},
     "output_type": "execute_result"
    }
   ],
   "source": [
    "tr.fit(x_train,y_train)"
   ]
  },
  {
   "cell_type": "code",
   "execution_count": 24,
   "id": "71bd18ad-96bd-4f45-a973-ade105cbba1a",
   "metadata": {},
   "outputs": [],
   "source": [
    "pred = tr.predict(x_test)"
   ]
  },
  {
   "cell_type": "code",
   "execution_count": 25,
   "id": "e0a1f6a0-9d93-4322-abda-da4a4384662d",
   "metadata": {},
   "outputs": [
    {
     "data": {
      "text/plain": [
       "1.0"
      ]
     },
     "execution_count": 25,
     "metadata": {},
     "output_type": "execute_result"
    }
   ],
   "source": [
    "r2_score(y_test,pred)"
   ]
  },
  {
   "cell_type": "code",
   "execution_count": 26,
   "id": "2806cff5-765f-44ea-9add-ee9319bfb198",
   "metadata": {},
   "outputs": [
    {
     "data": {
      "text/plain": [
       "1.3804984932556916e-26"
      ]
     },
     "execution_count": 26,
     "metadata": {},
     "output_type": "execute_result"
    }
   ],
   "source": [
    "mean_squared_error(y_test,pred)"
   ]
  }
 ],
 "metadata": {
  "kernelspec": {
   "display_name": "Python 3 (ipykernel)",
   "language": "python",
   "name": "python3"
  },
  "language_info": {
   "codemirror_mode": {
    "name": "ipython",
    "version": 3
   },
   "file_extension": ".py",
   "mimetype": "text/x-python",
   "name": "python",
   "nbconvert_exporter": "python",
   "pygments_lexer": "ipython3",
   "version": "3.9.18"
  }
 },
 "nbformat": 4,
 "nbformat_minor": 5
}
