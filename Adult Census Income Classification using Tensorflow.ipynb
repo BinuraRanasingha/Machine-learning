{
 "cells": [
  {
   "cell_type": "markdown",
   "id": "1d5a4fc5-0f5c-475d-8fd5-16ca5185a7c7",
   "metadata": {},
   "source": [
    "# Reading and Displaying the data"
   ]
  },
  {
   "cell_type": "code",
   "execution_count": 1,
   "id": "cafdd44e-f9a7-48ba-9ece-e2200eefd0ba",
   "metadata": {},
   "outputs": [],
   "source": [
    "import pandas as pd\n",
    "from sklearn.model_selection import train_test_split\n",
    "import tensorflow as tf\n",
    "from sklearn.metrics import classification_report"
   ]
  },
  {
   "cell_type": "code",
   "execution_count": 2,
   "id": "c8318719-7399-4c98-a4ef-a79bbf6b1f11",
   "metadata": {},
   "outputs": [
    {
     "data": {
      "text/html": [
       "<div>\n",
       "<style scoped>\n",
       "    .dataframe tbody tr th:only-of-type {\n",
       "        vertical-align: middle;\n",
       "    }\n",
       "\n",
       "    .dataframe tbody tr th {\n",
       "        vertical-align: top;\n",
       "    }\n",
       "\n",
       "    .dataframe thead th {\n",
       "        text-align: right;\n",
       "    }\n",
       "</style>\n",
       "<table border=\"1\" class=\"dataframe\">\n",
       "  <thead>\n",
       "    <tr style=\"text-align: right;\">\n",
       "      <th></th>\n",
       "      <th>age</th>\n",
       "      <th>workclass</th>\n",
       "      <th>education</th>\n",
       "      <th>education_num</th>\n",
       "      <th>marital_status</th>\n",
       "      <th>occupation</th>\n",
       "      <th>relationship</th>\n",
       "      <th>race</th>\n",
       "      <th>gender</th>\n",
       "      <th>capital_gain</th>\n",
       "      <th>capital_loss</th>\n",
       "      <th>hours_per_week</th>\n",
       "      <th>native_country</th>\n",
       "      <th>income_bracket</th>\n",
       "    </tr>\n",
       "  </thead>\n",
       "  <tbody>\n",
       "    <tr>\n",
       "      <th>0</th>\n",
       "      <td>39</td>\n",
       "      <td>State-gov</td>\n",
       "      <td>Bachelors</td>\n",
       "      <td>13</td>\n",
       "      <td>Never-married</td>\n",
       "      <td>Adm-clerical</td>\n",
       "      <td>Not-in-family</td>\n",
       "      <td>White</td>\n",
       "      <td>Male</td>\n",
       "      <td>2174</td>\n",
       "      <td>0</td>\n",
       "      <td>40</td>\n",
       "      <td>United-States</td>\n",
       "      <td>&lt;=50K</td>\n",
       "    </tr>\n",
       "    <tr>\n",
       "      <th>1</th>\n",
       "      <td>50</td>\n",
       "      <td>Self-emp-not-inc</td>\n",
       "      <td>Bachelors</td>\n",
       "      <td>13</td>\n",
       "      <td>Married-civ-spouse</td>\n",
       "      <td>Exec-managerial</td>\n",
       "      <td>Husband</td>\n",
       "      <td>White</td>\n",
       "      <td>Male</td>\n",
       "      <td>0</td>\n",
       "      <td>0</td>\n",
       "      <td>13</td>\n",
       "      <td>United-States</td>\n",
       "      <td>&lt;=50K</td>\n",
       "    </tr>\n",
       "    <tr>\n",
       "      <th>2</th>\n",
       "      <td>38</td>\n",
       "      <td>Private</td>\n",
       "      <td>HS-grad</td>\n",
       "      <td>9</td>\n",
       "      <td>Divorced</td>\n",
       "      <td>Handlers-cleaners</td>\n",
       "      <td>Not-in-family</td>\n",
       "      <td>White</td>\n",
       "      <td>Male</td>\n",
       "      <td>0</td>\n",
       "      <td>0</td>\n",
       "      <td>40</td>\n",
       "      <td>United-States</td>\n",
       "      <td>&lt;=50K</td>\n",
       "    </tr>\n",
       "    <tr>\n",
       "      <th>3</th>\n",
       "      <td>53</td>\n",
       "      <td>Private</td>\n",
       "      <td>11th</td>\n",
       "      <td>7</td>\n",
       "      <td>Married-civ-spouse</td>\n",
       "      <td>Handlers-cleaners</td>\n",
       "      <td>Husband</td>\n",
       "      <td>Black</td>\n",
       "      <td>Male</td>\n",
       "      <td>0</td>\n",
       "      <td>0</td>\n",
       "      <td>40</td>\n",
       "      <td>United-States</td>\n",
       "      <td>&lt;=50K</td>\n",
       "    </tr>\n",
       "    <tr>\n",
       "      <th>4</th>\n",
       "      <td>28</td>\n",
       "      <td>Private</td>\n",
       "      <td>Bachelors</td>\n",
       "      <td>13</td>\n",
       "      <td>Married-civ-spouse</td>\n",
       "      <td>Prof-specialty</td>\n",
       "      <td>Wife</td>\n",
       "      <td>Black</td>\n",
       "      <td>Female</td>\n",
       "      <td>0</td>\n",
       "      <td>0</td>\n",
       "      <td>40</td>\n",
       "      <td>Cuba</td>\n",
       "      <td>&lt;=50K</td>\n",
       "    </tr>\n",
       "  </tbody>\n",
       "</table>\n",
       "</div>"
      ],
      "text/plain": [
       "   age          workclass   education  education_num       marital_status  \\\n",
       "0   39          State-gov   Bachelors             13        Never-married   \n",
       "1   50   Self-emp-not-inc   Bachelors             13   Married-civ-spouse   \n",
       "2   38            Private     HS-grad              9             Divorced   \n",
       "3   53            Private        11th              7   Married-civ-spouse   \n",
       "4   28            Private   Bachelors             13   Married-civ-spouse   \n",
       "\n",
       "           occupation    relationship    race   gender  capital_gain  \\\n",
       "0        Adm-clerical   Not-in-family   White     Male          2174   \n",
       "1     Exec-managerial         Husband   White     Male             0   \n",
       "2   Handlers-cleaners   Not-in-family   White     Male             0   \n",
       "3   Handlers-cleaners         Husband   Black     Male             0   \n",
       "4      Prof-specialty            Wife   Black   Female             0   \n",
       "\n",
       "   capital_loss  hours_per_week  native_country income_bracket  \n",
       "0             0              40   United-States          <=50K  \n",
       "1             0              13   United-States          <=50K  \n",
       "2             0              40   United-States          <=50K  \n",
       "3             0              40   United-States          <=50K  \n",
       "4             0              40            Cuba          <=50K  "
      ]
     },
     "execution_count": 2,
     "metadata": {},
     "output_type": "execute_result"
    }
   ],
   "source": [
    "df = pd.read_csv(\"D:\\\\New folder\\\\ML\\\\Completed\\\\Adult Census Income Classification\\\\census_data.csv\")\n",
    "df.head()"
   ]
  },
  {
   "cell_type": "markdown",
   "id": "a85da838-4e41-4974-b4cc-b5e5a6d0d644",
   "metadata": {},
   "source": [
    "# Converting the label column to 0s and 1s instead of strings"
   ]
  },
  {
   "cell_type": "code",
   "execution_count": 3,
   "id": "9dfff25a-27b5-4f6e-9357-913a53270519",
   "metadata": {},
   "outputs": [
    {
     "data": {
      "text/plain": [
       "array([' <=50K', ' >50K'], dtype=object)"
      ]
     },
     "execution_count": 3,
     "metadata": {},
     "output_type": "execute_result"
    }
   ],
   "source": [
    "#Encoding the income column\n",
    "df['income_bracket'].unique()"
   ]
  },
  {
   "cell_type": "code",
   "execution_count": 4,
   "id": "be44bb8f-5e57-415f-925e-3e859062973a",
   "metadata": {},
   "outputs": [],
   "source": [
    "def label_fix(label):\n",
    "    if label == ' <=50K':\n",
    "        return 0\n",
    "    else:\n",
    "        return 1\n",
    "\n",
    "df['income_bracket'] = df['income_bracket'].apply(label_fix)"
   ]
  },
  {
   "cell_type": "code",
   "execution_count": 5,
   "id": "919cd910-a937-4fb3-810b-9c8604d10d13",
   "metadata": {},
   "outputs": [],
   "source": [
    "x_data = df.drop('income_bracket', axis=1)\n",
    "y_labels = df['income_bracket']"
   ]
  },
  {
   "cell_type": "markdown",
   "id": "e142473e-f976-4a8b-a3b3-2793c9dcadc8",
   "metadata": {},
   "source": [
    "# Splitting the dataset to training and testing sets"
   ]
  },
  {
   "cell_type": "code",
   "execution_count": 6,
   "id": "9bf4504a-f55c-41c6-905d-5055a0880684",
   "metadata": {},
   "outputs": [],
   "source": [
    "x_train, x_test, y_train, y_test = train_test_split(x_data, y_labels, test_size=0.3, random_state=101)"
   ]
  },
  {
   "cell_type": "markdown",
   "id": "682b03ec-226f-4774-a621-daa01963d24b",
   "metadata": {},
   "source": [
    "# Create the feature columns for the categorical values using vocabulary lists or hash buckets."
   ]
  },
  {
   "cell_type": "code",
   "execution_count": 7,
   "id": "5b77af5c-9185-4a13-a265-095e5eef1f54",
   "metadata": {},
   "outputs": [],
   "source": [
    "gender = tf.feature_column.categorical_column_with_vocabulary_list(\"gender\", [\"Female\", \"Male\"])"
   ]
  },
  {
   "cell_type": "code",
   "execution_count": 8,
   "id": "3eb79e56-be96-4bdd-ac6f-024e5a131f6b",
   "metadata": {},
   "outputs": [],
   "source": [
    "occupation = tf.feature_column.categorical_column_with_hash_bucket(\"occupation\", hash_bucket_size=1000)\n",
    "marital_status = tf.feature_column.categorical_column_with_hash_bucket(\"marital_status\", hash_bucket_size=1000)\n",
    "relationship = tf.feature_column.categorical_column_with_hash_bucket(\"relationship\", hash_bucket_size=1000)\n",
    "education = tf.feature_column.categorical_column_with_hash_bucket(\"education\", hash_bucket_size=1000)\n",
    "workclass = tf.feature_column.categorical_column_with_hash_bucket(\"workclass\", hash_bucket_size=1000)\n",
    "native_country = tf.feature_column.categorical_column_with_hash_bucket(\"native_country\", hash_bucket_size=1000)"
   ]
  },
  {
   "cell_type": "markdown",
   "id": "1cf0aae4-ec97-4a19-8bcc-bcaf68f732ba",
   "metadata": {},
   "source": [
    "# Create the future columns for the continous values using numeric_column"
   ]
  },
  {
   "cell_type": "code",
   "execution_count": 9,
   "id": "bedef740-3e48-4c87-9dfb-a1cfb81eb9d1",
   "metadata": {},
   "outputs": [],
   "source": [
    "age = tf.feature_column.numeric_column(\"age\")\n",
    "education_num = tf.feature_column.numeric_column(\"education_num\")\n",
    "capital_gain = tf.feature_column.numeric_column(\"capital_gain\")\n",
    "capital_loss = tf.feature_column.numeric_column(\"capital_loss\")\n",
    "hours_per_week = tf.feature_column.numeric_column(\"hours_per_week\")"
   ]
  },
  {
   "cell_type": "markdown",
   "id": "4bfff6d8-0050-46ed-8e61-9545cddf882d",
   "metadata": {},
   "source": [
    "# Putting all these variables into a single list with the variable name feat_cols"
   ]
  },
  {
   "cell_type": "code",
   "execution_count": 10,
   "id": "9b843a83-50e8-426c-8e58-34d07da3a165",
   "metadata": {},
   "outputs": [],
   "source": [
    "feat_cols = [gender, occupation, marital_status, relationship, education, workclass, native_country, age, education_num, capital_gain, capital_loss,\n",
    "             hours_per_week ]"
   ]
  },
  {
   "cell_type": "markdown",
   "id": "d4804248-8c1a-425e-9705-3b34b696a544",
   "metadata": {},
   "source": [
    "# Creating the input function"
   ]
  },
  {
   "cell_type": "code",
   "execution_count": 11,
   "id": "4010c0e6-515c-42ba-9e98-b6da63997e1d",
   "metadata": {},
   "outputs": [
    {
     "name": "stdout",
     "output_type": "stream",
     "text": [
      "WARNING:tensorflow:From C:\\Users\\User\\anaconda3\\envs\\Research\\lib\\site-packages\\tensorflow\\python\\util\\lazy_loader.py:59: The name tf.estimator.inputs is deprecated. Please use tf.compat.v1.estimator.inputs instead.\n",
      "\n",
      "WARNING:tensorflow:From C:\\Users\\User\\AppData\\Local\\Temp\\ipykernel_16344\\3562400737.py:1: The name tf.estimator.inputs.pandas_input_fn is deprecated. Please use tf.compat.v1.estimator.inputs.pandas_input_fn instead.\n",
      "\n"
     ]
    }
   ],
   "source": [
    "input_func = tf.compat.v1.estimator.inputs.pandas_input_fn(x=x_train, y=y_train, batch_size=100, num_epochs=None, shuffle=True)"
   ]
  },
  {
   "cell_type": "markdown",
   "id": "e2689f35-d59f-4998-8fd4-e4ecb18193d2",
   "metadata": {},
   "source": [
    "# Creating the model using LinearClassifier"
   ]
  },
  {
   "cell_type": "code",
   "execution_count": 12,
   "id": "48d6b61a-fb81-45d6-a1ab-bf495782ac24",
   "metadata": {},
   "outputs": [
    {
     "name": "stdout",
     "output_type": "stream",
     "text": [
      "INFO:tensorflow:Using default config.\n",
      "WARNING:tensorflow:Using temporary folder as model directory: C:\\Users\\User\\AppData\\Local\\Temp\\tmpuu4n_a3w\n",
      "INFO:tensorflow:Using config: {'_model_dir': 'C:\\\\Users\\\\User\\\\AppData\\\\Local\\\\Temp\\\\tmpuu4n_a3w', '_tf_random_seed': None, '_save_summary_steps': 100, '_save_checkpoints_steps': None, '_save_checkpoints_secs': 600, '_session_config': allow_soft_placement: true\n",
      "graph_options {\n",
      "  rewrite_options {\n",
      "    meta_optimizer_iterations: ONE\n",
      "  }\n",
      "}\n",
      ", '_keep_checkpoint_max': 5, '_keep_checkpoint_every_n_hours': 10000, '_log_step_count_steps': 100, '_train_distribute': None, '_device_fn': None, '_protocol': None, '_eval_distribute': None, '_experimental_distribute': None, '_experimental_max_worker_delay_secs': None, '_session_creation_timeout_secs': 7200, '_checkpoint_save_graph_def': True, '_service': None, '_cluster_spec': ClusterSpec({}), '_task_type': 'worker', '_task_id': 0, '_global_id_in_cluster': 0, '_master': '', '_evaluation_master': '', '_is_chief': True, '_num_ps_replicas': 0, '_num_worker_replicas': 1}\n"
     ]
    }
   ],
   "source": [
    "model = tf.estimator.LinearClassifier(feature_columns=feat_cols)"
   ]
  },
  {
   "cell_type": "markdown",
   "id": "a38639f2-47da-4ffc-a5b4-a3474b5b33a9",
   "metadata": {},
   "source": [
    "# Training the model"
   ]
  },
  {
   "cell_type": "code",
   "execution_count": 13,
   "id": "62694708-ee03-43e4-8c5f-25579dd3085a",
   "metadata": {},
   "outputs": [
    {
     "name": "stdout",
     "output_type": "stream",
     "text": [
      "WARNING:tensorflow:From C:\\Users\\User\\anaconda3\\envs\\Research\\lib\\site-packages\\tensorflow\\python\\training\\training_util.py:396: Variable.initialized_value (from tensorflow.python.ops.variables) is deprecated and will be removed in a future version.\n",
      "Instructions for updating:\n",
      "Use Variable.read_value. Variables in 2.X are initialized automatically both in eager and graph (inside tf.defun) contexts.\n",
      "WARNING:tensorflow:From C:\\Users\\User\\anaconda3\\envs\\Research\\lib\\site-packages\\tensorflow_estimator\\python\\estimator\\inputs\\queues\\feeding_queue_runner.py:60: QueueRunner.__init__ (from tensorflow.python.training.queue_runner_impl) is deprecated and will be removed in a future version.\n",
      "Instructions for updating:\n",
      "To construct input pipelines, use the `tf.data` module.\n",
      "WARNING:tensorflow:From C:\\Users\\User\\anaconda3\\envs\\Research\\lib\\site-packages\\tensorflow_estimator\\python\\estimator\\inputs\\queues\\feeding_functions.py:491: add_queue_runner (from tensorflow.python.training.queue_runner_impl) is deprecated and will be removed in a future version.\n",
      "Instructions for updating:\n",
      "To construct input pipelines, use the `tf.data` module.\n",
      "INFO:tensorflow:Calling model_fn.\n",
      "WARNING:tensorflow:From C:\\Users\\User\\anaconda3\\envs\\Research\\lib\\site-packages\\keras\\optimizers\\optimizer_v2\\ftrl.py:170: calling Constant.__init__ (from tensorflow.python.ops.init_ops) with dtype is deprecated and will be removed in a future version.\n",
      "Instructions for updating:\n",
      "Call initializer instance with the dtype argument instead of passing it to the constructor\n",
      "INFO:tensorflow:Done calling model_fn.\n",
      "INFO:tensorflow:Create CheckpointSaverHook.\n",
      "INFO:tensorflow:Graph was finalized.\n",
      "INFO:tensorflow:Running local_init_op.\n",
      "INFO:tensorflow:Done running local_init_op.\n",
      "WARNING:tensorflow:From C:\\Users\\User\\anaconda3\\envs\\Research\\lib\\site-packages\\tensorflow\\python\\training\\monitored_session.py:914: start_queue_runners (from tensorflow.python.training.queue_runner_impl) is deprecated and will be removed in a future version.\n",
      "Instructions for updating:\n",
      "To construct input pipelines, use the `tf.data` module.\n",
      "INFO:tensorflow:Calling checkpoint listeners before saving checkpoint 0...\n",
      "INFO:tensorflow:Saving checkpoints for 0 into C:\\Users\\User\\AppData\\Local\\Temp\\tmpuu4n_a3w\\model.ckpt.\n",
      "INFO:tensorflow:Calling checkpoint listeners after saving checkpoint 0...\n",
      "INFO:tensorflow:loss = 0.6931472, step = 0\n",
      "INFO:tensorflow:global_step/sec: 104.619\n",
      "INFO:tensorflow:loss = 5.5623693, step = 100 (0.957 sec)\n",
      "INFO:tensorflow:global_step/sec: 128.448\n",
      "INFO:tensorflow:loss = 1.1852008, step = 200 (0.779 sec)\n",
      "INFO:tensorflow:global_step/sec: 126.496\n",
      "INFO:tensorflow:loss = 8.001709, step = 300 (0.791 sec)\n",
      "INFO:tensorflow:global_step/sec: 128.66\n",
      "INFO:tensorflow:loss = 4.338965, step = 400 (0.777 sec)\n",
      "INFO:tensorflow:global_step/sec: 124.824\n",
      "INFO:tensorflow:loss = 1.1511652, step = 500 (0.802 sec)\n",
      "INFO:tensorflow:global_step/sec: 124.505\n",
      "INFO:tensorflow:loss = 2.3336217, step = 600 (0.803 sec)\n",
      "INFO:tensorflow:global_step/sec: 127.124\n",
      "INFO:tensorflow:loss = 5.7582846, step = 700 (0.786 sec)\n",
      "INFO:tensorflow:global_step/sec: 130.054\n",
      "INFO:tensorflow:loss = 2.1783495, step = 800 (0.769 sec)\n",
      "INFO:tensorflow:global_step/sec: 128.474\n",
      "INFO:tensorflow:loss = 1.9002315, step = 900 (0.778 sec)\n",
      "INFO:tensorflow:global_step/sec: 131.568\n",
      "INFO:tensorflow:loss = 4.028863, step = 1000 (0.760 sec)\n",
      "INFO:tensorflow:global_step/sec: 127.842\n",
      "INFO:tensorflow:loss = 0.4863461, step = 1100 (0.782 sec)\n",
      "INFO:tensorflow:global_step/sec: 131.18\n",
      "INFO:tensorflow:loss = 2.2016888, step = 1200 (0.762 sec)\n",
      "INFO:tensorflow:global_step/sec: 130.682\n",
      "INFO:tensorflow:loss = 0.30626038, step = 1300 (0.765 sec)\n",
      "INFO:tensorflow:global_step/sec: 131.296\n",
      "INFO:tensorflow:loss = 2.754749, step = 1400 (0.762 sec)\n",
      "INFO:tensorflow:global_step/sec: 128.395\n",
      "INFO:tensorflow:loss = 8.280799, step = 1500 (0.779 sec)\n",
      "INFO:tensorflow:global_step/sec: 131.118\n",
      "INFO:tensorflow:loss = 0.7150635, step = 1600 (0.763 sec)\n",
      "INFO:tensorflow:global_step/sec: 131.731\n",
      "INFO:tensorflow:loss = 0.6626977, step = 1700 (0.759 sec)\n",
      "INFO:tensorflow:global_step/sec: 132.144\n",
      "INFO:tensorflow:loss = 0.6348948, step = 1800 (0.757 sec)\n",
      "INFO:tensorflow:global_step/sec: 132.495\n",
      "INFO:tensorflow:loss = 1.5970285, step = 1900 (0.755 sec)\n",
      "INFO:tensorflow:global_step/sec: 129.853\n",
      "INFO:tensorflow:loss = 0.31466597, step = 2000 (0.770 sec)\n",
      "INFO:tensorflow:global_step/sec: 131.725\n",
      "INFO:tensorflow:loss = 0.36678794, step = 2100 (0.759 sec)\n",
      "INFO:tensorflow:global_step/sec: 128.049\n",
      "INFO:tensorflow:loss = 0.40753832, step = 2200 (0.781 sec)\n",
      "INFO:tensorflow:global_step/sec: 127.458\n",
      "INFO:tensorflow:loss = 0.74851024, step = 2300 (0.785 sec)\n",
      "INFO:tensorflow:global_step/sec: 126.432\n",
      "INFO:tensorflow:loss = 1.3930501, step = 2400 (0.791 sec)\n",
      "INFO:tensorflow:global_step/sec: 124.678\n",
      "INFO:tensorflow:loss = 1.1379992, step = 2500 (0.803 sec)\n",
      "INFO:tensorflow:global_step/sec: 125.285\n",
      "INFO:tensorflow:loss = 0.50998265, step = 2600 (0.797 sec)\n",
      "INFO:tensorflow:global_step/sec: 125.933\n",
      "INFO:tensorflow:loss = 0.37393257, step = 2700 (0.794 sec)\n",
      "INFO:tensorflow:global_step/sec: 127.693\n",
      "INFO:tensorflow:loss = 0.44081864, step = 2800 (0.783 sec)\n",
      "INFO:tensorflow:global_step/sec: 132.445\n",
      "INFO:tensorflow:loss = 0.77227277, step = 2900 (0.755 sec)\n",
      "INFO:tensorflow:global_step/sec: 132.967\n",
      "INFO:tensorflow:loss = 1.5487665, step = 3000 (0.752 sec)\n",
      "INFO:tensorflow:global_step/sec: 134.193\n",
      "INFO:tensorflow:loss = 1.9168911, step = 3100 (0.745 sec)\n",
      "INFO:tensorflow:global_step/sec: 133.434\n",
      "INFO:tensorflow:loss = 0.37089863, step = 3200 (0.749 sec)\n",
      "INFO:tensorflow:global_step/sec: 133.11\n",
      "INFO:tensorflow:loss = 0.35069746, step = 3300 (0.751 sec)\n",
      "INFO:tensorflow:global_step/sec: 133.454\n",
      "INFO:tensorflow:loss = 0.4572801, step = 3400 (0.749 sec)\n",
      "INFO:tensorflow:global_step/sec: 133.597\n",
      "INFO:tensorflow:loss = 0.49164185, step = 3500 (0.749 sec)\n",
      "INFO:tensorflow:global_step/sec: 133.337\n",
      "INFO:tensorflow:loss = 0.67391616, step = 3600 (0.750 sec)\n",
      "INFO:tensorflow:global_step/sec: 133.295\n",
      "INFO:tensorflow:loss = 0.81675965, step = 3700 (0.750 sec)\n",
      "INFO:tensorflow:global_step/sec: 132.343\n",
      "INFO:tensorflow:loss = 1.5813519, step = 3800 (0.756 sec)\n",
      "INFO:tensorflow:global_step/sec: 133.755\n",
      "INFO:tensorflow:loss = 0.5942805, step = 3900 (0.748 sec)\n",
      "INFO:tensorflow:global_step/sec: 129.666\n",
      "INFO:tensorflow:loss = 0.68714887, step = 4000 (0.771 sec)\n",
      "INFO:tensorflow:global_step/sec: 126.964\n",
      "INFO:tensorflow:loss = 0.3998577, step = 4100 (0.788 sec)\n",
      "INFO:tensorflow:global_step/sec: 128.163\n",
      "INFO:tensorflow:loss = 1.7888494, step = 4200 (0.780 sec)\n",
      "INFO:tensorflow:global_step/sec: 129.235\n",
      "INFO:tensorflow:loss = 0.5390413, step = 4300 (0.774 sec)\n",
      "INFO:tensorflow:global_step/sec: 128.33\n",
      "INFO:tensorflow:loss = 1.1160681, step = 4400 (0.779 sec)\n",
      "INFO:tensorflow:global_step/sec: 129.227\n",
      "INFO:tensorflow:loss = 2.3360295, step = 4500 (0.774 sec)\n",
      "INFO:tensorflow:global_step/sec: 127.833\n",
      "INFO:tensorflow:loss = 0.8434691, step = 4600 (0.782 sec)\n",
      "INFO:tensorflow:global_step/sec: 126.243\n",
      "INFO:tensorflow:loss = 0.349201, step = 4700 (0.792 sec)\n",
      "INFO:tensorflow:global_step/sec: 127.7\n",
      "INFO:tensorflow:loss = 0.37286654, step = 4800 (0.783 sec)\n",
      "INFO:tensorflow:global_step/sec: 131.097\n",
      "INFO:tensorflow:loss = 0.3526773, step = 4900 (0.763 sec)\n",
      "INFO:tensorflow:Calling checkpoint listeners before saving checkpoint 5000...\n",
      "INFO:tensorflow:Saving checkpoints for 5000 into C:\\Users\\User\\AppData\\Local\\Temp\\tmpuu4n_a3w\\model.ckpt.\n",
      "INFO:tensorflow:Calling checkpoint listeners after saving checkpoint 5000...\n",
      "INFO:tensorflow:Loss for final step: 0.41151443.\n"
     ]
    },
    {
     "data": {
      "text/plain": [
       "<tensorflow_estimator.python.estimator.canned.linear.LinearClassifierV2 at 0x198b6956910>"
      ]
     },
     "execution_count": 13,
     "metadata": {},
     "output_type": "execute_result"
    }
   ],
   "source": [
    "model.train(input_fn=input_func, steps=5000)"
   ]
  },
  {
   "cell_type": "markdown",
   "id": "5d6d706a-32a1-4a3f-b327-d296cd383f15",
   "metadata": {},
   "source": [
    "# Evaluating the model"
   ]
  },
  {
   "cell_type": "code",
   "execution_count": 14,
   "id": "5adad2bd-b2ae-4cbd-8c0d-35d2968685b2",
   "metadata": {},
   "outputs": [],
   "source": [
    "pred_fn = tf.compat.v1.estimator.inputs.pandas_input_fn(x=x_test, batch_size=len(x_test), shuffle=False)"
   ]
  },
  {
   "cell_type": "code",
   "execution_count": 15,
   "id": "152d21d9-b664-4bb4-ae1b-085c0cbe8e71",
   "metadata": {},
   "outputs": [
    {
     "name": "stdout",
     "output_type": "stream",
     "text": [
      "INFO:tensorflow:Calling model_fn.\n",
      "INFO:tensorflow:Done calling model_fn.\n",
      "INFO:tensorflow:Graph was finalized.\n",
      "INFO:tensorflow:Restoring parameters from C:\\Users\\User\\AppData\\Local\\Temp\\tmpuu4n_a3w\\model.ckpt-5000\n",
      "INFO:tensorflow:Running local_init_op.\n",
      "INFO:tensorflow:Done running local_init_op.\n"
     ]
    }
   ],
   "source": [
    "predictions = list(model.predict(input_fn=pred_fn))"
   ]
  },
  {
   "cell_type": "code",
   "execution_count": 16,
   "id": "59c3972e-0894-4c22-a30c-b4f3951d0dc6",
   "metadata": {},
   "outputs": [
    {
     "data": {
      "text/plain": [
       "{'logits': array([-1.1315376], dtype=float32),\n",
       " 'logistic': array([0.24387746], dtype=float32),\n",
       " 'probabilities': array([0.7561225 , 0.24387747], dtype=float32),\n",
       " 'class_ids': array([0], dtype=int64),\n",
       " 'classes': array([b'0'], dtype=object),\n",
       " 'all_class_ids': array([0, 1]),\n",
       " 'all_classes': array([b'0', b'1'], dtype=object)}"
      ]
     },
     "execution_count": 16,
     "metadata": {},
     "output_type": "execute_result"
    }
   ],
   "source": [
    "predictions[0]"
   ]
  },
  {
   "cell_type": "code",
   "execution_count": 17,
   "id": "f932fc38-1073-45a4-bef8-779b1021bcbe",
   "metadata": {},
   "outputs": [],
   "source": [
    "final_preds = []\n",
    "for pred in predictions:\n",
    "    final_preds.append(pred['class_ids'][0])"
   ]
  },
  {
   "cell_type": "code",
   "execution_count": 18,
   "id": "a84e5f81-9b95-43c7-aa7b-4f4aeb94854f",
   "metadata": {},
   "outputs": [
    {
     "data": {
      "text/plain": [
       "[0, 0, 0, 0, 1, 0, 0, 0, 0, 0]"
      ]
     },
     "execution_count": 18,
     "metadata": {},
     "output_type": "execute_result"
    }
   ],
   "source": [
    "final_preds[:10]"
   ]
  },
  {
   "cell_type": "code",
   "execution_count": 19,
   "id": "0878e586-89cf-4186-b04a-d7a41decb930",
   "metadata": {},
   "outputs": [
    {
     "name": "stdout",
     "output_type": "stream",
     "text": [
      "              precision    recall  f1-score   support\n",
      "\n",
      "           0       0.89      0.91      0.90      7436\n",
      "           1       0.70      0.64      0.67      2333\n",
      "\n",
      "    accuracy                           0.85      9769\n",
      "   macro avg       0.79      0.77      0.78      9769\n",
      "weighted avg       0.84      0.85      0.85      9769\n",
      "\n"
     ]
    }
   ],
   "source": [
    "print(classification_report(y_test, final_preds))"
   ]
  },
  {
   "cell_type": "code",
   "execution_count": null,
   "id": "d8e3d0ab-48ec-45d0-b361-b205c4bb9a28",
   "metadata": {},
   "outputs": [],
   "source": []
  }
 ],
 "metadata": {
  "kernelspec": {
   "display_name": "Python 3 (ipykernel)",
   "language": "python",
   "name": "python3"
  },
  "language_info": {
   "codemirror_mode": {
    "name": "ipython",
    "version": 3
   },
   "file_extension": ".py",
   "mimetype": "text/x-python",
   "name": "python",
   "nbconvert_exporter": "python",
   "pygments_lexer": "ipython3",
   "version": "3.9.18"
  }
 },
 "nbformat": 4,
 "nbformat_minor": 5
}
