{
 "cells": [
  {
   "cell_type": "markdown",
   "id": "88b8eb51",
   "metadata": {},
   "source": [
    "* Polynomial Regression is a form of linear regression known as a special case of multiple linear regression which estimates the relationship as an nth degree polynomial. Polynomial Regression is sensitive to outliers so the presence of one or two outliers can also badly affect the performance."
   ]
  },
  {
   "cell_type": "markdown",
   "id": "3c8da358",
   "metadata": {},
   "source": [
    "* In this we need to transform the array of inputs to include non-linear terms such as x^2."
   ]
  },
  {
   "cell_type": "markdown",
   "id": "7b1242ed",
   "metadata": {},
   "source": [
    "* **PolynomialFeatures generate polynomial and interaction features. Generate a new feature matrix consisting of all polynomial combination of the features with degree less than or equal to the specified degree. For example, if an input sample is two dimensional and of the form [a, b], the degree-2 polynomial features are [1, a, b, a^2, ab, b^2].**\n",
    "\n",
    "\n",
    "* The complex collaborative effects of features towards prediction of a variable is called feature interaction. Another aspect of feature interaction is the variation of one feature with respect to another with which it is interacting. These variables are often referred to as interaction variables."
   ]
  },
  {
   "cell_type": "code",
   "execution_count": 1,
   "id": "74ab824d",
   "metadata": {},
   "outputs": [],
   "source": [
    "#Importing the necessary libraries\n",
    "import numpy as np\n",
    "from sklearn.linear_model import LinearRegression\n",
    "from sklearn.preprocessing import PolynomialFeatures"
   ]
  },
  {
   "cell_type": "markdown",
   "id": "ddc51e6b",
   "metadata": {},
   "source": [
    "* We need to input the data as an **two dimensional array** so for that reason the reshape() function was used."
   ]
  },
  {
   "cell_type": "code",
   "execution_count": 10,
   "id": "96b46021",
   "metadata": {},
   "outputs": [],
   "source": [
    "#Loading the data\n",
    "x = np.array([5,15,25,35,45,55]).reshape((-1,1))\n",
    "y = np.array([15,11,2,8,25,32])"
   ]
  },
  {
   "cell_type": "code",
   "execution_count": 13,
   "id": "b2b134cf",
   "metadata": {},
   "outputs": [
    {
     "data": {
      "text/plain": [
       "array([[ 5],\n",
       "       [15],\n",
       "       [25],\n",
       "       [35],\n",
       "       [45],\n",
       "       [55]])"
      ]
     },
     "execution_count": 13,
     "metadata": {},
     "output_type": "execute_result"
    }
   ],
   "source": [
    "x"
   ]
  },
  {
   "cell_type": "code",
   "execution_count": 14,
   "id": "c40b283e",
   "metadata": {},
   "outputs": [
    {
     "data": {
      "text/plain": [
       "array([15, 11,  2,  8, 25, 32])"
      ]
     },
     "execution_count": 14,
     "metadata": {},
     "output_type": "execute_result"
    }
   ],
   "source": [
    "y"
   ]
  },
  {
   "cell_type": "code",
   "execution_count": 15,
   "id": "11b92bf6",
   "metadata": {},
   "outputs": [],
   "source": [
    "#Transforming the input data\n",
    "transformer = PolynomialFeatures(degree=2,include_bias=False)"
   ]
  },
  {
   "cell_type": "markdown",
   "id": "6cf7c8d4",
   "metadata": {},
   "source": [
    "* **degree parameter** - is an integer(default=2) that represents the degree of the polynomial regression function.\n",
    "\n",
    "\n",
    "* **interaction_only** - is a Boolean (default=False) that decides whether to include only interaction features (True) or all features(False).\n",
    "\n",
    "\n",
    "* **include_bias** - is a Boolean (default=True) that decides whether to include the bias(the feature in which all polynomial powers are zero i.e. a column of ones which acts as an intercept term in a linear model), or intercept, column of 1 values(True) or not(False)."
   ]
  },
  {
   "cell_type": "code",
   "execution_count": 16,
   "id": "4e920634",
   "metadata": {},
   "outputs": [
    {
     "data": {
      "text/plain": [
       "PolynomialFeatures(include_bias=False)"
      ]
     },
     "execution_count": 16,
     "metadata": {},
     "output_type": "execute_result"
    }
   ],
   "source": [
    "transformer.fit(x)"
   ]
  },
  {
   "cell_type": "markdown",
   "id": "9c93bbbf",
   "metadata": {},
   "source": [
    "* Once transformer is fitted, then it's ready to create a new, modified input array which will be done using the transform() function."
   ]
  },
  {
   "cell_type": "code",
   "execution_count": 18,
   "id": "4bdd5a5e",
   "metadata": {},
   "outputs": [],
   "source": [
    "x_transform = transformer.transform(x)"
   ]
  },
  {
   "cell_type": "markdown",
   "id": "a6471f37",
   "metadata": {},
   "source": [
    "* The above three lines of code can be replaced with a single line of code using the fit_transform() function."
   ]
  },
  {
   "cell_type": "code",
   "execution_count": 19,
   "id": "cea50dca",
   "metadata": {},
   "outputs": [
    {
     "data": {
      "text/plain": [
       "array([[   5.,   25.],\n",
       "       [  15.,  225.],\n",
       "       [  25.,  625.],\n",
       "       [  35., 1225.],\n",
       "       [  45., 2025.],\n",
       "       [  55., 3025.]])"
      ]
     },
     "execution_count": 19,
     "metadata": {},
     "output_type": "execute_result"
    }
   ],
   "source": [
    "x_transform = PolynomialFeatures(degree=2,include_bias=False).fit_transform(x)\n",
    "x_transform"
   ]
  },
  {
   "cell_type": "code",
   "execution_count": 20,
   "id": "db0181d1",
   "metadata": {},
   "outputs": [],
   "source": [
    "#Creating the model\n",
    "model = LinearRegression()"
   ]
  },
  {
   "cell_type": "code",
   "execution_count": 21,
   "id": "f8df3271",
   "metadata": {},
   "outputs": [
    {
     "data": {
      "text/plain": [
       "LinearRegression()"
      ]
     },
     "execution_count": 21,
     "metadata": {},
     "output_type": "execute_result"
    }
   ],
   "source": [
    "#Fitting the model\n",
    "model.fit(x_transform,y)"
   ]
  },
  {
   "cell_type": "markdown",
   "id": "1726f816",
   "metadata": {},
   "source": [
    "* The score function returns the R^2 value."
   ]
  },
  {
   "cell_type": "code",
   "execution_count": 22,
   "id": "8c570e51",
   "metadata": {},
   "outputs": [
    {
     "data": {
      "text/plain": [
       "0.8908516262498564"
      ]
     },
     "execution_count": 22,
     "metadata": {},
     "output_type": "execute_result"
    }
   ],
   "source": [
    "#Calcualting the score\n",
    "r_sq = model.score(x_transform,y)\n",
    "r_sq"
   ]
  },
  {
   "cell_type": "code",
   "execution_count": 24,
   "id": "0ca2ca28",
   "metadata": {},
   "outputs": [
    {
     "name": "stdout",
     "output_type": "stream",
     "text": [
      "Intercept:21.37232142857144\n",
      "Coefficients:[-1.32357143  0.02839286]\n"
     ]
    }
   ],
   "source": [
    "print(f\"Intercept:{model.intercept_}\")\n",
    "print(f\"Coefficients:{model.coef_}\")"
   ]
  },
  {
   "cell_type": "code",
   "execution_count": 25,
   "id": "31971e6d",
   "metadata": {},
   "outputs": [
    {
     "data": {
      "text/plain": [
       "array([15.46428571,  7.90714286,  6.02857143,  9.82857143, 19.30714286,\n",
       "       34.46428571])"
      ]
     },
     "execution_count": 25,
     "metadata": {},
     "output_type": "execute_result"
    }
   ],
   "source": [
    "#Making predictions\n",
    "y_pred = model.predict(x_transform)\n",
    "y_pred"
   ]
  },
  {
   "cell_type": "code",
   "execution_count": 28,
   "id": "058ecd63",
   "metadata": {},
   "outputs": [
    {
     "name": "stdout",
     "output_type": "stream",
     "text": [
      "Coefficient of determination:0.8908516262498564\n",
      "Intercept:21.37232142857144\n",
      "Coefficients:[-1.32357143  0.02839286]\n",
      "Predicted response:[15.46428571  7.90714286  6.02857143  9.82857143 19.30714286 34.46428571]\n"
     ]
    }
   ],
   "source": [
    "print(f\"Coefficient of determination:{r_sq}\")\n",
    "print(f\"Intercept:{model.intercept_}\")\n",
    "print(f\"Coefficients:{model.coef_}\")\n",
    "print(f\"Predicted response:{y_pred}\")"
   ]
  },
  {
   "cell_type": "code",
   "execution_count": null,
   "id": "41e8ee4a",
   "metadata": {},
   "outputs": [],
   "source": []
  }
 ],
 "metadata": {
  "kernelspec": {
   "display_name": "Python 3 (ipykernel)",
   "language": "python",
   "name": "python3"
  },
  "language_info": {
   "codemirror_mode": {
    "name": "ipython",
    "version": 3
   },
   "file_extension": ".py",
   "mimetype": "text/x-python",
   "name": "python",
   "nbconvert_exporter": "python",
   "pygments_lexer": "ipython3",
   "version": "3.9.15"
  }
 },
 "nbformat": 4,
 "nbformat_minor": 5
}
