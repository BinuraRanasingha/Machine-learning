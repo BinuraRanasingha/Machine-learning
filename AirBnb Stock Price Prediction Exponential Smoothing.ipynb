{
 "cells": [
  {
   "cell_type": "code",
   "execution_count": 1,
   "id": "c7ee1c39",
   "metadata": {},
   "outputs": [],
   "source": [
    "#Importing the necessary libraries\n",
    "import numpy as np\n",
    "import pandas as pd\n",
    "import matplotlib.pyplot as plt\n",
    "from sklearn.metrics import mean_absolute_error, mean_squared_error\n",
    "from statsmodels.tsa.holtwinters import ExponentialSmoothing\n",
    "from sklearn.model_selection import train_test_split\n",
    "import statsmodels.api as sm"
   ]
  },
  {
   "cell_type": "code",
   "execution_count": 2,
   "id": "0b9e1553",
   "metadata": {},
   "outputs": [
    {
     "data": {
      "text/html": [
       "<div>\n",
       "<style scoped>\n",
       "    .dataframe tbody tr th:only-of-type {\n",
       "        vertical-align: middle;\n",
       "    }\n",
       "\n",
       "    .dataframe tbody tr th {\n",
       "        vertical-align: top;\n",
       "    }\n",
       "\n",
       "    .dataframe thead th {\n",
       "        text-align: right;\n",
       "    }\n",
       "</style>\n",
       "<table border=\"1\" class=\"dataframe\">\n",
       "  <thead>\n",
       "    <tr style=\"text-align: right;\">\n",
       "      <th></th>\n",
       "      <th>Date</th>\n",
       "      <th>Open</th>\n",
       "      <th>High</th>\n",
       "      <th>Low</th>\n",
       "      <th>Close</th>\n",
       "      <th>Adj Close</th>\n",
       "      <th>Volume</th>\n",
       "    </tr>\n",
       "  </thead>\n",
       "  <tbody>\n",
       "    <tr>\n",
       "      <th>0</th>\n",
       "      <td>2020-12-10</td>\n",
       "      <td>146.000000</td>\n",
       "      <td>165.000000</td>\n",
       "      <td>141.250000</td>\n",
       "      <td>144.710007</td>\n",
       "      <td>144.710007</td>\n",
       "      <td>70447500</td>\n",
       "    </tr>\n",
       "    <tr>\n",
       "      <th>1</th>\n",
       "      <td>2020-12-11</td>\n",
       "      <td>146.550003</td>\n",
       "      <td>151.500000</td>\n",
       "      <td>135.100006</td>\n",
       "      <td>139.250000</td>\n",
       "      <td>139.250000</td>\n",
       "      <td>26980800</td>\n",
       "    </tr>\n",
       "    <tr>\n",
       "      <th>2</th>\n",
       "      <td>2020-12-14</td>\n",
       "      <td>135.000000</td>\n",
       "      <td>135.300003</td>\n",
       "      <td>125.160004</td>\n",
       "      <td>130.000000</td>\n",
       "      <td>130.000000</td>\n",
       "      <td>16966100</td>\n",
       "    </tr>\n",
       "    <tr>\n",
       "      <th>3</th>\n",
       "      <td>2020-12-15</td>\n",
       "      <td>126.690002</td>\n",
       "      <td>127.599998</td>\n",
       "      <td>121.500000</td>\n",
       "      <td>124.800003</td>\n",
       "      <td>124.800003</td>\n",
       "      <td>10914400</td>\n",
       "    </tr>\n",
       "    <tr>\n",
       "      <th>4</th>\n",
       "      <td>2020-12-16</td>\n",
       "      <td>125.830002</td>\n",
       "      <td>142.000000</td>\n",
       "      <td>124.910004</td>\n",
       "      <td>137.990005</td>\n",
       "      <td>137.990005</td>\n",
       "      <td>20409600</td>\n",
       "    </tr>\n",
       "    <tr>\n",
       "      <th>5</th>\n",
       "      <td>2020-12-17</td>\n",
       "      <td>143.000000</td>\n",
       "      <td>152.449997</td>\n",
       "      <td>142.669998</td>\n",
       "      <td>147.050003</td>\n",
       "      <td>147.050003</td>\n",
       "      <td>15054700</td>\n",
       "    </tr>\n",
       "    <tr>\n",
       "      <th>6</th>\n",
       "      <td>2020-12-18</td>\n",
       "      <td>150.449997</td>\n",
       "      <td>159.000000</td>\n",
       "      <td>150.300003</td>\n",
       "      <td>157.300003</td>\n",
       "      <td>157.300003</td>\n",
       "      <td>15954200</td>\n",
       "    </tr>\n",
       "    <tr>\n",
       "      <th>7</th>\n",
       "      <td>2020-12-21</td>\n",
       "      <td>155.309998</td>\n",
       "      <td>172.000000</td>\n",
       "      <td>145.110001</td>\n",
       "      <td>163.020004</td>\n",
       "      <td>163.020004</td>\n",
       "      <td>17788100</td>\n",
       "    </tr>\n",
       "    <tr>\n",
       "      <th>8</th>\n",
       "      <td>2020-12-22</td>\n",
       "      <td>170.000000</td>\n",
       "      <td>174.970001</td>\n",
       "      <td>161.050003</td>\n",
       "      <td>163.190002</td>\n",
       "      <td>163.190002</td>\n",
       "      <td>9872600</td>\n",
       "    </tr>\n",
       "    <tr>\n",
       "      <th>9</th>\n",
       "      <td>2020-12-23</td>\n",
       "      <td>162.813995</td>\n",
       "      <td>168.250000</td>\n",
       "      <td>155.500000</td>\n",
       "      <td>158.009995</td>\n",
       "      <td>158.009995</td>\n",
       "      <td>5852500</td>\n",
       "    </tr>\n",
       "  </tbody>\n",
       "</table>\n",
       "</div>"
      ],
      "text/plain": [
       "         Date        Open        High         Low       Close   Adj Close  \\\n",
       "0  2020-12-10  146.000000  165.000000  141.250000  144.710007  144.710007   \n",
       "1  2020-12-11  146.550003  151.500000  135.100006  139.250000  139.250000   \n",
       "2  2020-12-14  135.000000  135.300003  125.160004  130.000000  130.000000   \n",
       "3  2020-12-15  126.690002  127.599998  121.500000  124.800003  124.800003   \n",
       "4  2020-12-16  125.830002  142.000000  124.910004  137.990005  137.990005   \n",
       "5  2020-12-17  143.000000  152.449997  142.669998  147.050003  147.050003   \n",
       "6  2020-12-18  150.449997  159.000000  150.300003  157.300003  157.300003   \n",
       "7  2020-12-21  155.309998  172.000000  145.110001  163.020004  163.020004   \n",
       "8  2020-12-22  170.000000  174.970001  161.050003  163.190002  163.190002   \n",
       "9  2020-12-23  162.813995  168.250000  155.500000  158.009995  158.009995   \n",
       "\n",
       "     Volume  \n",
       "0  70447500  \n",
       "1  26980800  \n",
       "2  16966100  \n",
       "3  10914400  \n",
       "4  20409600  \n",
       "5  15054700  \n",
       "6  15954200  \n",
       "7  17788100  \n",
       "8   9872600  \n",
       "9   5852500  "
      ]
     },
     "execution_count": 2,
     "metadata": {},
     "output_type": "execute_result"
    }
   ],
   "source": [
    "#Importing the dataset\n",
    "df = pd.read_csv('D:\\\\New folder\\\\ML\\\\Completed\\\\AirBnb.csv')\n",
    "df.head(10)"
   ]
  },
  {
   "cell_type": "code",
   "execution_count": 3,
   "id": "2764c779",
   "metadata": {},
   "outputs": [
    {
     "data": {
      "text/plain": [
       "Date         0\n",
       "Open         0\n",
       "High         0\n",
       "Low          0\n",
       "Close        0\n",
       "Adj Close    0\n",
       "Volume       0\n",
       "dtype: int64"
      ]
     },
     "execution_count": 3,
     "metadata": {},
     "output_type": "execute_result"
    }
   ],
   "source": [
    "#Checking for null values\n",
    "df.isnull().sum()"
   ]
  },
  {
   "cell_type": "code",
   "execution_count": 4,
   "id": "0735e365",
   "metadata": {},
   "outputs": [
    {
     "data": {
      "text/plain": [
       "0"
      ]
     },
     "execution_count": 4,
     "metadata": {},
     "output_type": "execute_result"
    }
   ],
   "source": [
    "#Checking for duplicates\n",
    "df.duplicated().sum()"
   ]
  },
  {
   "cell_type": "code",
   "execution_count": 5,
   "id": "cf57e58e",
   "metadata": {},
   "outputs": [
    {
     "data": {
      "text/plain": [
       "(777, 7)"
      ]
     },
     "execution_count": 5,
     "metadata": {},
     "output_type": "execute_result"
    }
   ],
   "source": [
    "df.shape"
   ]
  },
  {
   "cell_type": "code",
   "execution_count": 6,
   "id": "541ebd52",
   "metadata": {},
   "outputs": [
    {
     "name": "stdout",
     "output_type": "stream",
     "text": [
      "<class 'pandas.core.frame.DataFrame'>\n",
      "RangeIndex: 777 entries, 0 to 776\n",
      "Data columns (total 7 columns):\n",
      " #   Column     Non-Null Count  Dtype  \n",
      "---  ------     --------------  -----  \n",
      " 0   Date       777 non-null    object \n",
      " 1   Open       777 non-null    float64\n",
      " 2   High       777 non-null    float64\n",
      " 3   Low        777 non-null    float64\n",
      " 4   Close      777 non-null    float64\n",
      " 5   Adj Close  777 non-null    float64\n",
      " 6   Volume     777 non-null    int64  \n",
      "dtypes: float64(5), int64(1), object(1)\n",
      "memory usage: 42.6+ KB\n"
     ]
    }
   ],
   "source": [
    "df.info()"
   ]
  },
  {
   "cell_type": "code",
   "execution_count": 7,
   "id": "dc15db97",
   "metadata": {},
   "outputs": [
    {
     "data": {
      "image/png": "[encoded data removed]",
      "text/plain": [
       "<Figure size 640x480 with 4 Axes>"
      ]
     },
     "metadata": {},
     "output_type": "display_data"
    }
   ],
   "source": [
    "result = sm.tsa.seasonal_decompose(df['Adj Close'],period=12)\n",
    "result.plot()\n",
    "plt.show()"
   ]
  },
  {
   "cell_type": "code",
   "execution_count": 8,
   "id": "38cf6b87",
   "metadata": {},
   "outputs": [
    {
     "name": "stdout",
     "output_type": "stream",
     "text": [
      "Estimated Seasonal Period: 1\n"
     ]
    }
   ],
   "source": [
    "import numpy as np\n",
    "import statsmodels.api as sm\n",
    "\n",
    "# Assuming 'df' is your DataFrame with a datetime index and 'Adj Close' is the time series data\n",
    "acf_result = sm.tsa.acf(df['Adj Close'], fft=True)\n",
    "seasonal_period = np.argmax(acf_result[1:]) + 1\n",
    "\n",
    "print(f'Estimated Seasonal Period: {seasonal_period}')"
   ]
  },
  {
   "cell_type": "code",
   "execution_count": 9,
   "id": "202ef30a",
   "metadata": {},
   "outputs": [
    {
     "data": {
      "text/plain": [
       "<statsmodels.tsa.holtwinters.model.ExponentialSmoothing at 0x1516c355700>"
      ]
     },
     "execution_count": 9,
     "metadata": {},
     "output_type": "execute_result"
    }
   ],
   "source": [
    "#Creating the exponential smoothing model\n",
    "model = ExponentialSmoothing(df['Adj Close'], trend='multiplicative', seasonal='multiplicative', seasonal_periods=12)\n",
    "model"
   ]
  },
  {
   "cell_type": "code",
   "execution_count": 10,
   "id": "25f877f1",
   "metadata": {},
   "outputs": [
    {
     "name": "stderr",
     "output_type": "stream",
     "text": [
      "C:\\Users\\User\\anaconda3\\envs\\Research\\lib\\site-packages\\statsmodels\\tsa\\holtwinters\\model.py:83: RuntimeWarning: overflow encountered in matmul\n",
      "  return err.T @ err\n"
     ]
    }
   ],
   "source": [
    "model_fit = model.fit()"
   ]
  },
  {
   "cell_type": "code",
   "execution_count": 11,
   "id": "9e9e953f",
   "metadata": {},
   "outputs": [],
   "source": [
    "# Split the data into training and testing sets\n",
    "train_data, test_data = train_test_split(df['Adj Close'], train_size=0.8)"
   ]
  },
  {
   "cell_type": "code",
   "execution_count": 12,
   "id": "b1518ba6",
   "metadata": {},
   "outputs": [
    {
     "data": {
      "text/plain": [
       "array([144.67802079, 144.64075776, 138.74344863, 130.19344898,\n",
       "       125.07550649, 136.97078307, 147.74933263, 157.73617605,\n",
       "       162.45406732, 162.89072262, 157.91340269, 154.74857238,\n",
       "       148.87791166, 149.91798886, 147.85060728, 146.93659406,\n",
       "       139.47413007, 147.25111038, 143.5820386 , 151.70327809,\n",
       "       149.31274315, 147.87536611, 160.53588782, 169.77063213,\n",
       "       180.18831792, 169.29038832, 172.95527797, 162.07296316,\n",
       "       180.55652273, 180.67093822, 178.51741181, 193.25054711,\n",
       "       200.53757623, 187.15642098, 183.49778361, 180.32855148,\n",
       "       178.96953217, 185.56904254, 194.92262538, 195.47575228,\n",
       "       200.74662207, 198.58338989, 212.68081227, 217.52442118,\n",
       "       212.04957051, 209.50470736, 201.84858491, 197.92191548,\n",
       "       200.80402237, 195.29781881, 186.9109886 , 200.25029012,\n",
       "       182.5583933 , 204.7842018 , 197.55831964, 190.60440285,\n",
       "       179.92168022, 179.90448533, 179.6494743 , 180.65934268,\n",
       "       182.87144696, 183.6940606 , 196.94814987, 206.82766353,\n",
       "       210.34153439, 198.79930742, 202.42308592, 192.19036542,\n",
       "       193.75279923, 194.63934185, 187.04157069, 178.78760283,\n",
       "       175.97666986, 174.33196334, 181.69498911, 183.24497909,\n",
       "       188.23700091, 187.01117621, 187.70048399, 190.64208816,\n",
       "       179.46796312, 179.85063368, 179.34213641, 176.38004438,\n",
       "       177.72567563, 176.35862528, 174.65822106, 178.80685072,\n",
       "       174.93561192, 168.51253306, 167.98512413, 171.25370502,\n",
       "       173.66956598, 174.55549929, 177.74885523, 179.84011741,\n",
       "       177.49049112, 172.67272205, 167.48012171, 169.03245954,\n",
       "       162.68640063, 152.72052241, 152.04025157, 147.26856238,\n",
       "       142.31919787, 140.01794899, 135.66765256, 141.03957577,\n",
       "       132.42284902, 134.93211073, 137.60757132, 136.33036609,\n",
       "       134.96907523, 135.01433992, 134.72269006, 135.19895383,\n",
       "       142.64215686, 140.16922392, 144.14225438, 150.81935829,\n",
       "       144.0816302 , 150.59712379, 148.38950931, 147.14940785,\n",
       "       145.13381765, 145.15723099, 149.2105208 , 149.70763103,\n",
       "       151.27914036, 148.90265926, 150.54831333, 152.38315676,\n",
       "       149.54888089, 149.60785856, 150.95581974, 150.86187647,\n",
       "       149.95232675, 148.96156564, 146.89520997, 153.59263961,\n",
       "       152.59882654, 149.98303946, 148.25201722, 143.65018863,\n",
       "       142.37288839, 149.50174698, 146.12952733, 143.55871764,\n",
       "       139.38363493, 136.61993814, 135.05655193, 132.34930034,\n",
       "       135.62337314, 138.9671828 , 139.34031782, 138.62778139,\n",
       "       141.80207429, 141.51478967, 142.71059981, 143.58641731,\n",
       "       144.2671359 , 144.52914782, 146.42573459, 147.8825757 ,\n",
       "       149.82025912, 149.7199017 , 149.30860979, 147.84765053,\n",
       "       147.98311576, 151.04885568, 152.13343006, 148.73094786,\n",
       "       144.20579656, 145.7588991 , 143.44899473, 144.17700368,\n",
       "       146.299775  , 160.99095118, 160.21215205, 152.68074918,\n",
       "       153.98510539, 155.92701469, 154.37887101, 156.70418024,\n",
       "       157.48058451, 156.96383139, 165.81576512, 164.49443719,\n",
       "       165.45936513, 164.90621092, 160.21859255, 163.14482617,\n",
       "       166.14481588, 168.0514425 , 165.93740049, 161.81892674,\n",
       "       169.52767836, 168.84675953, 176.01654982, 176.46811677,\n",
       "       173.72745608, 168.32532499, 167.92167253, 167.6215355 ,\n",
       "       172.75694221, 164.49827533, 164.07900071, 167.3646809 ,\n",
       "       169.88674779, 168.86004338, 167.58977897, 173.27831065,\n",
       "       173.02633808, 170.21771545, 169.03791828, 172.15611273,\n",
       "       170.55235917, 169.68673605, 169.8107519 , 166.81302331,\n",
       "       169.5242614 , 170.00822629, 170.02111635, 172.25709639,\n",
       "       170.13310362, 174.24563541, 172.72784768, 172.73467406,\n",
       "       178.18720943, 201.30698797, 199.5280534 , 194.89290583,\n",
       "       192.59330079, 190.36853059, 207.50391478, 207.90382801,\n",
       "       206.39101426, 198.82034089, 204.09587989, 196.33905421,\n",
       "       181.65212862, 178.21619138, 179.1550733 , 174.0591527 ,\n",
       "       180.35051985, 171.48627679, 164.03829434, 170.11386648,\n",
       "       166.25186804, 180.39071984, 182.95016817, 186.31260608,\n",
       "       181.29227504, 180.34200031, 170.44173782, 168.12819601,\n",
       "       168.44441754, 155.47091325, 158.73953984, 157.76823132,\n",
       "       165.06164456, 168.94717773, 171.13438189, 171.54165318,\n",
       "       169.52813544, 167.37928974, 168.09202303, 166.64881147,\n",
       "       172.93639181, 169.70566021, 163.19516741, 160.31488009,\n",
       "       165.470259  , 160.46578839, 168.38317057, 169.39759275,\n",
       "       165.83698153, 163.9287857 , 154.15663695, 154.70986938,\n",
       "       158.255134  , 155.72167416, 148.77121231, 145.08154023,\n",
       "       141.71613168, 138.19258017, 142.59928306, 153.74490032,\n",
       "       156.72653358, 151.73338848, 148.99194163, 155.63371868,\n",
       "       158.17428459, 161.16372619, 170.36703812, 172.50902145,\n",
       "       166.05681381, 169.32280915, 179.80877277, 186.43133398,\n",
       "       183.41093049, 174.89525046, 164.66874371, 150.30567353,\n",
       "       158.4721713 , 154.10943789, 152.33199638, 151.52603398,\n",
       "       156.97475196, 151.46745418, 142.65311851, 131.58993441,\n",
       "       141.86553786, 148.17924765, 151.15965545, 145.32197442,\n",
       "       138.81355978, 142.96360143, 156.47129845, 158.06568799,\n",
       "       166.38732368, 161.5528094 , 166.24514705, 164.05191094,\n",
       "       170.5665826 , 167.17092048, 166.97506141, 175.59308563,\n",
       "       173.96219292, 170.66004049, 173.98124143, 177.5826185 ,\n",
       "       170.72520583, 164.42160099, 165.74696613, 162.46356746,\n",
       "       160.08210631, 160.03311629, 171.05369295, 170.85128002,\n",
       "       166.08718432, 168.97336909, 165.47902956, 158.50738192,\n",
       "       155.61663324, 158.08111667, 152.9489598 , 152.11870909,\n",
       "       159.48161746, 153.19511086, 152.17270273, 145.19223029,\n",
       "       156.36044142, 142.27898014, 136.6328688 , 119.92910962,\n",
       "       115.7964106 , 115.938919  , 115.8356972 , 121.30399736,\n",
       "       114.36886216, 117.41503118, 107.68448753, 114.20901012,\n",
       "       112.76863945, 112.53649083, 106.87165669, 110.73586254,\n",
       "       113.90421707, 120.22331152, 120.75541594, 116.66683797,\n",
       "       121.07489068, 119.78420617, 121.51151768, 122.99372076,\n",
       "       123.98631107, 115.04132852, 109.55474921,  99.35930908,\n",
       "        98.56074587, 101.26138009,  93.25030367,  99.35511179,\n",
       "       102.12264312,  99.50648341,  95.37230246, 103.52421095,\n",
       "       101.70195089,  96.93227304,  94.46464442,  89.42782525,\n",
       "        91.10163728,  95.72317132,  92.82314102,  97.38105832,\n",
       "        97.23561023,  95.07433243,  96.15063493,  95.72745909,\n",
       "        91.25771537,  94.0112021 ,  98.16261751, 102.50414244,\n",
       "       107.33993225, 107.93848665, 103.91383663, 104.85890954,\n",
       "       101.81723434, 107.25735857, 108.39048653, 111.05182796,\n",
       "       111.3994261 , 115.53560703, 115.64513537, 119.58539097,\n",
       "       116.76128555, 115.62071105, 114.34875957, 118.59709831,\n",
       "       121.33014767, 124.42097294, 125.52145783, 124.29966756,\n",
       "       122.11278515, 120.48662412, 115.43244491, 111.79998333,\n",
       "       111.24775437, 114.2741277 , 116.90008421, 112.77009935,\n",
       "       113.39928605, 112.51392184, 112.66237864, 113.49103158,\n",
       "       113.84397561, 112.95945995, 116.66710584, 118.95867266,\n",
       "       123.04648811, 124.5497151 , 121.45934425, 126.65201389,\n",
       "       124.90778942, 118.75032163, 118.30508766, 116.82553398,\n",
       "       114.24219608, 103.14031603, 102.31181799, 103.56666255,\n",
       "       106.00659372, 110.4477131 , 106.60002002, 104.97274891,\n",
       "       104.87608982, 110.70210633, 111.30360398, 111.67370233,\n",
       "       108.76509434, 110.24558465, 107.42820877, 112.67993193,\n",
       "       112.29291835, 108.99265704, 116.32658945, 117.83333427,\n",
       "       116.74144842, 116.94166013, 119.4428253 , 116.51868262,\n",
       "       118.64603736, 114.58853065, 112.68830979, 115.57171707,\n",
       "       106.65089577, 108.83186468,  94.45944406,  91.97101152,\n",
       "        95.93880878,  95.41884874,  98.47246659,  95.8975815 ,\n",
       "       102.52444914, 108.79029579, 105.76146839, 107.35591139,\n",
       "       104.12594815,  99.16593766,  97.6959305 ,  95.65409617,\n",
       "        95.1712932 ,  96.5704134 ,  97.26924326,  95.40074998,\n",
       "        95.55240537, 101.41274141, 101.81803925, 101.34497502,\n",
       "        98.22383536,  92.99970704,  91.43246169,  94.72490738,\n",
       "        94.58878063,  95.52524547,  92.98684467,  94.00255979,\n",
       "        90.80528568,  88.99673382,  86.42249143,  87.90148119,\n",
       "        86.80153158,  84.73524258,  85.16945642,  83.44070078,\n",
       "        82.40175124,  85.16307689,  85.154965  ,  84.9757782 ,\n",
       "        88.84557889,  87.14791192,  88.98516341,  89.53561341,\n",
       "        88.26836182,  94.21304183,  98.36275094, 100.27343041,\n",
       "       101.14171632, 101.06194416,  98.72180446, 101.34392607,\n",
       "       105.3740407 , 103.46179268, 104.99477189, 109.74413845,\n",
       "       115.51515656, 109.33899559, 110.99469546, 113.87365796,\n",
       "       118.33758615, 118.63982078, 117.87949227, 119.77684616,\n",
       "       116.60181665, 114.20514741, 109.50767007, 116.74439626,\n",
       "       120.44836999, 136.61040777, 139.2699047 , 131.56890596,\n",
       "       128.65431784, 127.16248901, 125.03337731, 122.90713215,\n",
       "       123.74724976, 122.4796078 , 121.49818563, 122.78035776,\n",
       "       125.30412796, 126.09314873, 126.81898241, 124.91987978,\n",
       "       119.74609355, 118.25677044, 115.51763028, 116.45289504,\n",
       "       113.81175751, 119.14979737, 118.79770259, 118.7990336 ,\n",
       "       123.25259306, 120.97121666, 120.19891635, 116.85961   ,\n",
       "       117.76163833, 116.56482677, 118.30447312, 122.34882958,\n",
       "       124.60575219, 120.69597297, 119.12092047, 115.76042722,\n",
       "       109.39821466, 112.36772719, 114.13058045, 112.34865928,\n",
       "       113.80113119, 114.58729165, 115.69104976, 119.26053887,\n",
       "       120.30912174, 117.64457433, 116.14403933, 116.50800834,\n",
       "       112.18537411, 113.46156383, 115.13047215, 119.53517164,\n",
       "       121.25969979, 120.5286494 , 118.40039376, 117.73876851,\n",
       "       120.09641381, 124.77844248, 127.73522219, 113.70331572,\n",
       "       110.87076432, 105.13736793, 105.67961068, 105.33075657,\n",
       "       108.17471959, 111.78221971, 106.99155018, 109.99774161,\n",
       "       106.47675888, 105.02681867, 104.98954682, 107.1498864 ,\n",
       "       106.849881  , 109.54554687, 112.03561841, 117.91267325,\n",
       "       115.57446803, 117.2276877 , 116.0906719 , 115.60516304,\n",
       "       118.0520108 , 123.71620649, 125.56351153, 125.56196574,\n",
       "       127.42368299, 128.43693599, 126.35559646, 127.35078905,\n",
       "       127.80388391, 124.69857019, 122.65261538, 127.95180684,\n",
       "       127.86371926, 124.30848682, 128.81619493, 132.75928434,\n",
       "       131.2825445 , 127.95836208, 130.18191548, 131.59355677,\n",
       "       137.32305709, 136.95700566, 139.50159522, 143.42798623,\n",
       "       145.60476118, 145.56471139, 146.32122208, 145.77494605,\n",
       "       148.27077158, 147.36059781, 148.50547576, 150.0380655 ,\n",
       "       148.33936709, 153.21016707, 151.59167783, 149.06329805,\n",
       "       144.86310585, 139.99683152, 140.92532767, 143.65722063,\n",
       "       139.14560142, 137.63395783, 135.86417643, 133.59646806,\n",
       "       133.08652981, 129.81760989, 128.32462855, 128.10342096,\n",
       "       125.31430317, 123.20252814, 127.73013168, 128.55420126,\n",
       "       124.36014343, 125.550614  , 126.03688692, 132.08977318,\n",
       "       130.46996447, 131.47680959, 132.14889024, 142.31838855,\n",
       "       142.03136119, 142.32332753, 146.57479821, 147.81489928,\n",
       "       147.03553045, 144.47629902, 143.99491761, 142.6505686 ,\n",
       "       142.38319457, 141.78683052, 137.49397052, 132.9081558 ,\n",
       "       132.4455797 , 133.24877076, 133.00327122, 134.46793724,\n",
       "       136.01900862, 136.95232315, 136.44196897, 127.71150045,\n",
       "       127.26286377, 124.9509855 , 125.84253453, 127.86200596,\n",
       "       131.79329689, 129.16788448, 126.68004174, 124.51850332,\n",
       "       124.78704438, 125.47543606, 122.09161971, 119.89660164,\n",
       "       116.38444247, 120.29505407, 121.50708547, 118.6298976 ,\n",
       "       115.70806037, 113.36009647, 117.54802301, 118.67812955,\n",
       "       119.08406313, 115.32544522, 122.46277784, 118.11809386,\n",
       "       120.91020124, 117.63360396, 115.07826468, 118.22314255,\n",
       "       119.35676039, 125.78562413, 129.01908077, 126.72721863,\n",
       "       126.74302998, 129.43960352, 126.73084849, 128.91862736,\n",
       "       128.22400161, 128.93083875, 127.06345983, 126.59419939,\n",
       "       126.57088825, 134.06068411, 134.42511345, 134.16327505,\n",
       "       134.87052676, 139.54260426, 140.54374348, 142.77728994,\n",
       "       140.40526632, 144.40245683, 146.64576149, 146.72652254,\n",
       "       147.75985374, 145.95854328, 141.87713865, 142.5626622 ,\n",
       "       140.37013356, 138.48583859, 136.44596091, 136.88856438,\n",
       "       135.98689017, 134.42929181, 132.89668246, 133.82738603,\n",
       "       136.20613835, 139.12950665, 140.2795935 , 140.23165103,\n",
       "       139.01533411])"
      ]
     },
     "execution_count": 12,
     "metadata": {},
     "output_type": "execute_result"
    }
   ],
   "source": [
    "#Making predcitions to check the model accuracy\n",
    "forecast = model.predict(start=0, end=len(train_data)+len(test_data)-1,params=model_fit.params)\n",
    "forecast"
   ]
  },
  {
   "cell_type": "code",
   "execution_count": 13,
   "id": "c5ec16d2",
   "metadata": {},
   "outputs": [
    {
     "name": "stdout",
     "output_type": "stream",
     "text": [
      "MAE: 3.4363397966945053\n",
      "MSE: 22.70475867154553\n",
      "RMSE: 4.764951067067272\n",
      "MAPE: 2.459364844320184\n"
     ]
    }
   ],
   "source": [
    "# Calculating mean absolute error (MAE)\n",
    "mae = mean_absolute_error(df['Adj Close'], forecast)\n",
    "\n",
    "# Calculating mean squared error (MSE)\n",
    "mse = mean_squared_error(df['Adj Close'], forecast)\n",
    "\n",
    "# Calculating root mean squared error (RMSE)\n",
    "rmse = np.sqrt(mse)\n",
    "\n",
    "# Calculating mean absolute percentage error (MAPE)\n",
    "mape = np.mean(np.abs((df['Adj Close'] - forecast) / df['Adj Close'])) * 100\n",
    "\n",
    "# Printing the computed metrics\n",
    "print(\"MAE:\", mae)\n",
    "print(\"MSE:\", mse)\n",
    "print(\"RMSE:\", rmse)\n",
    "print(\"MAPE:\", mape)"
   ]
  },
  {
   "cell_type": "code",
   "execution_count": 15,
   "id": "85d400ed",
   "metadata": {},
   "outputs": [],
   "source": [
    "#Making predictions from the ES model for the next 8 years\n",
    "start_date = '2024'\n",
    "end_date = '2030'\n",
    "#date_range = pd.date_range(start=start_date, end=end_date, freq='Q')\n",
    "date_range = pd.date_range(start=start_date, end=end_date, freq='Y')\n",
    "forecast_mod = model.predict(start=len(train_data)+len(test_data), end=len(train_data)+len(test_data)+len(date_range)-1,params=model_fit.params)\n",
    "#forecast_index = pd.DatetimeIndex(date_range)\n",
    "#forecast_df = pd.DataFrame(forecast_mod, index=forecast_index, columns=df['Adj Close'])\n",
    "#forecast_df"
   ]
  },
  {
   "cell_type": "code",
   "execution_count": 16,
   "id": "3ad7429a",
   "metadata": {},
   "outputs": [
    {
     "data": {
      "text/plain": [
       "array([136.91075637, 136.78850439, 136.68233898, 136.52163727,\n",
       "       136.45598771, 135.91126829])"
      ]
     },
     "execution_count": 16,
     "metadata": {},
     "output_type": "execute_result"
    }
   ],
   "source": [
    "forecast_mod"
   ]
  },
  {
   "cell_type": "code",
   "execution_count": null,
   "id": "4ebfa7f8",
   "metadata": {},
   "outputs": [],
   "source": []
  }
 ],
 "metadata": {
  "kernelspec": {
   "display_name": "Python 3 (ipykernel)",
   "language": "python",
   "name": "python3"
  },
  "language_info": {
   "codemirror_mode": {
    "name": "ipython",
    "version": 3
   },
   "file_extension": ".py",
   "mimetype": "text/x-python",
   "name": "python",
   "nbconvert_exporter": "python",
   "pygments_lexer": "ipython3",
   "version": "3.9.18"
  }
 },
 "nbformat": 4,
 "nbformat_minor": 5
}
