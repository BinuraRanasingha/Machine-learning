{
 "cells": [
  {
   "cell_type": "code",
   "execution_count": 1,
   "id": "a5bd129c-fd3b-4eee-870b-f3f5d1763854",
   "metadata": {},
   "outputs": [],
   "source": [
    "#Importing the necessary libraries\n",
    "import tensorflow as tf\n",
    "from tensorflow.keras.optimizers import RMSprop\n",
    "from tensorflow.keras.preprocessing.image import ImageDataGenerator\n",
    "import matplotlib.pyplot as plt\n",
    "from keras.models import Sequential\n",
    "from keras.layers import Conv2D, MaxPool2D, Dropout, Dense, Flatten\n",
    "from keras.callbacks import EarlyStopping\n",
    "from keras.preprocessing.image import ImageDataGenerator\n",
    "import torch\n",
    "import torch.nn as nn\n",
    "import torch.optim as optim\n",
    "from torchvision.transforms import ToTensor\n",
    "from torch.utils.data import DataLoader, random_split\n",
    "from sklearn.metrics import accuracy_score\n",
    "from torchvision.datasets import ImageFolder\n",
    "from torchvision import transforms"
   ]
  },
  {
   "cell_type": "code",
   "execution_count": 2,
   "id": "78f3f827-207e-467f-851b-70076fa57675",
   "metadata": {},
   "outputs": [],
   "source": [
    "#Loading the data\n",
    "training = \"D:\\\\New folder\\\\ML\\\\Completed\\\\Brain Tumor Classification\\\\archive (1)\\\\Training\" \n",
    "testing = \"D:\\\\New folder\\\\ML\\\\Completed\\\\Brain Tumor Classification\\\\archive (1)\\\\Testing\""
   ]
  },
  {
   "cell_type": "markdown",
   "id": "35b97715-74a1-4348-a094-1c5918f13687",
   "metadata": {},
   "source": [
    "# Creating a model using TensorFlow"
   ]
  },
  {
   "cell_type": "markdown",
   "id": "af5f059f-2ace-4cfc-9803-fafd7da9907d",
   "metadata": {},
   "source": [
    "* After creating the necessary convolution layers we need to pass the data into the dense layer.\n",
    "* Before passing the data into the **fully connected** layer we need to flatten the data using a **flatten** layer because the fully connected(dense) only accepts data in 1D form."
   ]
  },
  {
   "cell_type": "code",
   "execution_count": 3,
   "id": "584b6d96-5a64-4479-a60f-1590c51a2531",
   "metadata": {},
   "outputs": [],
   "source": [
    "#Creating the model\n",
    "model = Sequential([\n",
    "    #First Convolution layer\n",
    "    Conv2D(filters=2,kernel_size=3, activation='sigmoid',input_shape=(224,224,3)),\n",
    "    MaxPool2D(pool_size=2, strides=1, padding='valid'),\n",
    "\n",
    "    #Second Convolution layer\n",
    "    Conv2D(filters=2,kernel_size=3, activation='relu',groups=1),\n",
    "    MaxPool2D(pool_size=2, strides=1, padding='valid'),\n",
    "\n",
    "    Flatten(),\n",
    "\n",
    "    #Dense layers\n",
    "    Dense(100,activation='relu'),\n",
    "    Dense(100,activation='relu'),\n",
    "\n",
    "    #Output layer\n",
    "    Dense(4,activation='softmax') #the number of neurons in this layer represents the number of outputsMaxPool2DMaxPool2D\n",
    "])"
   ]
  },
  {
   "cell_type": "code",
   "execution_count": 4,
   "id": "f7d8504d-4911-4d72-b17c-bee170cff9a2",
   "metadata": {},
   "outputs": [
    {
     "name": "stdout",
     "output_type": "stream",
     "text": [
      "Model: \"sequential\"\n",
      "_________________________________________________________________\n",
      " Layer (type)                Output Shape              Param #   \n",
      "=================================================================\n",
      " conv2d (Conv2D)             (None, 222, 222, 2)       56        \n",
      "                                                                 \n",
      " max_pooling2d (MaxPooling2D  (None, 221, 221, 2)      0         \n",
      " )                                                               \n",
      "                                                                 \n",
      " conv2d_1 (Conv2D)           (None, 219, 219, 2)       38        \n",
      "                                                                 \n",
      " max_pooling2d_1 (MaxPooling  (None, 218, 218, 2)      0         \n",
      " 2D)                                                             \n",
      "                                                                 \n",
      " flatten (Flatten)           (None, 95048)             0         \n",
      "                                                                 \n",
      " dense (Dense)               (None, 100)               9504900   \n",
      "                                                                 \n",
      " dense_1 (Dense)             (None, 100)               10100     \n",
      "                                                                 \n",
      " dense_2 (Dense)             (None, 4)                 404       \n",
      "                                                                 \n",
      "=================================================================\n",
      "Total params: 9,515,498\n",
      "Trainable params: 9,515,498\n",
      "Non-trainable params: 0\n",
      "_________________________________________________________________\n"
     ]
    }
   ],
   "source": [
    "#printing the model summary\n",
    "model.summary()"
   ]
  },
  {
   "cell_type": "code",
   "execution_count": 5,
   "id": "78fd0603-9c16-4322-a6b5-cae64106e38e",
   "metadata": {},
   "outputs": [],
   "source": [
    "#Compiling the model\n",
    "model.compile(loss='categorical_crossentropy', optimizer=RMSprop(learning_rate=0.0001),metrics=['accuracy'])"
   ]
  },
  {
   "cell_type": "code",
   "execution_count": 6,
   "id": "7a7560a2-b82f-40b1-9bc6-5880abf9dfe4",
   "metadata": {},
   "outputs": [
    {
     "name": "stdout",
     "output_type": "stream",
     "text": [
      "Found 5712 images belonging to 4 classes.\n",
      "Found 1311 images belonging to 4 classes.\n"
     ]
    }
   ],
   "source": [
    "train_datagen = ImageDataGenerator(rescale = 1/.255)\n",
    "train_generator = train_datagen.flow_from_directory(training, target_size=(224,224),batch_size=16, class_mode='categorical')\n",
    "\n",
    "test_datagen = ImageDataGenerator(rescale = 1/.255)\n",
    "test_set = test_datagen.flow_from_directory(testing, target_size=(224,224),batch_size=16, class_mode='categorical')"
   ]
  },
  {
   "cell_type": "code",
   "execution_count": 7,
   "id": "c75f10c8-42df-4b5a-b924-180538a4f816",
   "metadata": {},
   "outputs": [],
   "source": [
    "# Define the EarlyStopping callback\n",
    "#early_stopping = EarlyStopping(monitor='val_loss', patience=5, restore_best_weights=True)"
   ]
  },
  {
   "cell_type": "code",
   "execution_count": 8,
   "id": "bd210cce-64ac-4d5e-93d5-a86fc507ea6e",
   "metadata": {},
   "outputs": [
    {
     "name": "stdout",
     "output_type": "stream",
     "text": [
      "Epoch 1/20\n",
      "357/357 [==============================] - 14s 38ms/step - loss: 0.5445 - accuracy: 0.8065 - val_loss: 0.3351 - val_accuracy: 0.8772\n",
      "Epoch 2/20\n",
      "357/357 [==============================] - 13s 36ms/step - loss: 0.1751 - accuracy: 0.9391 - val_loss: 0.2252 - val_accuracy: 0.9207\n",
      "Epoch 3/20\n",
      "357/357 [==============================] - 14s 38ms/step - loss: 0.0573 - accuracy: 0.9813 - val_loss: 0.2556 - val_accuracy: 0.9252\n",
      "Epoch 4/20\n",
      "357/357 [==============================] - 13s 38ms/step - loss: 0.0197 - accuracy: 0.9942 - val_loss: 0.2655 - val_accuracy: 0.9291\n",
      "Epoch 5/20\n",
      "357/357 [==============================] - 13s 37ms/step - loss: 0.0067 - accuracy: 0.9979 - val_loss: 0.2848 - val_accuracy: 0.9367\n",
      "Epoch 6/20\n",
      "357/357 [==============================] - 13s 38ms/step - loss: 0.0086 - accuracy: 0.9979 - val_loss: 0.3073 - val_accuracy: 0.9329\n",
      "Epoch 7/20\n",
      "357/357 [==============================] - 14s 38ms/step - loss: 0.0047 - accuracy: 0.9989 - val_loss: 0.3937 - val_accuracy: 0.9252\n",
      "Epoch 8/20\n",
      "357/357 [==============================] - 13s 37ms/step - loss: 0.0025 - accuracy: 0.9995 - val_loss: 0.4501 - val_accuracy: 0.9314\n",
      "Epoch 9/20\n",
      "357/357 [==============================] - 13s 37ms/step - loss: 2.0818e-04 - accuracy: 1.0000 - val_loss: 0.3852 - val_accuracy: 0.9390\n",
      "Epoch 10/20\n",
      "357/357 [==============================] - 13s 37ms/step - loss: 0.0039 - accuracy: 0.9988 - val_loss: 0.4269 - val_accuracy: 0.9359\n",
      "Epoch 11/20\n",
      "357/357 [==============================] - 13s 37ms/step - loss: 0.0016 - accuracy: 0.9993 - val_loss: 0.5098 - val_accuracy: 0.9298\n",
      "Epoch 12/20\n",
      "357/357 [==============================] - 13s 37ms/step - loss: 9.6982e-07 - accuracy: 1.0000 - val_loss: 0.5354 - val_accuracy: 0.9344\n",
      "Epoch 13/20\n",
      "357/357 [==============================] - 13s 37ms/step - loss: 4.4244e-08 - accuracy: 1.0000 - val_loss: 0.6032 - val_accuracy: 0.9314\n",
      "Epoch 14/20\n",
      "357/357 [==============================] - 14s 39ms/step - loss: 8.0141e-09 - accuracy: 1.0000 - val_loss: 0.6180 - val_accuracy: 0.9321\n",
      "Epoch 15/20\n",
      "357/357 [==============================] - 19s 52ms/step - loss: 3.1514e-09 - accuracy: 1.0000 - val_loss: 0.6018 - val_accuracy: 0.9359\n",
      "Epoch 16/20\n",
      "357/357 [==============================] - 25s 71ms/step - loss: 2.2540e-09 - accuracy: 1.0000 - val_loss: 0.6301 - val_accuracy: 0.9382\n",
      "Epoch 17/20\n",
      "357/357 [==============================] - 27s 74ms/step - loss: 1.7113e-09 - accuracy: 1.0000 - val_loss: 0.6268 - val_accuracy: 0.9367\n",
      "Epoch 18/20\n",
      "357/357 [==============================] - 27s 76ms/step - loss: 1.0852e-09 - accuracy: 1.0000 - val_loss: 0.6443 - val_accuracy: 0.9390\n",
      "Epoch 19/20\n",
      "357/357 [==============================] - 28s 78ms/step - loss: 1.2522e-09 - accuracy: 1.0000 - val_loss: 0.6996 - val_accuracy: 0.9359\n",
      "Epoch 20/20\n",
      "357/357 [==============================] - 28s 79ms/step - loss: 1.5652e-09 - accuracy: 1.0000 - val_loss: 0.6952 - val_accuracy: 0.9367\n"
     ]
    }
   ],
   "source": [
    "#Training the model\n",
    "history = model.fit(train_generator, validation_data=test_set, epochs=20)"
   ]
  },
  {
   "cell_type": "markdown",
   "id": "b4963748-dd8f-46cd-83d7-72e1ca0dd762",
   "metadata": {},
   "source": [
    ", callbacks=[early_stopping]"
   ]
  },
  {
   "cell_type": "code",
   "execution_count": 9,
   "id": "1ae55fe7-c770-4931-a478-a8c527bcd0ea",
   "metadata": {},
   "outputs": [
    {
     "data": {
      "image/png": "[encoded data removed]",
      "text/plain": [
       "<Figure size 640x480 with 1 Axes>"
      ]
     },
     "metadata": {},
     "output_type": "display_data"
    },
    {
     "data": {
      "image/png": "[encoded data removed]",
      "text/plain": [
       "<Figure size 640x480 with 1 Axes>"
      ]
     },
     "metadata": {},
     "output_type": "display_data"
    }
   ],
   "source": [
    "#plot the loss\n",
    "plt.plot(history.history['loss'],label='train loss')\n",
    "plt.plot(history.history['val_loss'],label='val loss')\n",
    "plt.xlabel('Epoch')\n",
    "plt.ylabel('Loss')\n",
    "plt.legend()\n",
    "plt.show()\n",
    "\n",
    "\n",
    "#plot the accuracy\n",
    "plt.plot(history.history['accuracy'],label='train acc')\n",
    "plt.plot(history.history['val_accuracy'],label='val acc')\n",
    "plt.legend()\n",
    "plt.show()\n"
   ]
  },
  {
   "cell_type": "code",
   "execution_count": 10,
   "id": "8f5f4105-a987-4462-8927-b0562050eba8",
   "metadata": {},
   "outputs": [],
   "source": [
    "# Checking the model accuracy\n",
    "results = model.evaluate(test_set,verbose=0)"
   ]
  },
  {
   "cell_type": "code",
   "execution_count": 11,
   "id": "dbef908e-c6d0-4b73-bc8d-6c679222b939",
   "metadata": {},
   "outputs": [
    {
     "name": "stdout",
     "output_type": "stream",
     "text": [
      "Test Loss: 0.69515\n",
      "Accuracy on the test set: 93.67%\n"
     ]
    }
   ],
   "source": [
    "print(\"Test Loss: {:.5f}\".format(results[0]))\n",
    "print(\"Accuracy on the test set: {:.2f}%\".format(results[1] * 100))"
   ]
  },
  {
   "cell_type": "markdown",
   "id": "beddcc67-e273-46a6-a16e-868b0a6bd403",
   "metadata": {},
   "source": [
    "# Creating a model using PyTorch"
   ]
  },
  {
   "cell_type": "markdown",
   "id": "6d6eb23b-69c4-4bfd-9235-d83a98261c5e",
   "metadata": {},
   "source": [
    "* I will do the following now:\n",
    "1. Defining the CNN model (CustomCNN).\n",
    "2. Loading the MRI dataset and createing train and validation data loaders.\n",
    "3. Setting up the loss function (CrossEntropyLoss) and optimizer (RMSprop).\n",
    "4. Training the model for a specified number of epochs.\n",
    "5. Evaluating the model on the validation set and calculating the accuracy."
   ]
  },
  {
   "cell_type": "code",
   "execution_count": null,
   "id": "73f82f74-b389-4572-aeb6-53903df50a04",
   "metadata": {},
   "outputs": [],
   "source": [
    "# Creating the model\n",
    "model = nn.Sequential(\n",
    "\n",
    "    #First convolution layer\n",
    "    nn.Conv2d(in_channels=1, out_channels=16, kernel_size=3, stride=1),\n",
    "    nn.ReLU(),\n",
    "    nn.MaxPool2d(kernel_size=2, stride=1),\n",
    "\n",
    "    #Second Convolution Layer\n",
    "    nn.Conv2d(in_channels=16, out_channels=16, kernel_size=3, stride=1),\n",
    "    nn.ReLU(),\n",
    "    nn.MaxPool2d(kernel_size=2, stride=1),\n",
    "\n",
    "    #Flattening the data before passing into the fully connected(Dense) layer\n",
    "    nn.Flatten(),\n",
    "\n",
    "    #Dense layers\n",
    "    nn.Linear(in_features=16*218*218, out_features=100),\n",
    "    nn.ReLU(),\n",
    "    nn.Linear(in_features=100, out_features=100),\n",
    "    nn.ReLU(),\n",
    "\n",
    "    #Output layer\n",
    "    nn.Linear(in_features=100, out_features=4),\n",
    "    nn.Softmax(dim=1)\n",
    ")"
   ]
  },
  {
   "cell_type": "markdown",
   "id": "9b664d4d-b388-4b99-8427-5a88334d4c59",
   "metadata": {},
   "source": [
    "* **nn.Conv2d(in_channels=1, out_channels=16, kernel_size=3, stride=1)** - In this code snippet **in_channels** specifies the number of channels (or depth) in the input image or feature map and the **out_channels** parameter specifies the number of output channels (or feature maps) produced by the convolution operation. Each output channel represents a different set of learned filters applied to the input. Increasing the number of output channels allows the model to learn more diverse features and capture more complex patterns.\n"
   ]
  },
  {
   "cell_type": "markdown",
   "id": "bf3c4b77-0ba2-4dba-b6ed-64253883e6e6",
   "metadata": {},
   "source": [
    "* **nn.Linear(in_features=64,out_features=100)** - In this code snippet **in_features** parameter specifies the number of input values (or neurons) to the linear layer. "
   ]
  },
  {
   "cell_type": "markdown",
   "id": "6aff70f9-fa22-424e-b61c-02cf7cda0ec8",
   "metadata": {},
   "source": [
    "* The **dim** parameter indicates the dimension along which the softmax function is computed. Specifically, it determines the dimension over which the sum of exponentials is taken to normalize the input tensor."
   ]
  },
  {
   "cell_type": "code",
   "execution_count": null,
   "id": "7f838d64-73eb-42be-8609-8c297c8bcf6f",
   "metadata": {},
   "outputs": [],
   "source": [
    "#Loading the data\n",
    "training = \"D:\\\\New folder\\\\ML\\\\Completed\\\\Brain Tumor Classification\\\\archive (1)\\\\Training\" \n",
    "testing = \"D:\\\\New folder\\\\ML\\\\Completed\\\\Brain Tumor Classification\\\\archive (1)\\\\Testing\""
   ]
  },
  {
   "cell_type": "code",
   "execution_count": null,
   "id": "b27b1d39-030e-4513-9c1f-dc6b1ca76a66",
   "metadata": {},
   "outputs": [],
   "source": [
    "# Define transformations to resize images\n",
    "transform = transforms.Compose([\n",
    "    transforms.Resize((224, 224)),  # Resize images to a uniform size\n",
    "    transforms.Grayscale(),# Convert images to grayscale\n",
    "    transforms.ToTensor()           # Convert images to PyTorch tensors\n",
    "])"
   ]
  },
  {
   "cell_type": "code",
   "execution_count": null,
   "id": "a29dbbc5-4784-4ff7-8102-37d624a93833",
   "metadata": {},
   "outputs": [],
   "source": [
    "train_set = ImageFolder(training, transform=transform)\n",
    "test_set = ImageFolder(testing, transform=transform)"
   ]
  },
  {
   "cell_type": "code",
   "execution_count": null,
   "id": "c1b3a442-26f7-4d5a-b893-34a56e95c442",
   "metadata": {},
   "outputs": [],
   "source": [
    "#Creating data loaders\n",
    "train_loader = DataLoader(train_set,batch_size=64,shuffle=True)\n",
    "val_loader = DataLoader(test_set,batch_size=64)"
   ]
  },
  {
   "cell_type": "markdown",
   "id": "a70a13a9-c1df-4de2-b5bb-50c95675da5f",
   "metadata": {},
   "source": [
    "for images, labels in train_loader:\n",
    "    # Print the shape of the tensors\n",
    "    print(\"Images shape:\", images.shape)\n",
    "    print(\"Labels shape:\", labels.shape)\n",
    "    # Break after printing the shape of the first batch\n",
    "    break"
   ]
  },
  {
   "cell_type": "code",
   "execution_count": null,
   "id": "6b63bd08-e868-4b66-933f-901d2e2df5a9",
   "metadata": {},
   "outputs": [],
   "source": [
    "#Instantiating the loss function and the optimizer\n",
    "criterion = nn.CrossEntropyLoss()\n",
    "optimizer = optim.RMSprop(model.parameters(),lr=0.0001)"
   ]
  },
  {
   "cell_type": "markdown",
   "id": "67751b44-b076-457a-9fc5-c78ea11866b0",
   "metadata": {},
   "source": [
    "* **model.parameters()** is a method of the nn.Module class, and it is used to obtain an iterator over all the learnable parameters of the model. These parameters include the weights and biases of all the layers in the model."
   ]
  },
  {
   "cell_type": "markdown",
   "id": "c91ff4e9-55a4-4503-8b29-8d278935e705",
   "metadata": {},
   "source": [
    "#Training the model\n",
    "num_epochs = 100\n",
    "for epoch in range(num_epochs):\n",
    "    model.train() #Setting the model to the training mode\n",
    "    running_loss = 0.0\n",
    "    for images,labels in train_loader:\n",
    "        optimizer.zero_grad()\n",
    "        outputs = model(images)\n",
    "        loss = criterion(outputs,labels)\n",
    "        loss.backward()\n",
    "        optimizer.step()\n",
    "        running_loss += loss.item() * images.size(0)\n",
    "    epoch_loss = running_loss / len(train_set)\n",
    "    print(f\"Epoch [{epoch+1}/{num_epochs}], Loss : {epoch_loss : .4f}\")"
   ]
  },
  {
   "cell_type": "code",
   "execution_count": null,
   "id": "57521d0e-39fb-4aac-8075-7575c4709cc1",
   "metadata": {},
   "outputs": [],
   "source": [
    "# Training the model\n",
    "num_epochs = 100\n",
    "for epoch in range(num_epochs):\n",
    "    model.train()  # Setting the model to the training mode\n",
    "    running_loss = 0.0\n",
    "    for images, labels in train_loader:\n",
    "        optimizer.zero_grad()\n",
    "        outputs = model(images)\n",
    "        loss = criterion(outputs, labels)\n",
    "        loss.backward()\n",
    "        optimizer.step()\n",
    "        running_loss += loss.item() * images.size(0)\n",
    "    epoch_loss = running_loss / len(train_set)\n",
    "    print(f\"Epoch [{epoch+1}/{num_epochs}], Loss: {epoch_loss:.4f}\")"
   ]
  },
  {
   "cell_type": "markdown",
   "id": "556c93f6-de8c-4402-b04d-430f52b78100",
   "metadata": {},
   "source": [
    "**running_loss += loss.item() * images.size(0)**:\n",
    "* **item()** - The item() method is used to extract the scalar value from a PyTorch tensor. Since loss is a PyTorch tensor representing the loss computed for a batch of data, loss.item() retrieves the loss value as a Python scalar.\n",
    "  \n",
    "* **images.size(0)**: This retrieves the size of the first dimension of the images tensor, which corresponds to the batch size. In PyTorch, size(dim) returns the size of the tensor along the specified dimension. Here, images.size(0) returns the batch size."
   ]
  },
  {
   "cell_type": "code",
   "execution_count": null,
   "id": "0a69348c-e998-4291-ad52-78fce80e5ed8",
   "metadata": {},
   "outputs": [],
   "source": [
    "#Evaluating the model on the testing set\n",
    "model.eval() #Setting the model to the evaluation mode\n",
    "all_preds = []\n",
    "all_labels = []\n",
    "with torch.no_grad():\n",
    "    for images,labels in val_loader:\n",
    "        outputs = model(images)\n",
    "        _ , preds = torch.max(outputs,1)\n",
    "        all_preds.extend(preds.tolist())\n",
    "        all_labels.extend(labels.tolist())"
   ]
  },
  {
   "cell_type": "markdown",
   "id": "eec6036f-669f-4998-9ac2-9d95f2cf446b",
   "metadata": {},
   "source": [
    "* The **torch.max()** method is used to compute the maximum value along a specified dimension of a tensor. When called with a single tensor argument, torch.max() returns a tuple containing two tensors:\n",
    "\n",
    "1. The first tensor contains the maximum values along the specified dimension\n",
    "2. The second tensor contains the indices where the maximum values occur along the specified dimension.\n",
    "\n",
    "* In the code snippet _, preds = torch.max(outputs, 1), the torch.max() method is used to find the predicted class labels for each sample in a batch. \n",
    "\n",
    "Here's what each part of the code do* s:\n",
    "* outputs: This is the output tensor produced by the neural network model for a batch of input data. It typically has a shape of (batch_size, num_classes), where batch_size is the number of samples in the batch, and num_classes is the number of output clas* ses.\n",
    "\n",
    "* torch.max(outputs, 1): This computes the maximum value along dimension 1 of the outputs tensor, which corresponds to the class dimension. The resulting tuple contains two tensors. The first tensor contains the maximum values along dimension 1. These values are not needed in this context, so we use _ to dis ard them. The second tensor contains the indices of the maximum values along dimension 1, which represent the predicted class labels.\n",
    "\n",
    "* preds: This tensor contains the predicted class labels for each sample in the batch, where each element represents the index of the predicted class for the correspondi* ng sample.\n",
    "\n",
    "* So, torch.max(outputs, 1) helps in extracting the predicted class labels from the output of the neural network model. These predicted labels (preds) can then be compared with the true labels to evaluate the performance of the model."
   ]
  },
  {
   "cell_type": "markdown",
   "id": "c2841305-2f91-41ef-8fa9-b2def7d98a82",
   "metadata": {},
   "source": [
    "* **extend()** appends all elements of the list returned by tolist() to the end of all_preds. This allows us to add the predicted class labels from the current batch to all_preds efficiently without nested lists."
   ]
  },
  {
   "cell_type": "code",
   "execution_count": null,
   "id": "cf6d5c74-d7f1-43b5-adb3-74d648d7252d",
   "metadata": {},
   "outputs": [],
   "source": [
    "#Calculating the model accuracy\n",
    "accuracy = accuracy_score(all_labels,all_preds)\n",
    "print(f\"Validation Accuracy: {accuracy:.4f}\")"
   ]
  },
  {
   "cell_type": "code",
   "execution_count": null,
   "id": "4b0d5bda-458f-4c2c-b1ae-f9088fec93cf",
   "metadata": {},
   "outputs": [],
   "source": []
  }
 ],
 "metadata": {
  "kernelspec": {
   "display_name": "Python 3 (ipykernel)",
   "language": "python",
   "name": "python3"
  },
  "language_info": {
   "codemirror_mode": {
    "name": "ipython",
    "version": 3
   },
   "file_extension": ".py",
   "mimetype": "text/x-python",
   "name": "python",
   "nbconvert_exporter": "python",
   "pygments_lexer": "ipython3",
   "version": "3.9.18"
  }
 },
 "nbformat": 4,
 "nbformat_minor": 5
}
