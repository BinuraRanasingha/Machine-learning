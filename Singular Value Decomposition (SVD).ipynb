{
 "cells": [
  {
   "cell_type": "code",
   "execution_count": 1,
   "id": "e6455bd0-a7ec-4efb-b2b7-8dfd03eb3aab",
   "metadata": {},
   "outputs": [],
   "source": [
    "import pandas as pd\n",
    "import numpy as np\n",
    "import matplotlib.pyplot as plt"
   ]
  },
  {
   "cell_type": "code",
   "execution_count": 2,
   "id": "62375e28-6546-42b7-b587-e8a3cf437193",
   "metadata": {},
   "outputs": [
    {
     "data": {
      "text/html": [
       "<div>\n",
       "<style scoped>\n",
       "    .dataframe tbody tr th:only-of-type {\n",
       "        vertical-align: middle;\n",
       "    }\n",
       "\n",
       "    .dataframe tbody tr th {\n",
       "        vertical-align: top;\n",
       "    }\n",
       "\n",
       "    .dataframe thead th {\n",
       "        text-align: right;\n",
       "    }\n",
       "</style>\n",
       "<table border=\"1\" class=\"dataframe\">\n",
       "  <thead>\n",
       "    <tr style=\"text-align: right;\">\n",
       "      <th></th>\n",
       "      <th>post1</th>\n",
       "      <th>post2</th>\n",
       "      <th>post3</th>\n",
       "      <th>post4</th>\n",
       "    </tr>\n",
       "    <tr>\n",
       "      <th>word</th>\n",
       "      <th></th>\n",
       "      <th></th>\n",
       "      <th></th>\n",
       "      <th></th>\n",
       "    </tr>\n",
       "  </thead>\n",
       "  <tbody>\n",
       "    <tr>\n",
       "      <th>ice</th>\n",
       "      <td>4</td>\n",
       "      <td>4</td>\n",
       "      <td>6</td>\n",
       "      <td>3</td>\n",
       "    </tr>\n",
       "    <tr>\n",
       "      <th>snow</th>\n",
       "      <td>6</td>\n",
       "      <td>1</td>\n",
       "      <td>0</td>\n",
       "      <td>5</td>\n",
       "    </tr>\n",
       "    <tr>\n",
       "      <th>tahoe</th>\n",
       "      <td>3</td>\n",
       "      <td>0</td>\n",
       "      <td>0</td>\n",
       "      <td>5</td>\n",
       "    </tr>\n",
       "    <tr>\n",
       "      <th>ghost</th>\n",
       "      <td>0</td>\n",
       "      <td>6</td>\n",
       "      <td>5</td>\n",
       "      <td>1</td>\n",
       "    </tr>\n",
       "    <tr>\n",
       "      <th>puck</th>\n",
       "      <td>0</td>\n",
       "      <td>4</td>\n",
       "      <td>5</td>\n",
       "      <td>0</td>\n",
       "    </tr>\n",
       "  </tbody>\n",
       "</table>\n",
       "</div>"
      ],
      "text/plain": [
       "       post1  post2  post3  post4\n",
       "word                             \n",
       "ice        4      4      6      3\n",
       "snow       6      1      0      5\n",
       "tahoe      3      0      0      5\n",
       "ghost      0      6      5      1\n",
       "puck       0      4      5      0"
      ]
     },
     "execution_count": 2,
     "metadata": {},
     "output_type": "execute_result"
    }
   ],
   "source": [
    "c_names = ['post1','post2','post3','post4']\n",
    "words = ['ice','snow','tahoe','ghost','puck']\n",
    "post_words = pd.DataFrame([[4,4,6,3],\n",
    "                          [6,1,0,5],\n",
    "                          [3,0,0,5],\n",
    "                          [0,6,5,1],\n",
    "                          [0,4,5,0]], index=words, columns=c_names)\n",
    "post_words.index.names = ['word']\n",
    "post_words"
   ]
  },
  {
   "cell_type": "code",
   "execution_count": 3,
   "id": "efaaeb4e-52b9-461a-8bf9-88fe3c5e2ebc",
   "metadata": {},
   "outputs": [
    {
     "name": "stdout",
     "output_type": "stream",
     "text": [
      "[[-0.4  -0.55 -0.61 -0.4 ]\n",
      " [-0.58  0.37  0.44 -0.58]\n",
      " [ 0.56 -0.46  0.41 -0.55]\n",
      " [-0.42 -0.59  0.52  0.45]]\n"
     ]
    }
   ],
   "source": [
    "u, sigma, v = np.linalg.svd(post_words)\n",
    "print(np.round(v,decimals=2))"
   ]
  },
  {
   "cell_type": "code",
   "execution_count": 4,
   "id": "3ae3ae7f-a25c-423f-bbdc-b655a668e532",
   "metadata": {},
   "outputs": [
    {
     "data": {
      "text/plain": [
       "array([13.55940373,  9.25515187,  2.06889804,  1.48472053])"
      ]
     },
     "execution_count": 4,
     "metadata": {},
     "output_type": "execute_result"
    }
   ],
   "source": [
    "sigma"
   ]
  },
  {
   "cell_type": "code",
   "execution_count": 5,
   "id": "3699b01c-ce3a-489d-9547-315b522d4c9f",
   "metadata": {},
   "outputs": [
    {
     "name": "stdout",
     "output_type": "stream",
     "text": [
      "          post1     post2     post3     post4\n",
      "ice    3.501303  4.788264  5.303188  3.479141\n",
      "snow   5.534524  0.532173  0.412075  5.484183\n",
      "tahoe  4.012803  0.069590 -0.059468  3.975616\n",
      "ghost  0.507972  5.117862  5.779698  0.514380\n",
      "puck  -0.008175  4.232570  4.794681  0.001110\n"
     ]
    }
   ],
   "source": [
    "A_approx = np.matrix(u[:, :2]) * np.diag(sigma[:2]) * np.matrix(v[:2,:])\n",
    "print(pd.DataFrame(A_approx, index=words, columns=c_names))"
   ]
  },
  {
   "cell_type": "code",
   "execution_count": 6,
   "id": "98b7d407-ffc8-43ec-86a3-86476a3125b5",
   "metadata": {},
   "outputs": [
    {
     "name": "stdout",
     "output_type": "stream",
     "text": [
      "          post1     post2     post3     post4\n",
      "word                                         \n",
      "ice    0.498697 -0.788264  0.696812 -0.479141\n",
      "snow   0.465476  0.467827 -0.412075 -0.484183\n",
      "tahoe -1.012803 -0.069590  0.059468  1.024384\n",
      "ghost -0.507972  0.882138 -0.779698  0.485620\n",
      "puck   0.008175 -0.232570  0.205319 -0.001110\n"
     ]
    }
   ],
   "source": [
    "print(post_words - A_approx)"
   ]
  },
  {
   "cell_type": "code",
   "execution_count": 7,
   "id": "fce30207-7017-44f6-9f71-963b482e8490",
   "metadata": {},
   "outputs": [
    {
     "data": {
      "text/plain": [
       "<matplotlib.colorbar.Colorbar at 0x1aff7559ee0>"
      ]
     },
     "execution_count": 7,
     "metadata": {},
     "output_type": "execute_result"
    },
    {
     "data": {
      "image/png": "[encoded data removed]",
      "text/plain": [
       "<Figure size 640x480 with 2 Axes>"
      ]
     },
     "metadata": {},
     "output_type": "display_data"
    }
   ],
   "source": [
    "plt.imshow(v, interpolation='none')\n",
    "plt.xticks(range(len(c_names)))\n",
    "plt.yticks(range(len(words)))\n",
    "plt.ylim([len(words) - 1.5, -.5])\n",
    "ax = plt.gca()\n",
    "ax.set_xticklabels(c_names)\n",
    "ax.set_yticklabels(range(1,len(words) + 1))\n",
    "plt.title(\"SVD\")\n",
    "plt.colorbar()"
   ]
  },
  {
   "cell_type": "code",
   "execution_count": 8,
   "id": "74f9d37b-e6d9-438b-84f7-5abc6e7eb57f",
   "metadata": {},
   "outputs": [
    {
     "data": {
      "text/html": [
       "<div>\n",
       "<style scoped>\n",
       "    .dataframe tbody tr th:only-of-type {\n",
       "        vertical-align: middle;\n",
       "    }\n",
       "\n",
       "    .dataframe tbody tr th {\n",
       "        vertical-align: top;\n",
       "    }\n",
       "\n",
       "    .dataframe thead th {\n",
       "        text-align: right;\n",
       "    }\n",
       "</style>\n",
       "<table border=\"1\" class=\"dataframe\">\n",
       "  <thead>\n",
       "    <tr style=\"text-align: right;\">\n",
       "      <th></th>\n",
       "      <th>0</th>\n",
       "    </tr>\n",
       "  </thead>\n",
       "  <tbody>\n",
       "    <tr>\n",
       "      <th>ice</th>\n",
       "      <td>0.001447</td>\n",
       "    </tr>\n",
       "    <tr>\n",
       "      <th>snow</th>\n",
       "      <td>-0.651258</td>\n",
       "    </tr>\n",
       "    <tr>\n",
       "      <th>tahoe</th>\n",
       "      <td>-0.501568</td>\n",
       "    </tr>\n",
       "    <tr>\n",
       "      <th>ghost</th>\n",
       "      <td>0.411023</td>\n",
       "    </tr>\n",
       "    <tr>\n",
       "      <th>puck</th>\n",
       "      <td>0.394145</td>\n",
       "    </tr>\n",
       "  </tbody>\n",
       "</table>\n",
       "</div>"
      ],
      "text/plain": [
       "              0\n",
       "ice    0.001447\n",
       "snow  -0.651258\n",
       "tahoe -0.501568\n",
       "ghost  0.411023\n",
       "puck   0.394145"
      ]
     },
     "execution_count": 8,
     "metadata": {},
     "output_type": "execute_result"
    }
   ],
   "source": [
    "pd.DataFrame(u[:,1],index=words)"
   ]
  },
  {
   "cell_type": "code",
   "execution_count": null,
   "id": "96c8aed7-4939-4653-9dfc-57c1894bf4b5",
   "metadata": {},
   "outputs": [],
   "source": []
  }
 ],
 "metadata": {
  "kernelspec": {
   "display_name": "Python 3 (ipykernel)",
   "language": "python",
   "name": "python3"
  },
  "language_info": {
   "codemirror_mode": {
    "name": "ipython",
    "version": 3
   },
   "file_extension": ".py",
   "mimetype": "text/x-python",
   "name": "python",
   "nbconvert_exporter": "python",
   "pygments_lexer": "ipython3",
   "version": "3.9.18"
  }
 },
 "nbformat": 4,
 "nbformat_minor": 5
}
