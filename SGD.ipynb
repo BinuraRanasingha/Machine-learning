{
 "cells": [
  {
   "cell_type": "code",
   "execution_count": 1,
   "id": "013993f5-3abb-4772-b001-f71280fe3441",
   "metadata": {},
   "outputs": [
    {
     "name": "stderr",
     "output_type": "stream",
     "text": [
      "C:\\Users\\User\\AppData\\Local\\Temp\\ipykernel_14864\\1698884579.py:2: DeprecationWarning: \n",
      "Pyarrow will become a required dependency of pandas in the next major release of pandas (pandas 3.0),\n",
      "(to allow more performant data types, such as the Arrow string type, and better interoperability with other libraries)\n",
      "but was not found to be installed on your system.\n",
      "If this would cause problems for you,\n",
      "please provide us feedback at https://github.com/pandas-dev/pandas/issues/54466\n",
      "        \n",
      "  import pandas as pd\n"
     ]
    }
   ],
   "source": [
    "import numpy as np\n",
    "import pandas as pd\n",
    "import matplotlib.pyplot as plt\n",
    "import seaborn as sns\n",
    "from sklearn.datasets import load_breast_cancer\n",
    "from sklearn.model_selection import train_test_split"
   ]
  },
  {
   "cell_type": "code",
   "execution_count": 2,
   "id": "8f7930e7-e7bc-4332-bfe1-c1d036b36ab0",
   "metadata": {},
   "outputs": [],
   "source": [
    "bc = load_breast_cancer()\n",
    "x = bc.data\n",
    "y = bc.target"
   ]
  },
  {
   "cell_type": "code",
   "execution_count": 3,
   "id": "a9334367-04da-4225-9f05-88e5a3ed06b8",
   "metadata": {},
   "outputs": [],
   "source": [
    "x_train, x_test, y_train, y_test = train_test_split(x, y, test_size=0.3, random_state=42, stratify=y)"
   ]
  },
  {
   "cell_type": "markdown",
   "id": "7ba234fc-1750-494a-8295-88b31a08732f",
   "metadata": {},
   "source": [
    "* **stratify** parameter in train_test_split is used to ensure that the proportion of classes in the split datasets (training and testing sets) is the same as the original dataset. This is particularly useful in cases where the target variable y is imbalanced, meaning that certain classes occur more frequently than others. The stratify parameter helps maintain the same distribution of classes in both the training and testing sets, reducing the risk of skewed datasets and improving the reliability of model evaluation."
   ]
  },
  {
   "cell_type": "code",
   "execution_count": 4,
   "id": "24752b78-b5f8-4438-a584-aa6f2c4bcf18",
   "metadata": {},
   "outputs": [],
   "source": [
    "class CustomPerceptron(object):\n",
    "    def __init__(self,n_iterations=100,random_state=1,learning_rate=0.01):\n",
    "        self.n_iterations = n_iterations\n",
    "        self.random_state = random_state\n",
    "        self.learning_rate = learning_rate\n",
    "\n",
    "    def fit(self,x,y):\n",
    "        regn = np.random.RandomState(self.random_state)\n",
    "        self.coef_ = regn.normal(loc=0.0, scale=0.01, size=1+x.shape[1])\n",
    "        for _ in range(self.n_iterations):\n",
    "            for xi, expected_value in zip(x,y):\n",
    "                predicted_value = self.predict(xi)\n",
    "                self.coef_[1:] += self.learning_rate * (expected_value - predicted_value) * xi\n",
    "                self.coef_[0] += self.learning_rate * (expected_value - predicted_value) * 1\n",
    "\n",
    "    def activation(self,x):\n",
    "            return np.dot(x,self.coef_[1:] + self.coef_[0])\n",
    "\n",
    "    def predict(self,x):\n",
    "        output = self.activation(x)\n",
    "        return np.where(output >= 0.0,1,0)\n",
    "\n",
    "    def score(self,x,y):\n",
    "        misclassified_data_count = 0\n",
    "        for xi, target in zip(x,y):\n",
    "            output = self.predict(xi)\n",
    "            if (target != output):\n",
    "                misclassified_data_count += 1\n",
    "        total_data_count = len(x)\n",
    "        self.score_ = (total_data_count - misclassified_data_count) / total_data_count\n",
    "        return self.score_\n",
    "            "
   ]
  },
  {
   "cell_type": "code",
   "execution_count": 5,
   "id": "e90e5746-d4ff-4c31-99e7-cb656d70550e",
   "metadata": {},
   "outputs": [],
   "source": [
    "n_iterations=100\n",
    "learning_rate=0.01"
   ]
  },
  {
   "cell_type": "code",
   "execution_count": 6,
   "id": "271fd124-2cbe-4963-84fd-61fbb34e82ac",
   "metadata": {},
   "outputs": [],
   "source": [
    "per = CustomPerceptron()\n",
    "per.fit(x_train,y_train)"
   ]
  },
  {
   "cell_type": "code",
   "execution_count": 8,
   "id": "bdd84075-924e-4424-8153-b79a53e904c9",
   "metadata": {},
   "outputs": [
    {
     "name": "stdout",
     "output_type": "stream",
     "text": [
      "0.8947368421052632\n",
      "0.914572864321608\n"
     ]
    }
   ],
   "source": [
    "print(per.score(x_test,y_test))\n",
    "print(per.score(x_train,y_train))"
   ]
  },
  {
   "cell_type": "code",
   "execution_count": null,
   "id": "33b09d69-4943-4767-9226-8f72bd579b35",
   "metadata": {},
   "outputs": [],
   "source": []
  },
  {
   "cell_type": "code",
   "execution_count": null,
   "id": "ec82e809-6c79-4e0b-8d8d-2e780a7f9307",
   "metadata": {},
   "outputs": [],
   "source": []
  }
 ],
 "metadata": {
  "kernelspec": {
   "display_name": "Python 3 (ipykernel)",
   "language": "python",
   "name": "python3"
  },
  "language_info": {
   "codemirror_mode": {
    "name": "ipython",
    "version": 3
   },
   "file_extension": ".py",
   "mimetype": "text/x-python",
   "name": "python",
   "nbconvert_exporter": "python",
   "pygments_lexer": "ipython3",
   "version": "3.9.18"
  }
 },
 "nbformat": 4,
 "nbformat_minor": 5
}
