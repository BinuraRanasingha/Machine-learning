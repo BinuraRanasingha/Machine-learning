{
 "cells": [
  {
   "cell_type": "code",
   "execution_count": 1,
   "id": "5c1f49bb-af59-4941-a915-8625a5615fdb",
   "metadata": {},
   "outputs": [],
   "source": [
    "import numpy as np"
   ]
  },
  {
   "cell_type": "code",
   "execution_count": 2,
   "id": "ffc74bb3-f7cd-4c7b-ada6-b3cf831a87c7",
   "metadata": {},
   "outputs": [],
   "source": [
    "def matrix_factorization(R,P,Q,K, steps=5000, alpha=0.0002, beta=0.02):\n",
    "    Q = Q.T\n",
    "    for step in range(steps):\n",
    "        for i in range(len(R)):\n",
    "            for j in range(len(R[i])):\n",
    "                if R[i][j]:\n",
    "                    eij = R[i][j] - np.dot(P[i,:],Q[:,j])\n",
    "                    for k in range(K):\n",
    "                        P[i][k] = P[i][k] + alpha * (2 * eij * Q[k][j] - beta * P[i][k])\n",
    "                        Q[k][j] = Q[k][j] + alpha * (2 * eij * P[i][k] - beta * Q[k][j])\n",
    "        eR = np.dot(P,Q)\n",
    "        e = 0\n",
    "        for i in range(len(R)):\n",
    "            for j in range(len(R[i])):\n",
    "                if R[i][j] > 0:\n",
    "                    e = e + pow(R[i][j] - np.dot(P[i,:], Q[:,j]), 2)\n",
    "                    for k in range(K):\n",
    "                        e = e + (beta/2) * (pow(P[i][k],2) + pow(Q[k][j],2))\n",
    "\n",
    "        if e < 0.001:\n",
    "            break;\n",
    "    return P,Q.T"
   ]
  },
  {
   "cell_type": "code",
   "execution_count": 3,
   "id": "ec35501e-152f-4b12-b56d-7771314e19ab",
   "metadata": {},
   "outputs": [],
   "source": [
    "R = [\n",
    "    [5,3,0,1],\n",
    "    [4,0,0,1],\n",
    "    [1,1,0,5],\n",
    "    [1,0,0,4],\n",
    "    [0,1,5,4]\n",
    "]\n",
    "\n",
    "R = np.array(R)\n",
    "N = len(R)\n",
    "M = len(R[0])\n",
    "k = 2\n",
    "\n",
    "P = np.random.rand(N,k)\n",
    "Q = np.random.rand(M,k)\n",
    "\n",
    "nP, nQ = matrix_factorization(R,P,Q,k)\n",
    "nR = np.dot(nP, nQ.T)"
   ]
  },
  {
   "cell_type": "code",
   "execution_count": 4,
   "id": "23d0d571-c557-42b2-8a70-25599dec97ee",
   "metadata": {},
   "outputs": [
    {
     "data": {
      "text/plain": [
       "array([[4.98942819, 2.9542074 , 3.83692937, 0.99777182],\n",
       "       [3.96892825, 2.36050613, 3.25469725, 0.99832475],\n",
       "       [1.05552717, 0.86935675, 5.51248364, 4.96024694],\n",
       "       [0.97156165, 0.76974588, 4.48817351, 3.97383549],\n",
       "       [1.63400123, 1.15820996, 4.92523508, 4.03320101]])"
      ]
     },
     "execution_count": 4,
     "metadata": {},
     "output_type": "execute_result"
    }
   ],
   "source": [
    "nR"
   ]
  },
  {
   "cell_type": "code",
   "execution_count": null,
   "id": "b967732a-5e0c-4606-a04a-2a8a934ec6a1",
   "metadata": {},
   "outputs": [],
   "source": []
  }
 ],
 "metadata": {
  "kernelspec": {
   "display_name": "Python 3 (ipykernel)",
   "language": "python",
   "name": "python3"
  },
  "language_info": {
   "codemirror_mode": {
    "name": "ipython",
    "version": 3
   },
   "file_extension": ".py",
   "mimetype": "text/x-python",
   "name": "python",
   "nbconvert_exporter": "python",
   "pygments_lexer": "ipython3",
   "version": "3.9.18"
  }
 },
 "nbformat": 4,
 "nbformat_minor": 5
}
