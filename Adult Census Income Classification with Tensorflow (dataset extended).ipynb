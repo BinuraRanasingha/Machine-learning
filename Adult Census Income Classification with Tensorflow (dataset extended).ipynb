{
 "cells": [
  {
   "cell_type": "code",
   "execution_count": 1,
   "id": "e75dd5fb-39c6-4aad-a71a-14b833247b74",
   "metadata": {},
   "outputs": [],
   "source": [
    "import tensorflow as tf\n",
    "import pandas as pd\n",
    "from imblearn.over_sampling import SMOTE"
   ]
  },
  {
   "cell_type": "code",
   "execution_count": 2,
   "id": "7af49dcc-571f-4806-97be-d0fcc43685f6",
   "metadata": {},
   "outputs": [],
   "source": [
    "PATH = \"https://archive.ics.uci.edu/ml/machine-learning-databases/adult/adult.data\"\n",
    "PATH_test = \"https://archive.ics.uci.edu/ml/machine-learning-databases/adult/adult.test\"\n",
    "COLUMNS = ['age', 'workclass', 'fnlwgt', 'education', 'education_num', 'marital', 'occupation', 'relationship', 'race', 'sex', 'capital_gain', \n",
    "           'capital_loss', 'hours_week', 'native_country', 'label']"
   ]
  },
  {
   "cell_type": "code",
   "execution_count": 3,
   "id": "cb6b15b5-faad-47df-98d1-d84b031b95b7",
   "metadata": {},
   "outputs": [],
   "source": [
    "df_train = pd.read_csv(PATH, skipinitialspace=True, names=COLUMNS, index_col=False)\n",
    "df_test = pd.read_csv(PATH_test, skipinitialspace=True, names=COLUMNS, index_col=False, skiprows=1)"
   ]
  },
  {
   "cell_type": "code",
   "execution_count": null,
   "id": "79a49c19-05f6-4758-9eb7-6725b4b31622",
   "metadata": {},
   "outputs": [],
   "source": [
    "# Apply SMOTE to the training set\n",
    "smote = SMOTE(random_state=42)\n",
    "X_train_res, y_train_res = smote.fit_resample(X_train, y_train)"
   ]
  },
  {
   "cell_type": "code",
   "execution_count": 4,
   "id": "ebe169d4-eaef-42a9-aa1a-ecd2b43d9cd4",
   "metadata": {},
   "outputs": [
    {
     "data": {
      "text/html": [
       "<div>\n",
       "<style scoped>\n",
       "    .dataframe tbody tr th:only-of-type {\n",
       "        vertical-align: middle;\n",
       "    }\n",
       "\n",
       "    .dataframe tbody tr th {\n",
       "        vertical-align: top;\n",
       "    }\n",
       "\n",
       "    .dataframe thead th {\n",
       "        text-align: right;\n",
       "    }\n",
       "</style>\n",
       "<table border=\"1\" class=\"dataframe\">\n",
       "  <thead>\n",
       "    <tr style=\"text-align: right;\">\n",
       "      <th></th>\n",
       "      <th>age</th>\n",
       "      <th>workclass</th>\n",
       "      <th>fnlwgt</th>\n",
       "      <th>education</th>\n",
       "      <th>education_num</th>\n",
       "      <th>marital</th>\n",
       "      <th>occupation</th>\n",
       "      <th>relationship</th>\n",
       "      <th>race</th>\n",
       "      <th>sex</th>\n",
       "      <th>capital_gain</th>\n",
       "      <th>capital_loss</th>\n",
       "      <th>hours_week</th>\n",
       "      <th>native_country</th>\n",
       "      <th>label</th>\n",
       "    </tr>\n",
       "  </thead>\n",
       "  <tbody>\n",
       "    <tr>\n",
       "      <th>0</th>\n",
       "      <td>39</td>\n",
       "      <td>State-gov</td>\n",
       "      <td>77516</td>\n",
       "      <td>Bachelors</td>\n",
       "      <td>13</td>\n",
       "      <td>Never-married</td>\n",
       "      <td>Adm-clerical</td>\n",
       "      <td>Not-in-family</td>\n",
       "      <td>White</td>\n",
       "      <td>Male</td>\n",
       "      <td>2174</td>\n",
       "      <td>0</td>\n",
       "      <td>40</td>\n",
       "      <td>United-States</td>\n",
       "      <td>&lt;=50K</td>\n",
       "    </tr>\n",
       "    <tr>\n",
       "      <th>1</th>\n",
       "      <td>50</td>\n",
       "      <td>Self-emp-not-inc</td>\n",
       "      <td>83311</td>\n",
       "      <td>Bachelors</td>\n",
       "      <td>13</td>\n",
       "      <td>Married-civ-spouse</td>\n",
       "      <td>Exec-managerial</td>\n",
       "      <td>Husband</td>\n",
       "      <td>White</td>\n",
       "      <td>Male</td>\n",
       "      <td>0</td>\n",
       "      <td>0</td>\n",
       "      <td>13</td>\n",
       "      <td>United-States</td>\n",
       "      <td>&lt;=50K</td>\n",
       "    </tr>\n",
       "    <tr>\n",
       "      <th>2</th>\n",
       "      <td>38</td>\n",
       "      <td>Private</td>\n",
       "      <td>215646</td>\n",
       "      <td>HS-grad</td>\n",
       "      <td>9</td>\n",
       "      <td>Divorced</td>\n",
       "      <td>Handlers-cleaners</td>\n",
       "      <td>Not-in-family</td>\n",
       "      <td>White</td>\n",
       "      <td>Male</td>\n",
       "      <td>0</td>\n",
       "      <td>0</td>\n",
       "      <td>40</td>\n",
       "      <td>United-States</td>\n",
       "      <td>&lt;=50K</td>\n",
       "    </tr>\n",
       "    <tr>\n",
       "      <th>3</th>\n",
       "      <td>53</td>\n",
       "      <td>Private</td>\n",
       "      <td>234721</td>\n",
       "      <td>11th</td>\n",
       "      <td>7</td>\n",
       "      <td>Married-civ-spouse</td>\n",
       "      <td>Handlers-cleaners</td>\n",
       "      <td>Husband</td>\n",
       "      <td>Black</td>\n",
       "      <td>Male</td>\n",
       "      <td>0</td>\n",
       "      <td>0</td>\n",
       "      <td>40</td>\n",
       "      <td>United-States</td>\n",
       "      <td>&lt;=50K</td>\n",
       "    </tr>\n",
       "    <tr>\n",
       "      <th>4</th>\n",
       "      <td>28</td>\n",
       "      <td>Private</td>\n",
       "      <td>338409</td>\n",
       "      <td>Bachelors</td>\n",
       "      <td>13</td>\n",
       "      <td>Married-civ-spouse</td>\n",
       "      <td>Prof-specialty</td>\n",
       "      <td>Wife</td>\n",
       "      <td>Black</td>\n",
       "      <td>Female</td>\n",
       "      <td>0</td>\n",
       "      <td>0</td>\n",
       "      <td>40</td>\n",
       "      <td>Cuba</td>\n",
       "      <td>&lt;=50K</td>\n",
       "    </tr>\n",
       "  </tbody>\n",
       "</table>\n",
       "</div>"
      ],
      "text/plain": [
       "   age         workclass  fnlwgt  education  education_num  \\\n",
       "0   39         State-gov   77516  Bachelors             13   \n",
       "1   50  Self-emp-not-inc   83311  Bachelors             13   \n",
       "2   38           Private  215646    HS-grad              9   \n",
       "3   53           Private  234721       11th              7   \n",
       "4   28           Private  338409  Bachelors             13   \n",
       "\n",
       "              marital         occupation   relationship   race     sex  \\\n",
       "0       Never-married       Adm-clerical  Not-in-family  White    Male   \n",
       "1  Married-civ-spouse    Exec-managerial        Husband  White    Male   \n",
       "2            Divorced  Handlers-cleaners  Not-in-family  White    Male   \n",
       "3  Married-civ-spouse  Handlers-cleaners        Husband  Black    Male   \n",
       "4  Married-civ-spouse     Prof-specialty           Wife  Black  Female   \n",
       "\n",
       "   capital_gain  capital_loss  hours_week native_country  label  \n",
       "0          2174             0          40  United-States  <=50K  \n",
       "1             0             0          13  United-States  <=50K  \n",
       "2             0             0          40  United-States  <=50K  \n",
       "3             0             0          40  United-States  <=50K  \n",
       "4             0             0          40           Cuba  <=50K  "
      ]
     },
     "execution_count": 4,
     "metadata": {},
     "output_type": "execute_result"
    }
   ],
   "source": [
    "df_train.head()"
   ]
  },
  {
   "cell_type": "code",
   "execution_count": 5,
   "id": "d99ba252-6da8-41ee-9840-a4d667773894",
   "metadata": {},
   "outputs": [
    {
     "data": {
      "text/html": [
       "<div>\n",
       "<style scoped>\n",
       "    .dataframe tbody tr th:only-of-type {\n",
       "        vertical-align: middle;\n",
       "    }\n",
       "\n",
       "    .dataframe tbody tr th {\n",
       "        vertical-align: top;\n",
       "    }\n",
       "\n",
       "    .dataframe thead th {\n",
       "        text-align: right;\n",
       "    }\n",
       "</style>\n",
       "<table border=\"1\" class=\"dataframe\">\n",
       "  <thead>\n",
       "    <tr style=\"text-align: right;\">\n",
       "      <th></th>\n",
       "      <th>age</th>\n",
       "      <th>workclass</th>\n",
       "      <th>fnlwgt</th>\n",
       "      <th>education</th>\n",
       "      <th>education_num</th>\n",
       "      <th>marital</th>\n",
       "      <th>occupation</th>\n",
       "      <th>relationship</th>\n",
       "      <th>race</th>\n",
       "      <th>sex</th>\n",
       "      <th>capital_gain</th>\n",
       "      <th>capital_loss</th>\n",
       "      <th>hours_week</th>\n",
       "      <th>native_country</th>\n",
       "      <th>label</th>\n",
       "    </tr>\n",
       "  </thead>\n",
       "  <tbody>\n",
       "    <tr>\n",
       "      <th>0</th>\n",
       "      <td>25</td>\n",
       "      <td>Private</td>\n",
       "      <td>226802</td>\n",
       "      <td>11th</td>\n",
       "      <td>7</td>\n",
       "      <td>Never-married</td>\n",
       "      <td>Machine-op-inspct</td>\n",
       "      <td>Own-child</td>\n",
       "      <td>Black</td>\n",
       "      <td>Male</td>\n",
       "      <td>0</td>\n",
       "      <td>0</td>\n",
       "      <td>40</td>\n",
       "      <td>United-States</td>\n",
       "      <td>&lt;=50K.</td>\n",
       "    </tr>\n",
       "    <tr>\n",
       "      <th>1</th>\n",
       "      <td>38</td>\n",
       "      <td>Private</td>\n",
       "      <td>89814</td>\n",
       "      <td>HS-grad</td>\n",
       "      <td>9</td>\n",
       "      <td>Married-civ-spouse</td>\n",
       "      <td>Farming-fishing</td>\n",
       "      <td>Husband</td>\n",
       "      <td>White</td>\n",
       "      <td>Male</td>\n",
       "      <td>0</td>\n",
       "      <td>0</td>\n",
       "      <td>50</td>\n",
       "      <td>United-States</td>\n",
       "      <td>&lt;=50K.</td>\n",
       "    </tr>\n",
       "    <tr>\n",
       "      <th>2</th>\n",
       "      <td>28</td>\n",
       "      <td>Local-gov</td>\n",
       "      <td>336951</td>\n",
       "      <td>Assoc-acdm</td>\n",
       "      <td>12</td>\n",
       "      <td>Married-civ-spouse</td>\n",
       "      <td>Protective-serv</td>\n",
       "      <td>Husband</td>\n",
       "      <td>White</td>\n",
       "      <td>Male</td>\n",
       "      <td>0</td>\n",
       "      <td>0</td>\n",
       "      <td>40</td>\n",
       "      <td>United-States</td>\n",
       "      <td>&gt;50K.</td>\n",
       "    </tr>\n",
       "    <tr>\n",
       "      <th>3</th>\n",
       "      <td>44</td>\n",
       "      <td>Private</td>\n",
       "      <td>160323</td>\n",
       "      <td>Some-college</td>\n",
       "      <td>10</td>\n",
       "      <td>Married-civ-spouse</td>\n",
       "      <td>Machine-op-inspct</td>\n",
       "      <td>Husband</td>\n",
       "      <td>Black</td>\n",
       "      <td>Male</td>\n",
       "      <td>7688</td>\n",
       "      <td>0</td>\n",
       "      <td>40</td>\n",
       "      <td>United-States</td>\n",
       "      <td>&gt;50K.</td>\n",
       "    </tr>\n",
       "    <tr>\n",
       "      <th>4</th>\n",
       "      <td>18</td>\n",
       "      <td>?</td>\n",
       "      <td>103497</td>\n",
       "      <td>Some-college</td>\n",
       "      <td>10</td>\n",
       "      <td>Never-married</td>\n",
       "      <td>?</td>\n",
       "      <td>Own-child</td>\n",
       "      <td>White</td>\n",
       "      <td>Female</td>\n",
       "      <td>0</td>\n",
       "      <td>0</td>\n",
       "      <td>30</td>\n",
       "      <td>United-States</td>\n",
       "      <td>&lt;=50K.</td>\n",
       "    </tr>\n",
       "  </tbody>\n",
       "</table>\n",
       "</div>"
      ],
      "text/plain": [
       "   age  workclass  fnlwgt     education  education_num             marital  \\\n",
       "0   25    Private  226802          11th              7       Never-married   \n",
       "1   38    Private   89814       HS-grad              9  Married-civ-spouse   \n",
       "2   28  Local-gov  336951    Assoc-acdm             12  Married-civ-spouse   \n",
       "3   44    Private  160323  Some-college             10  Married-civ-spouse   \n",
       "4   18          ?  103497  Some-college             10       Never-married   \n",
       "\n",
       "          occupation relationship   race     sex  capital_gain  capital_loss  \\\n",
       "0  Machine-op-inspct    Own-child  Black    Male             0             0   \n",
       "1    Farming-fishing      Husband  White    Male             0             0   \n",
       "2    Protective-serv      Husband  White    Male             0             0   \n",
       "3  Machine-op-inspct      Husband  Black    Male          7688             0   \n",
       "4                  ?    Own-child  White  Female             0             0   \n",
       "\n",
       "   hours_week native_country   label  \n",
       "0          40  United-States  <=50K.  \n",
       "1          50  United-States  <=50K.  \n",
       "2          40  United-States   >50K.  \n",
       "3          40  United-States   >50K.  \n",
       "4          30  United-States  <=50K.  "
      ]
     },
     "execution_count": 5,
     "metadata": {},
     "output_type": "execute_result"
    }
   ],
   "source": [
    "df_test.head()"
   ]
  },
  {
   "cell_type": "code",
   "execution_count": 6,
   "id": "b598f51c-b6d1-41e6-86a7-42010557cb7b",
   "metadata": {},
   "outputs": [
    {
     "name": "stdout",
     "output_type": "stream",
     "text": [
      "(32561, 15) (16281, 15)\n"
     ]
    }
   ],
   "source": [
    "print(df_train.shape, df_test.shape)"
   ]
  },
  {
   "cell_type": "code",
   "execution_count": 7,
   "id": "730f7092-1ab0-48f6-97f2-772b2deff0dd",
   "metadata": {},
   "outputs": [
    {
     "name": "stdout",
     "output_type": "stream",
     "text": [
      "age                int64\n",
      "workclass         object\n",
      "fnlwgt             int64\n",
      "education         object\n",
      "education_num      int64\n",
      "marital           object\n",
      "occupation        object\n",
      "relationship      object\n",
      "race              object\n",
      "sex               object\n",
      "capital_gain       int64\n",
      "capital_loss       int64\n",
      "hours_week         int64\n",
      "native_country    object\n",
      "label             object\n",
      "dtype: object\n"
     ]
    }
   ],
   "source": [
    "print(df_train.dtypes)"
   ]
  },
  {
   "cell_type": "code",
   "execution_count": 8,
   "id": "e428fce8-7b3e-4300-b859-f718caeb2859",
   "metadata": {},
   "outputs": [],
   "source": [
    "label = {'<=50K' : 0, '>50K' : 1}\n",
    "df_train.label = [label[item] for item in df_train.label]\n",
    "label = {'<=50K.' : 0, '>50K.' : 1}\n",
    "df_test.label = [label[item] for item in df_test.label]"
   ]
  },
  {
   "cell_type": "code",
   "execution_count": 9,
   "id": "0f385a3d-92d9-4856-a72b-5da1ab994326",
   "metadata": {},
   "outputs": [
    {
     "name": "stdout",
     "output_type": "stream",
     "text": [
      "label\n",
      "0    24720\n",
      "1     7841\n",
      "Name: count, dtype: int64\n"
     ]
    }
   ],
   "source": [
    "print(df_train[\"label\"].value_counts())"
   ]
  },
  {
   "cell_type": "code",
   "execution_count": 10,
   "id": "1513e15d-979d-4458-936b-568cb24e635d",
   "metadata": {},
   "outputs": [
    {
     "name": "stdout",
     "output_type": "stream",
     "text": [
      "label\n",
      "0    12435\n",
      "1     3846\n",
      "Name: count, dtype: int64\n"
     ]
    }
   ],
   "source": [
    "print(df_test[\"label\"].value_counts())"
   ]
  },
  {
   "cell_type": "code",
   "execution_count": 11,
   "id": "59c62c40-9b42-44f6-a54b-29732c2c795b",
   "metadata": {},
   "outputs": [
    {
     "name": "stdout",
     "output_type": "stream",
     "text": [
      "age                int64\n",
      "workclass         object\n",
      "fnlwgt             int64\n",
      "education         object\n",
      "education_num      int64\n",
      "marital           object\n",
      "occupation        object\n",
      "relationship      object\n",
      "race              object\n",
      "sex               object\n",
      "capital_gain       int64\n",
      "capital_loss       int64\n",
      "hours_week         int64\n",
      "native_country    object\n",
      "label              int64\n",
      "dtype: object\n"
     ]
    }
   ],
   "source": [
    "print(df_train.dtypes)"
   ]
  },
  {
   "cell_type": "code",
   "execution_count": 12,
   "id": "e9836b26-22b3-41e6-b755-367f41295aef",
   "metadata": {},
   "outputs": [],
   "source": [
    "##Adding features to the bucket\n",
    "##Define the continous list\n",
    "CONTI_FEATURES = ['age', 'fnlwgt', 'capital_gain', 'education_num', 'capital_loss', 'hours_week']"
   ]
  },
  {
   "cell_type": "code",
   "execution_count": 13,
   "id": "335cfd19-d676-46b3-8340-27acb29c7587",
   "metadata": {},
   "outputs": [],
   "source": [
    "#Defining the categorical list\n",
    "CATE_FEATURES = ['workclass', 'education', 'marital', 'occupation', 'relationship', 'race', 'sex', 'native_country']"
   ]
  },
  {
   "cell_type": "code",
   "execution_count": 14,
   "id": "2fcca833-2b11-4dc5-8608-099bcedf4a50",
   "metadata": {},
   "outputs": [],
   "source": [
    "continous_features = [tf.feature_column.numeric_column(k) for k in CONTI_FEATURES]"
   ]
  },
  {
   "cell_type": "code",
   "execution_count": 15,
   "id": "5b785a7a-1a5b-4972-b9e3-45eb8e353723",
   "metadata": {},
   "outputs": [],
   "source": [
    "relationship = tf.feature_column.categorical_column_with_vocabulary_list('relationship' ,['Husband', 'Not-in-family', 'Wife', 'Own-child', 'Unmarried', 'Other-relative'])"
   ]
  },
  {
   "cell_type": "code",
   "execution_count": 16,
   "id": "fe28bbfc-70bc-4749-934a-4631f2135aad",
   "metadata": {},
   "outputs": [],
   "source": [
    "categorical_features = [tf.feature_column.categorical_column_with_hash_bucket(k, hash_bucket_size=1000) for k in CATE_FEATURES]"
   ]
  },
  {
   "cell_type": "code",
   "execution_count": 17,
   "id": "1d54ba6b-4c15-45b7-a359-437c3ba23881",
   "metadata": {},
   "outputs": [
    {
     "name": "stdout",
     "output_type": "stream",
     "text": [
      "INFO:tensorflow:Using default config.\n",
      "WARNING:tensorflow:Using temporary folder as model directory: C:\\Users\\User\\AppData\\Local\\Temp\\tmpuqnu56t5\n",
      "INFO:tensorflow:Using config: {'_model_dir': 'C:\\\\Users\\\\User\\\\AppData\\\\Local\\\\Temp\\\\tmpuqnu56t5', '_tf_random_seed': None, '_save_summary_steps': 100, '_save_checkpoints_steps': None, '_save_checkpoints_secs': 600, '_session_config': allow_soft_placement: true\n",
      "graph_options {\n",
      "  rewrite_options {\n",
      "    meta_optimizer_iterations: ONE\n",
      "  }\n",
      "}\n",
      ", '_keep_checkpoint_max': 5, '_keep_checkpoint_every_n_hours': 10000, '_log_step_count_steps': 100, '_train_distribute': None, '_device_fn': None, '_protocol': None, '_eval_distribute': None, '_experimental_distribute': None, '_experimental_max_worker_delay_secs': None, '_session_creation_timeout_secs': 7200, '_checkpoint_save_graph_def': True, '_service': None, '_cluster_spec': ClusterSpec({}), '_task_type': 'worker', '_task_id': 0, '_global_id_in_cluster': 0, '_master': '', '_evaluation_master': '', '_is_chief': True, '_num_ps_replicas': 0, '_num_worker_replicas': 1}\n"
     ]
    }
   ],
   "source": [
    "model = tf.estimator.LinearClassifier(n_classes=2, feature_columns=categorical_features+continous_features)"
   ]
  },
  {
   "cell_type": "code",
   "execution_count": 18,
   "id": "73214d6b-375b-4283-8883-edb7400b8730",
   "metadata": {},
   "outputs": [],
   "source": [
    "FEATURES = ['age', 'workclass', 'fnlwgt', 'education', 'education_num', 'marital', 'occupation', 'relationship', 'race', 'sex', 'capital_gain', \n",
    "            'capital_loss', 'hours_week', 'native_country']"
   ]
  },
  {
   "cell_type": "code",
   "execution_count": 19,
   "id": "f11eb28a-6764-456f-833e-42254d656459",
   "metadata": {},
   "outputs": [],
   "source": [
    "LABEL = 'label'"
   ]
  },
  {
   "cell_type": "code",
   "execution_count": 20,
   "id": "aac33b97-0801-4fa2-a0c9-26b1df468532",
   "metadata": {},
   "outputs": [],
   "source": [
    "def get_input_fn(data_set, num_epochs=None, n_batch=128, shuffle=True):\n",
    "    return tf.compat.v1.estimator.inputs.pandas_input_fn(\n",
    "        x = pd.DataFrame({k:data_set[k].values for k in FEATURES}),\n",
    "        y = pd.Series(data_set[LABEL].values),\n",
    "        batch_size = n_batch,\n",
    "        num_epochs = num_epochs,\n",
    "        shuffle=shuffle\n",
    "    )"
   ]
  },
  {
   "cell_type": "code",
   "execution_count": 21,
   "id": "30bbc4b0-2a31-467c-8543-3dc87dd40f43",
   "metadata": {},
   "outputs": [
    {
     "name": "stdout",
     "output_type": "stream",
     "text": [
      "WARNING:tensorflow:From C:\\Users\\User\\anaconda3\\envs\\Research\\lib\\site-packages\\tensorflow\\python\\util\\lazy_loader.py:59: The name tf.estimator.inputs is deprecated. Please use tf.compat.v1.estimator.inputs instead.\n",
      "\n",
      "WARNING:tensorflow:From C:\\Users\\User\\AppData\\Local\\Temp\\ipykernel_16684\\3408266147.py:2: The name tf.estimator.inputs.pandas_input_fn is deprecated. Please use tf.compat.v1.estimator.inputs.pandas_input_fn instead.\n",
      "\n",
      "WARNING:tensorflow:From C:\\Users\\User\\anaconda3\\envs\\Research\\lib\\site-packages\\tensorflow\\python\\training\\training_util.py:396: Variable.initialized_value (from tensorflow.python.ops.variables) is deprecated and will be removed in a future version.\n",
      "Instructions for updating:\n",
      "Use Variable.read_value. Variables in 2.X are initialized automatically both in eager and graph (inside tf.defun) contexts.\n",
      "WARNING:tensorflow:From C:\\Users\\User\\anaconda3\\envs\\Research\\lib\\site-packages\\tensorflow_estimator\\python\\estimator\\inputs\\queues\\feeding_queue_runner.py:60: QueueRunner.__init__ (from tensorflow.python.training.queue_runner_impl) is deprecated and will be removed in a future version.\n",
      "Instructions for updating:\n",
      "To construct input pipelines, use the `tf.data` module.\n",
      "WARNING:tensorflow:From C:\\Users\\User\\anaconda3\\envs\\Research\\lib\\site-packages\\tensorflow_estimator\\python\\estimator\\inputs\\queues\\feeding_functions.py:491: add_queue_runner (from tensorflow.python.training.queue_runner_impl) is deprecated and will be removed in a future version.\n",
      "Instructions for updating:\n",
      "To construct input pipelines, use the `tf.data` module.\n",
      "INFO:tensorflow:Calling model_fn.\n",
      "WARNING:tensorflow:From C:\\Users\\User\\anaconda3\\envs\\Research\\lib\\site-packages\\keras\\optimizers\\optimizer_v2\\ftrl.py:170: calling Constant.__init__ (from tensorflow.python.ops.init_ops) with dtype is deprecated and will be removed in a future version.\n",
      "Instructions for updating:\n",
      "Call initializer instance with the dtype argument instead of passing it to the constructor\n",
      "INFO:tensorflow:Done calling model_fn.\n",
      "INFO:tensorflow:Create CheckpointSaverHook.\n",
      "INFO:tensorflow:Graph was finalized.\n",
      "INFO:tensorflow:Running local_init_op.\n",
      "INFO:tensorflow:Done running local_init_op.\n",
      "WARNING:tensorflow:From C:\\Users\\User\\anaconda3\\envs\\Research\\lib\\site-packages\\tensorflow\\python\\training\\monitored_session.py:914: start_queue_runners (from tensorflow.python.training.queue_runner_impl) is deprecated and will be removed in a future version.\n",
      "Instructions for updating:\n",
      "To construct input pipelines, use the `tf.data` module.\n",
      "INFO:tensorflow:Calling checkpoint listeners before saving checkpoint 0...\n",
      "INFO:tensorflow:Saving checkpoints for 0 into C:\\Users\\User\\AppData\\Local\\Temp\\tmpuqnu56t5\\model.ckpt.\n",
      "INFO:tensorflow:Calling checkpoint listeners after saving checkpoint 0...\n",
      "INFO:tensorflow:loss = 0.6931472, step = 0\n",
      "INFO:tensorflow:global_step/sec: 98.0645\n",
      "INFO:tensorflow:loss = 596.4996, step = 100 (1.020 sec)\n",
      "INFO:tensorflow:global_step/sec: 125.397\n",
      "INFO:tensorflow:loss = 197.85593, step = 200 (0.797 sec)\n",
      "INFO:tensorflow:global_step/sec: 125.514\n",
      "INFO:tensorflow:loss = 795.6964, step = 300 (0.797 sec)\n",
      "INFO:tensorflow:global_step/sec: 122.749\n",
      "INFO:tensorflow:loss = 94.25151, step = 400 (0.815 sec)\n",
      "INFO:tensorflow:global_step/sec: 123.102\n",
      "INFO:tensorflow:loss = 156.37335, step = 500 (0.812 sec)\n",
      "INFO:tensorflow:global_step/sec: 115.291\n",
      "INFO:tensorflow:loss = 227.74718, step = 600 (0.867 sec)\n",
      "INFO:tensorflow:global_step/sec: 126.054\n",
      "INFO:tensorflow:loss = 225.88452, step = 700 (0.793 sec)\n",
      "INFO:tensorflow:global_step/sec: 125.246\n",
      "INFO:tensorflow:loss = 502.11652, step = 800 (0.798 sec)\n",
      "INFO:tensorflow:global_step/sec: 121.962\n",
      "INFO:tensorflow:loss = 209.03183, step = 900 (0.820 sec)\n",
      "INFO:tensorflow:Calling checkpoint listeners before saving checkpoint 1000...\n",
      "INFO:tensorflow:Saving checkpoints for 1000 into C:\\Users\\User\\AppData\\Local\\Temp\\tmpuqnu56t5\\model.ckpt.\n",
      "INFO:tensorflow:Calling checkpoint listeners after saving checkpoint 1000...\n",
      "INFO:tensorflow:Loss for final step: 48.298767.\n"
     ]
    },
    {
     "data": {
      "text/plain": [
       "<tensorflow_estimator.python.estimator.canned.linear.LinearClassifierV2 at 0x1d1c220a940>"
      ]
     },
     "execution_count": 21,
     "metadata": {},
     "output_type": "execute_result"
    }
   ],
   "source": [
    "model.train(input_fn=get_input_fn(df_train, num_epochs=None, n_batch=128, shuffle=False), steps=1000)"
   ]
  },
  {
   "cell_type": "code",
   "execution_count": 22,
   "id": "0a5c0d84-b4c3-42ee-a8bd-425f079d9ba3",
   "metadata": {},
   "outputs": [
    {
     "name": "stdout",
     "output_type": "stream",
     "text": [
      "INFO:tensorflow:Calling model_fn.\n",
      "INFO:tensorflow:Done calling model_fn.\n",
      "INFO:tensorflow:Starting evaluation at 2024-05-24T14:11:46\n",
      "INFO:tensorflow:Graph was finalized.\n",
      "INFO:tensorflow:Restoring parameters from C:\\Users\\User\\AppData\\Local\\Temp\\tmpuqnu56t5\\model.ckpt-1000\n",
      "INFO:tensorflow:Running local_init_op.\n",
      "INFO:tensorflow:Done running local_init_op.\n",
      "INFO:tensorflow:Evaluation [100/1000]\n",
      "INFO:tensorflow:Inference Time : 2.15169s\n",
      "INFO:tensorflow:Finished evaluation at 2024-05-24-14:11:48\n",
      "INFO:tensorflow:Saving dict for global step 1000: accuracy = 0.7955286, accuracy_baseline = 0.76377374, auc = 0.5896633, auc_precision_recall = 0.3941741, average_loss = 192.34283, global_step = 1000, label/mean = 0.23622629, loss = 191.74767, precision = 0.7561943, prediction/mean = 0.06195408, recall = 0.19838792\n",
      "INFO:tensorflow:Saving 'checkpoint_path' summary for global step 1000: C:\\Users\\User\\AppData\\Local\\Temp\\tmpuqnu56t5\\model.ckpt-1000\n"
     ]
    },
    {
     "data": {
      "text/plain": [
       "{'accuracy': 0.7955286,\n",
       " 'accuracy_baseline': 0.76377374,\n",
       " 'auc': 0.5896633,\n",
       " 'auc_precision_recall': 0.3941741,\n",
       " 'average_loss': 192.34283,\n",
       " 'label/mean': 0.23622629,\n",
       " 'loss': 191.74767,\n",
       " 'precision': 0.7561943,\n",
       " 'prediction/mean': 0.06195408,\n",
       " 'recall': 0.19838792,\n",
       " 'global_step': 1000}"
      ]
     },
     "execution_count": 22,
     "metadata": {},
     "output_type": "execute_result"
    }
   ],
   "source": [
    "model.evaluate(input_fn=get_input_fn(df_test, num_epochs=1, n_batch=128, shuffle=False), steps=1000)"
   ]
  },
  {
   "cell_type": "code",
   "execution_count": 23,
   "id": "73b20652-9407-4888-b7ba-9a4c38b505bb",
   "metadata": {},
   "outputs": [],
   "source": [
    "#Salary is 0 at a very one age and then keeps increasing. Close to retirement it again decreases. Hence we square age.\n",
    "def square_var(df_t, df_te, var_name='age'):\n",
    "    df_t['new'] = df_t[var_name].pow(2)\n",
    "    df_te['new'] = df_te[var_name].pow(2)\n",
    "    return df_t, df_te"
   ]
  },
  {
   "cell_type": "code",
   "execution_count": 24,
   "id": "afecdba7-c6ce-4bfc-8e58-0bce3c09c51e",
   "metadata": {},
   "outputs": [],
   "source": [
    "df_train_new, df_test_new = square_var(df_train, df_test, var_name='age')"
   ]
  },
  {
   "cell_type": "code",
   "execution_count": 25,
   "id": "106e8cc3-afe3-4116-9134-c7fc5b20991d",
   "metadata": {},
   "outputs": [
    {
     "name": "stdout",
     "output_type": "stream",
     "text": [
      "(32561, 16) (16281, 16)\n"
     ]
    }
   ],
   "source": [
    "print(df_train_new.shape, df_test_new.shape)"
   ]
  },
  {
   "cell_type": "code",
   "execution_count": 26,
   "id": "e700c0c7-ef97-4213-a214-fa72ef00a75b",
   "metadata": {},
   "outputs": [],
   "source": [
    "CONTI_FEATURES_NEW = ['age', 'fnlwgt', 'capital_gain', 'education_num', 'capital_loss', 'hours_week', 'new']\n",
    "continous_features_new = [tf.feature_column.numeric_column(k) for k in CONTI_FEATURES_NEW]"
   ]
  },
  {
   "cell_type": "code",
   "execution_count": 27,
   "id": "7c2c122a-0a14-4363-a39d-8e3e6da6891f",
   "metadata": {},
   "outputs": [
    {
     "name": "stdout",
     "output_type": "stream",
     "text": [
      "INFO:tensorflow:Using default config.\n",
      "WARNING:tensorflow:Using temporary folder as model directory: C:\\Users\\User\\AppData\\Local\\Temp\\tmpitrcukic\n",
      "INFO:tensorflow:Using config: {'_model_dir': 'C:\\\\Users\\\\User\\\\AppData\\\\Local\\\\Temp\\\\tmpitrcukic', '_tf_random_seed': None, '_save_summary_steps': 100, '_save_checkpoints_steps': None, '_save_checkpoints_secs': 600, '_session_config': allow_soft_placement: true\n",
      "graph_options {\n",
      "  rewrite_options {\n",
      "    meta_optimizer_iterations: ONE\n",
      "  }\n",
      "}\n",
      ", '_keep_checkpoint_max': 5, '_keep_checkpoint_every_n_hours': 10000, '_log_step_count_steps': 100, '_train_distribute': None, '_device_fn': None, '_protocol': None, '_eval_distribute': None, '_experimental_distribute': None, '_experimental_max_worker_delay_secs': None, '_session_creation_timeout_secs': 7200, '_checkpoint_save_graph_def': True, '_service': None, '_cluster_spec': ClusterSpec({}), '_task_type': 'worker', '_task_id': 0, '_global_id_in_cluster': 0, '_master': '', '_evaluation_master': '', '_is_chief': True, '_num_ps_replicas': 0, '_num_worker_replicas': 1}\n"
     ]
    }
   ],
   "source": [
    "model_1 = tf.estimator.LinearClassifier(feature_columns=categorical_features+continous_features_new)"
   ]
  },
  {
   "cell_type": "code",
   "execution_count": 28,
   "id": "d72dfe4d-c7e1-4d03-943d-547e419560e4",
   "metadata": {},
   "outputs": [],
   "source": [
    "FEATURES_NEW = ['age', 'workclass', 'fnlwgt', 'education', 'education_num', 'marital', 'occupation', 'relationship', 'race', 'sex', 'capital_gain', \n",
    "            'capital_loss', 'hours_week', 'native_country', 'new']\n",
    "def get_input_fn(data_set, num_epochs=None, n_batch=128, shuffle=True):\n",
    "    return tf.compat.v1.estimator.inputs.pandas_input_fn(\n",
    "        x = pd.DataFrame({k:data_set[k].values for k in FEATURES_NEW}),\n",
    "        y = pd.Series(data_set[LABEL].values),\n",
    "        batch_size = n_batch,\n",
    "        num_epochs = num_epochs,\n",
    "        shuffle=shuffle\n",
    "    )"
   ]
  },
  {
   "cell_type": "code",
   "execution_count": 29,
   "id": "90aca44b-de0a-4589-87c9-9bdc70b88969",
   "metadata": {},
   "outputs": [
    {
     "name": "stdout",
     "output_type": "stream",
     "text": [
      "INFO:tensorflow:Calling model_fn.\n",
      "INFO:tensorflow:Done calling model_fn.\n",
      "INFO:tensorflow:Create CheckpointSaverHook.\n",
      "INFO:tensorflow:Graph was finalized.\n",
      "INFO:tensorflow:Running local_init_op.\n",
      "INFO:tensorflow:Done running local_init_op.\n",
      "INFO:tensorflow:Calling checkpoint listeners before saving checkpoint 0...\n",
      "INFO:tensorflow:Saving checkpoints for 0 into C:\\Users\\User\\AppData\\Local\\Temp\\tmpitrcukic\\model.ckpt.\n",
      "INFO:tensorflow:Calling checkpoint listeners after saving checkpoint 0...\n",
      "INFO:tensorflow:loss = 0.6931472, step = 0\n",
      "INFO:tensorflow:global_step/sec: 94.6468\n",
      "INFO:tensorflow:loss = 646.6163, step = 100 (1.057 sec)\n",
      "INFO:tensorflow:global_step/sec: 122.23\n",
      "INFO:tensorflow:loss = 182.25908, step = 200 (0.818 sec)\n",
      "INFO:tensorflow:global_step/sec: 121.01\n",
      "INFO:tensorflow:loss = 827.76324, step = 300 (0.826 sec)\n",
      "INFO:tensorflow:global_step/sec: 120.99\n",
      "INFO:tensorflow:loss = 86.20713, step = 400 (0.827 sec)\n",
      "INFO:tensorflow:global_step/sec: 117.806\n",
      "INFO:tensorflow:loss = 133.08643, step = 500 (0.849 sec)\n",
      "INFO:tensorflow:global_step/sec: 118.498\n",
      "INFO:tensorflow:loss = 250.70242, step = 600 (0.844 sec)\n",
      "INFO:tensorflow:global_step/sec: 118.531\n",
      "INFO:tensorflow:loss = 108.17467, step = 700 (0.844 sec)\n",
      "INFO:tensorflow:global_step/sec: 117.353\n",
      "INFO:tensorflow:loss = 199.43625, step = 800 (0.852 sec)\n",
      "INFO:tensorflow:global_step/sec: 118.893\n",
      "INFO:tensorflow:loss = 151.59805, step = 900 (0.841 sec)\n",
      "INFO:tensorflow:Calling checkpoint listeners before saving checkpoint 1000...\n",
      "INFO:tensorflow:Saving checkpoints for 1000 into C:\\Users\\User\\AppData\\Local\\Temp\\tmpitrcukic\\model.ckpt.\n",
      "INFO:tensorflow:Calling checkpoint listeners after saving checkpoint 1000...\n",
      "INFO:tensorflow:Loss for final step: 249.57668.\n"
     ]
    },
    {
     "data": {
      "text/plain": [
       "<tensorflow_estimator.python.estimator.canned.linear.LinearClassifierV2 at 0x1d1873cd190>"
      ]
     },
     "execution_count": 29,
     "metadata": {},
     "output_type": "execute_result"
    }
   ],
   "source": [
    "model_1.train(input_fn=get_input_fn(df_train, num_epochs=None, n_batch=128, shuffle=False), steps=1000)"
   ]
  },
  {
   "cell_type": "code",
   "execution_count": 30,
   "id": "f89a2ad9-be7b-45ee-9f04-ab671a606f04",
   "metadata": {},
   "outputs": [
    {
     "name": "stdout",
     "output_type": "stream",
     "text": [
      "INFO:tensorflow:Calling model_fn.\n",
      "INFO:tensorflow:Done calling model_fn.\n",
      "INFO:tensorflow:Starting evaluation at 2024-05-24T14:12:01\n",
      "INFO:tensorflow:Graph was finalized.\n",
      "INFO:tensorflow:Restoring parameters from C:\\Users\\User\\AppData\\Local\\Temp\\tmpitrcukic\\model.ckpt-1000\n",
      "INFO:tensorflow:Running local_init_op.\n",
      "INFO:tensorflow:Done running local_init_op.\n",
      "INFO:tensorflow:Evaluation [100/1000]\n",
      "INFO:tensorflow:Inference Time : 2.07896s\n",
      "INFO:tensorflow:Finished evaluation at 2024-05-24-14:12:03\n",
      "INFO:tensorflow:Saving dict for global step 1000: accuracy = 0.79319453, accuracy_baseline = 0.76377374, auc = 0.6049647, auc_precision_recall = 0.396361, average_loss = 141.40201, global_step = 1000, label/mean = 0.23622629, loss = 141.08281, precision = 0.6687808, prediction/mean = 0.08702526, recall = 0.24674986\n",
      "INFO:tensorflow:Saving 'checkpoint_path' summary for global step 1000: C:\\Users\\User\\AppData\\Local\\Temp\\tmpitrcukic\\model.ckpt-1000\n"
     ]
    },
    {
     "data": {
      "text/plain": [
       "{'accuracy': 0.79319453,\n",
       " 'accuracy_baseline': 0.76377374,\n",
       " 'auc': 0.6049647,\n",
       " 'auc_precision_recall': 0.396361,\n",
       " 'average_loss': 141.40201,\n",
       " 'label/mean': 0.23622629,\n",
       " 'loss': 141.08281,\n",
       " 'precision': 0.6687808,\n",
       " 'prediction/mean': 0.08702526,\n",
       " 'recall': 0.24674986,\n",
       " 'global_step': 1000}"
      ]
     },
     "execution_count": 30,
     "metadata": {},
     "output_type": "execute_result"
    }
   ],
   "source": [
    "model_1.evaluate(input_fn=get_input_fn(df_test_new, num_epochs=1, n_batch=128, shuffle=False), steps=1000)"
   ]
  },
  {
   "cell_type": "code",
   "execution_count": 32,
   "id": "874cbc7f-8736-4ecb-90e2-b76781e187ff",
   "metadata": {},
   "outputs": [
    {
     "name": "stdout",
     "output_type": "stream",
     "text": [
      "INFO:tensorflow:Calling model_fn.\n",
      "INFO:tensorflow:Done calling model_fn.\n",
      "INFO:tensorflow:Graph was finalized.\n",
      "INFO:tensorflow:Restoring parameters from C:\\Users\\User\\AppData\\Local\\Temp\\tmpitrcukic\\model.ckpt-1000\n",
      "INFO:tensorflow:Running local_init_op.\n",
      "INFO:tensorflow:Done running local_init_op.\n"
     ]
    }
   ],
   "source": [
    "predictions = list(model_1.predict(input_fn=get_input_fn(df_test_new, num_epochs=1, n_batch=128, shuffle=True)))"
   ]
  },
  {
   "cell_type": "code",
   "execution_count": 33,
   "id": "3e6df982-19c7-4ea4-a265-72ee58b44932",
   "metadata": {},
   "outputs": [
    {
     "name": "stdout",
     "output_type": "stream",
     "text": [
      "age                              25\n",
      "workclass                   Private\n",
      "fnlwgt                       226802\n",
      "education                      11th\n",
      "education_num                     7\n",
      "marital               Never-married\n",
      "occupation        Machine-op-inspct\n",
      "relationship              Own-child\n",
      "race                          Black\n",
      "sex                            Male\n",
      "capital_gain                      0\n",
      "capital_loss                      0\n",
      "hours_week                       40\n",
      "native_country        United-States\n",
      "label                             0\n",
      "new                             625\n",
      "Name: 0, dtype: object\n"
     ]
    }
   ],
   "source": [
    "print(df_test_new.iloc[0])"
   ]
  },
  {
   "cell_type": "code",
   "execution_count": 34,
   "id": "dbc28cec-015f-4754-8466-8f8848ac405b",
   "metadata": {},
   "outputs": [
    {
     "name": "stdout",
     "output_type": "stream",
     "text": [
      "{'logits': array([-130.25336], dtype=float32), 'logistic': array([0.], dtype=float32), 'probabilities': array([1., 0.], dtype=float32), 'class_ids': array([0], dtype=int64), 'classes': array([b'0'], dtype=object), 'all_class_ids': array([0, 1]), 'all_classes': array([b'0', b'1'], dtype=object)}\n"
     ]
    }
   ],
   "source": [
    "print(predictions[0])"
   ]
  },
  {
   "cell_type": "code",
   "execution_count": 35,
   "id": "00b07313-aec6-4034-8114-288c08a9bac2",
   "metadata": {},
   "outputs": [
    {
     "name": "stdout",
     "output_type": "stream",
     "text": [
      "age                               44\n",
      "workclass                    Private\n",
      "fnlwgt                        160323\n",
      "education               Some-college\n",
      "education_num                     10\n",
      "marital           Married-civ-spouse\n",
      "occupation         Machine-op-inspct\n",
      "relationship                 Husband\n",
      "race                           Black\n",
      "sex                             Male\n",
      "capital_gain                    7688\n",
      "capital_loss                       0\n",
      "hours_week                        40\n",
      "native_country         United-States\n",
      "label                              1\n",
      "new                             1936\n",
      "Name: 3, dtype: object\n",
      "{'logits': array([-413.1365], dtype=float32), 'logistic': array([0.], dtype=float32), 'probabilities': array([1., 0.], dtype=float32), 'class_ids': array([0], dtype=int64), 'classes': array([b'0'], dtype=object), 'all_class_ids': array([0, 1]), 'all_classes': array([b'0', b'1'], dtype=object)}\n"
     ]
    }
   ],
   "source": [
    "print(df_test_new.iloc[3])\n",
    "print(predictions[3])"
   ]
  },
  {
   "cell_type": "code",
   "execution_count": null,
   "id": "e1bc6d41-0dd5-4245-bc18-dc9b191dd083",
   "metadata": {},
   "outputs": [],
   "source": []
  }
 ],
 "metadata": {
  "kernelspec": {
   "display_name": "Python 3 (ipykernel)",
   "language": "python",
   "name": "python3"
  },
  "language_info": {
   "codemirror_mode": {
    "name": "ipython",
    "version": 3
   },
   "file_extension": ".py",
   "mimetype": "text/x-python",
   "name": "python",
   "nbconvert_exporter": "python",
   "pygments_lexer": "ipython3",
   "version": "3.9.18"
  }
 },
 "nbformat": 4,
 "nbformat_minor": 5
}
