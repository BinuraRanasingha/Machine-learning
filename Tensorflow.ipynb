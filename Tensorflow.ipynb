{
 "cells": [
  {
   "cell_type": "code",
   "execution_count": 1,
   "id": "02a31f11-d6c1-4b2b-b201-73a870cce830",
   "metadata": {},
   "outputs": [],
   "source": [
    "import tensorflow as tf"
   ]
  },
  {
   "cell_type": "code",
   "execution_count": 2,
   "id": "b9249a83-4f43-4c08-b47d-1ecad7ab2f11",
   "metadata": {},
   "outputs": [],
   "source": [
    "mnist = tf.keras.datasets.mnist"
   ]
  },
  {
   "cell_type": "code",
   "execution_count": 3,
   "id": "50d1b189-7409-4aee-82d7-023b4ac6c926",
   "metadata": {},
   "outputs": [
    {
     "name": "stdout",
     "output_type": "stream",
     "text": [
      "Downloading data from https://storage.googleapis.com/tensorflow/tf-keras-datasets/mnist.npz\n",
      "11490434/11490434 [==============================] - 111s 10us/step\n"
     ]
    }
   ],
   "source": [
    "(x_train, y_train), (x_test, y_test) = mnist.load_data()\n",
    "x_train, x_test =  x_train/255, x_test/255"
   ]
  },
  {
   "cell_type": "code",
   "execution_count": 4,
   "id": "0dccadc7-a151-472c-b091-979bdea50e25",
   "metadata": {},
   "outputs": [],
   "source": [
    "model = tf.keras.models.Sequential([tf.keras.layers.Flatten(input_shape=(28,28)),\n",
    "                                   tf.keras.layers.Dense(128,activation='relu'),\n",
    "                                   tf.keras.layers.Dropout(0.2),\n",
    "                                   tf.keras.layers.Dense(10)])"
   ]
  },
  {
   "cell_type": "code",
   "execution_count": 5,
   "id": "80187fa7-983a-4cea-bb5c-45988b1fdeb8",
   "metadata": {},
   "outputs": [
    {
     "data": {
      "text/plain": [
       "array([[-1.0032722 ,  0.05366036,  0.1226189 , -0.17807682, -0.4587707 ,\n",
       "         0.13446796,  0.34530583,  0.03783198, -0.69606626, -0.17824742]],\n",
       "      dtype=float32)"
      ]
     },
     "execution_count": 5,
     "metadata": {},
     "output_type": "execute_result"
    }
   ],
   "source": [
    "predictions = model(x_train[:1]).numpy()\n",
    "predictions"
   ]
  },
  {
   "cell_type": "code",
   "execution_count": 6,
   "id": "0cda251b-c03d-4562-a358-a951baceafa5",
   "metadata": {},
   "outputs": [
    {
     "data": {
      "text/plain": [
       "array([[0.04096325, 0.11787302, 0.12628818, 0.09349152, 0.07061035,\n",
       "        0.12779348, 0.15778816, 0.11602196, 0.05569449, 0.09347557]],\n",
       "      dtype=float32)"
      ]
     },
     "execution_count": 6,
     "metadata": {},
     "output_type": "execute_result"
    }
   ],
   "source": [
    "tf.nn.softmax(predictions).numpy()"
   ]
  },
  {
   "cell_type": "code",
   "execution_count": 7,
   "id": "3ed69fa9-fa08-4ec3-a567-59ba8e633757",
   "metadata": {},
   "outputs": [
    {
     "data": {
      "text/plain": [
       "2.05734"
      ]
     },
     "execution_count": 7,
     "metadata": {},
     "output_type": "execute_result"
    }
   ],
   "source": [
    "loss_fn = tf.keras.losses.SparseCategoricalCrossentropy(from_logits=True)\n",
    "loss_fn(y_train[:1], predictions).numpy()"
   ]
  },
  {
   "cell_type": "code",
   "execution_count": 8,
   "id": "4d3f3d36-00f0-4620-aa38-67a9ba06566e",
   "metadata": {},
   "outputs": [],
   "source": [
    "model.compile(optimizer='adam', loss=loss_fn, metrics=['accuracy'])"
   ]
  },
  {
   "cell_type": "code",
   "execution_count": 9,
   "id": "4f064a60-017e-4867-a181-ab2bbc16ea7a",
   "metadata": {},
   "outputs": [
    {
     "name": "stdout",
     "output_type": "stream",
     "text": [
      "Epoch 1/5\n",
      "1875/1875 [==============================] - 10s 5ms/step - loss: 0.2987 - accuracy: 0.9127\n",
      "Epoch 2/5\n",
      "1875/1875 [==============================] - 9s 5ms/step - loss: 0.1466 - accuracy: 0.9562\n",
      "Epoch 3/5\n",
      "1875/1875 [==============================] - 9s 5ms/step - loss: 0.1107 - accuracy: 0.9662\n",
      "Epoch 4/5\n",
      "1875/1875 [==============================] - 9s 5ms/step - loss: 0.0884 - accuracy: 0.9727\n",
      "Epoch 5/5\n",
      "1875/1875 [==============================] - 9s 5ms/step - loss: 0.0749 - accuracy: 0.9766\n"
     ]
    },
    {
     "data": {
      "text/plain": [
       "<keras.callbacks.History at 0x1e0710bba30>"
      ]
     },
     "execution_count": 9,
     "metadata": {},
     "output_type": "execute_result"
    }
   ],
   "source": [
    "model.fit(x_train,y_train,epochs=5)"
   ]
  },
  {
   "cell_type": "code",
   "execution_count": 10,
   "id": "33841b5e-397c-447b-be58-e651c849688f",
   "metadata": {},
   "outputs": [
    {
     "name": "stdout",
     "output_type": "stream",
     "text": [
      "313/313 - 2s - loss: 0.0752 - accuracy: 0.9779 - 2s/epoch - 5ms/step\n"
     ]
    },
    {
     "data": {
      "text/plain": [
       "[0.07516475021839142, 0.977899968624115]"
      ]
     },
     "execution_count": 10,
     "metadata": {},
     "output_type": "execute_result"
    }
   ],
   "source": [
    "model.evaluate(x_test,y_test,verbose=2)"
   ]
  },
  {
   "cell_type": "code",
   "execution_count": 11,
   "id": "37e1482f-1ff8-40f9-a68d-6a3e502ad310",
   "metadata": {},
   "outputs": [
    {
     "data": {
      "text/plain": [
       "<tf.Tensor: shape=(3, 10), dtype=float32, numpy=\n",
       "array([[3.14281827e-08, 1.90390836e-09, 4.42388085e-07, 1.62702599e-05,\n",
       "        5.22675445e-11, 3.71133559e-08, 8.96983090e-14, 9.99980688e-01,\n",
       "        1.04208873e-07, 2.42459464e-06],\n",
       "       [2.24503985e-10, 1.23066144e-04, 9.99690652e-01, 1.82915450e-04,\n",
       "        5.17328814e-17, 3.27999578e-06, 2.65542005e-10, 3.89444404e-15,\n",
       "        1.42470810e-07, 5.14101099e-15],\n",
       "       [1.26541210e-07, 9.98928130e-01, 6.68569846e-05, 2.64313712e-05,\n",
       "        2.28596673e-06, 2.28848558e-06, 1.12003045e-05, 8.62291199e-04,\n",
       "        9.95529408e-05, 7.77254741e-07]], dtype=float32)>"
      ]
     },
     "execution_count": 11,
     "metadata": {},
     "output_type": "execute_result"
    }
   ],
   "source": [
    "probability_model = tf.keras.Sequential([model, tf.keras.layers.Softmax()])\n",
    "probability_model(x_test[:3])"
   ]
  },
  {
   "cell_type": "code",
   "execution_count": null,
   "id": "47070621-b8b3-4a36-9b03-f02b4bebb81e",
   "metadata": {},
   "outputs": [],
   "source": []
  }
 ],
 "metadata": {
  "kernelspec": {
   "display_name": "Python 3 (ipykernel)",
   "language": "python",
   "name": "python3"
  },
  "language_info": {
   "codemirror_mode": {
    "name": "ipython",
    "version": 3
   },
   "file_extension": ".py",
   "mimetype": "text/x-python",
   "name": "python",
   "nbconvert_exporter": "python",
   "pygments_lexer": "ipython3",
   "version": "3.9.18"
  }
 },
 "nbformat": 4,
 "nbformat_minor": 5
}
