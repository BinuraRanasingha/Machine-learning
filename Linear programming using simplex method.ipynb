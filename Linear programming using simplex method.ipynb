{
 "cells": [
  {
   "cell_type": "markdown",
   "id": "0710fbb2",
   "metadata": {},
   "source": [
    "**Maximize** P = 8R + 12T + 22M\n",
    "\n",
    "**Subjected to:**\n",
    "\n",
    "17R + 27T + 34M <= 91800\n",
    "\n",
    "12R + 21T + 15M <= 42000\n",
    "\n",
    "R>=0, T>=0, M>=0"
   ]
  },
  {
   "cell_type": "code",
   "execution_count": 2,
   "id": "5a105700",
   "metadata": {},
   "outputs": [],
   "source": [
    "#Importing the necessary libraries\n",
    "import numpy as np\n",
    "import scipy as sp\n",
    "from scipy.optimize import linprog"
   ]
  },
  {
   "cell_type": "code",
   "execution_count": 3,
   "id": "ced2aff2",
   "metadata": {},
   "outputs": [],
   "source": [
    "#Getting the matrices\n",
    "c = [-8,-12,-22]\n",
    "A = [[17,27,34],[12,21,15]]\n",
    "b = [91800,42000]"
   ]
  },
  {
   "cell_type": "code",
   "execution_count": 4,
   "id": "bf2547b8",
   "metadata": {},
   "outputs": [],
   "source": [
    "#Defining the upper bound and the lower bound \n",
    "R = (0,None)\n",
    "T = (0,None)\n",
    "M = (0,None)"
   ]
  },
  {
   "cell_type": "code",
   "execution_count": 5,
   "id": "3cbc9ef0",
   "metadata": {},
   "outputs": [
    {
     "name": "stdout",
     "output_type": "stream",
     "text": [
      "Optimization terminated successfully.\n",
      "         Current function value: -59400.000000\n",
      "         Iterations: 3\n",
      "     con: array([], dtype=float64)\n",
      "     fun: -59400.0\n",
      " message: 'Optimization terminated successfully.'\n",
      "     nit: 3\n",
      "   slack: array([   0., 1500.])\n",
      "  status: 0\n",
      " success: True\n",
      "       x: array([   0.,    0., 2700.])\n"
     ]
    },
    {
     "name": "stderr",
     "output_type": "stream",
     "text": [
      "C:\\Users\\binur\\AppData\\Local\\Temp\\ipykernel_16688\\2817417154.py:2: DeprecationWarning: `method='simplex'` is deprecated and will be removed in SciPy 1.11.0. Please use one of the HiGHS solvers (e.g. `method='highs'`) in new code.\n",
      "  res = linprog(c, A_ub=A, b_ub=b, bounds=(R,T,M), method='simplex', options={\"disp\":True})\n"
     ]
    }
   ],
   "source": [
    "#Solving the problem by simplex method in optimization\n",
    "res = linprog(c, A_ub=A, b_ub=b, bounds=(R,T,M), method='simplex', options={\"disp\":True})\n",
    "print(res)"
   ]
  },
  {
   "cell_type": "code",
   "execution_count": null,
   "id": "864f78fd",
   "metadata": {},
   "outputs": [],
   "source": []
  }
 ],
 "metadata": {
  "kernelspec": {
   "display_name": "Python 3 (ipykernel)",
   "language": "python",
   "name": "python3"
  },
  "language_info": {
   "codemirror_mode": {
    "name": "ipython",
    "version": 3
   },
   "file_extension": ".py",
   "mimetype": "text/x-python",
   "name": "python",
   "nbconvert_exporter": "python",
   "pygments_lexer": "ipython3",
   "version": "3.9.15"
  }
 },
 "nbformat": 4,
 "nbformat_minor": 5
}
